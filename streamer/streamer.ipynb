{
 "cells": [
  {
   "cell_type": "markdown",
   "metadata": {},
   "source": [
    "# «Стримчик»: анализ и проверка гипотез"
   ]
  },
  {
   "cell_type": "markdown",
   "metadata": {},
   "source": [
    "«Стримчик»: анализ и проверка гипотез\n",
    "\n",
    "Данный проект подразумевает проведение анализа данных интернет-магазина компьютерных игр с последующим поиском ответов на интересующие заказчика вопросы.\n",
    "\n",
    "Цель проекта заключается в поиске закономерностей, опредлеяющих успешность игры, а также проверке двух гипотез:\n",
    "\n",
    "\"Средние пользовательские рейтинги платформ Xbox One и PC одинаковые\"\n",
    "\n",
    "\"Средние пользовательские рейтинги жанров Action (англ. «действие», экшен-игры) и Sports (англ. «спортивные соревнования») разные?\"\n",
    "\n",
    "Предоставленные для исследования данные содержат информацию о продажах компьютерных игра в разрезе: жанров, платформ, регионов.\n",
    "\n",
    "План работы:\n",
    "\n",
    "Загрузка и предобработка данных (Деление на подразделы осуществляется в соответсвии с выполняемыми по операциями)\n",
    "\n",
    "Описание и визуализация данных (Деление на подразделы осуществляется в соответсвии с выполняемыми по операциями)\n",
    "\n",
    "Поиск ответов на поставленные перед исследованием вопросы (Деление на подразделы осуществляется в соответсвии с выполняемыми по операциями)\n",
    "\n",
    "Формулирование общего вывода по исследованию"
   ]
  },
  {
   "cell_type": "markdown",
   "metadata": {},
   "source": [
    "## Загрузка и предобработка данных"
   ]
  },
  {
   "cell_type": "markdown",
   "metadata": {},
   "source": [
    "### Импортируемые библиотеки"
   ]
  },
  {
   "cell_type": "code",
   "execution_count": 1,
   "metadata": {},
   "outputs": [],
   "source": [
    "import pandas as pd\n",
    "import matplotlib.pyplot as plt \n",
    "from scipy import stats as st\n",
    "import numpy as np"
   ]
  },
  {
   "cell_type": "markdown",
   "metadata": {},
   "source": [
    "### Загрузка и общее описание данных"
   ]
  },
  {
   "cell_type": "markdown",
   "metadata": {},
   "source": [
    "Импортирую библиотеку pandas. Считываю данные из csv-файла в датафрейм и сохраняю в переменную games"
   ]
  },
  {
   "cell_type": "code",
   "execution_count": 2,
   "metadata": {},
   "outputs": [],
   "source": [
    "games = pd.read_csv('/datasets/games.csv')"
   ]
  },
  {
   "cell_type": "markdown",
   "metadata": {},
   "source": [
    "Вывожу первые строки набора данных. Изучаю общую информацию."
   ]
  },
  {
   "cell_type": "code",
   "execution_count": 3,
   "metadata": {},
   "outputs": [
    {
     "data": {
      "text/html": [
       "<div>\n",
       "<style scoped>\n",
       "    .dataframe tbody tr th:only-of-type {\n",
       "        vertical-align: middle;\n",
       "    }\n",
       "\n",
       "    .dataframe tbody tr th {\n",
       "        vertical-align: top;\n",
       "    }\n",
       "\n",
       "    .dataframe thead th {\n",
       "        text-align: right;\n",
       "    }\n",
       "</style>\n",
       "<table border=\"1\" class=\"dataframe\">\n",
       "  <thead>\n",
       "    <tr style=\"text-align: right;\">\n",
       "      <th></th>\n",
       "      <th>Name</th>\n",
       "      <th>Platform</th>\n",
       "      <th>Year_of_Release</th>\n",
       "      <th>Genre</th>\n",
       "      <th>NA_sales</th>\n",
       "      <th>EU_sales</th>\n",
       "      <th>JP_sales</th>\n",
       "      <th>Other_sales</th>\n",
       "      <th>Critic_Score</th>\n",
       "      <th>User_Score</th>\n",
       "      <th>Rating</th>\n",
       "    </tr>\n",
       "  </thead>\n",
       "  <tbody>\n",
       "    <tr>\n",
       "      <th>0</th>\n",
       "      <td>Wii Sports</td>\n",
       "      <td>Wii</td>\n",
       "      <td>2006.0</td>\n",
       "      <td>Sports</td>\n",
       "      <td>41.36</td>\n",
       "      <td>28.96</td>\n",
       "      <td>3.77</td>\n",
       "      <td>8.45</td>\n",
       "      <td>76.0</td>\n",
       "      <td>8</td>\n",
       "      <td>E</td>\n",
       "    </tr>\n",
       "    <tr>\n",
       "      <th>1</th>\n",
       "      <td>Super Mario Bros.</td>\n",
       "      <td>NES</td>\n",
       "      <td>1985.0</td>\n",
       "      <td>Platform</td>\n",
       "      <td>29.08</td>\n",
       "      <td>3.58</td>\n",
       "      <td>6.81</td>\n",
       "      <td>0.77</td>\n",
       "      <td>NaN</td>\n",
       "      <td>NaN</td>\n",
       "      <td>NaN</td>\n",
       "    </tr>\n",
       "    <tr>\n",
       "      <th>2</th>\n",
       "      <td>Mario Kart Wii</td>\n",
       "      <td>Wii</td>\n",
       "      <td>2008.0</td>\n",
       "      <td>Racing</td>\n",
       "      <td>15.68</td>\n",
       "      <td>12.76</td>\n",
       "      <td>3.79</td>\n",
       "      <td>3.29</td>\n",
       "      <td>82.0</td>\n",
       "      <td>8.3</td>\n",
       "      <td>E</td>\n",
       "    </tr>\n",
       "    <tr>\n",
       "      <th>3</th>\n",
       "      <td>Wii Sports Resort</td>\n",
       "      <td>Wii</td>\n",
       "      <td>2009.0</td>\n",
       "      <td>Sports</td>\n",
       "      <td>15.61</td>\n",
       "      <td>10.93</td>\n",
       "      <td>3.28</td>\n",
       "      <td>2.95</td>\n",
       "      <td>80.0</td>\n",
       "      <td>8</td>\n",
       "      <td>E</td>\n",
       "    </tr>\n",
       "    <tr>\n",
       "      <th>4</th>\n",
       "      <td>Pokemon Red/Pokemon Blue</td>\n",
       "      <td>GB</td>\n",
       "      <td>1996.0</td>\n",
       "      <td>Role-Playing</td>\n",
       "      <td>11.27</td>\n",
       "      <td>8.89</td>\n",
       "      <td>10.22</td>\n",
       "      <td>1.00</td>\n",
       "      <td>NaN</td>\n",
       "      <td>NaN</td>\n",
       "      <td>NaN</td>\n",
       "    </tr>\n",
       "    <tr>\n",
       "      <th>5</th>\n",
       "      <td>Tetris</td>\n",
       "      <td>GB</td>\n",
       "      <td>1989.0</td>\n",
       "      <td>Puzzle</td>\n",
       "      <td>23.20</td>\n",
       "      <td>2.26</td>\n",
       "      <td>4.22</td>\n",
       "      <td>0.58</td>\n",
       "      <td>NaN</td>\n",
       "      <td>NaN</td>\n",
       "      <td>NaN</td>\n",
       "    </tr>\n",
       "    <tr>\n",
       "      <th>6</th>\n",
       "      <td>New Super Mario Bros.</td>\n",
       "      <td>DS</td>\n",
       "      <td>2006.0</td>\n",
       "      <td>Platform</td>\n",
       "      <td>11.28</td>\n",
       "      <td>9.14</td>\n",
       "      <td>6.50</td>\n",
       "      <td>2.88</td>\n",
       "      <td>89.0</td>\n",
       "      <td>8.5</td>\n",
       "      <td>E</td>\n",
       "    </tr>\n",
       "    <tr>\n",
       "      <th>7</th>\n",
       "      <td>Wii Play</td>\n",
       "      <td>Wii</td>\n",
       "      <td>2006.0</td>\n",
       "      <td>Misc</td>\n",
       "      <td>13.96</td>\n",
       "      <td>9.18</td>\n",
       "      <td>2.93</td>\n",
       "      <td>2.84</td>\n",
       "      <td>58.0</td>\n",
       "      <td>6.6</td>\n",
       "      <td>E</td>\n",
       "    </tr>\n",
       "    <tr>\n",
       "      <th>8</th>\n",
       "      <td>New Super Mario Bros. Wii</td>\n",
       "      <td>Wii</td>\n",
       "      <td>2009.0</td>\n",
       "      <td>Platform</td>\n",
       "      <td>14.44</td>\n",
       "      <td>6.94</td>\n",
       "      <td>4.70</td>\n",
       "      <td>2.24</td>\n",
       "      <td>87.0</td>\n",
       "      <td>8.4</td>\n",
       "      <td>E</td>\n",
       "    </tr>\n",
       "    <tr>\n",
       "      <th>9</th>\n",
       "      <td>Duck Hunt</td>\n",
       "      <td>NES</td>\n",
       "      <td>1984.0</td>\n",
       "      <td>Shooter</td>\n",
       "      <td>26.93</td>\n",
       "      <td>0.63</td>\n",
       "      <td>0.28</td>\n",
       "      <td>0.47</td>\n",
       "      <td>NaN</td>\n",
       "      <td>NaN</td>\n",
       "      <td>NaN</td>\n",
       "    </tr>\n",
       "    <tr>\n",
       "      <th>10</th>\n",
       "      <td>Nintendogs</td>\n",
       "      <td>DS</td>\n",
       "      <td>2005.0</td>\n",
       "      <td>Simulation</td>\n",
       "      <td>9.05</td>\n",
       "      <td>10.95</td>\n",
       "      <td>1.93</td>\n",
       "      <td>2.74</td>\n",
       "      <td>NaN</td>\n",
       "      <td>NaN</td>\n",
       "      <td>NaN</td>\n",
       "    </tr>\n",
       "    <tr>\n",
       "      <th>11</th>\n",
       "      <td>Mario Kart DS</td>\n",
       "      <td>DS</td>\n",
       "      <td>2005.0</td>\n",
       "      <td>Racing</td>\n",
       "      <td>9.71</td>\n",
       "      <td>7.47</td>\n",
       "      <td>4.13</td>\n",
       "      <td>1.90</td>\n",
       "      <td>91.0</td>\n",
       "      <td>8.6</td>\n",
       "      <td>E</td>\n",
       "    </tr>\n",
       "    <tr>\n",
       "      <th>12</th>\n",
       "      <td>Pokemon Gold/Pokemon Silver</td>\n",
       "      <td>GB</td>\n",
       "      <td>1999.0</td>\n",
       "      <td>Role-Playing</td>\n",
       "      <td>9.00</td>\n",
       "      <td>6.18</td>\n",
       "      <td>7.20</td>\n",
       "      <td>0.71</td>\n",
       "      <td>NaN</td>\n",
       "      <td>NaN</td>\n",
       "      <td>NaN</td>\n",
       "    </tr>\n",
       "    <tr>\n",
       "      <th>13</th>\n",
       "      <td>Wii Fit</td>\n",
       "      <td>Wii</td>\n",
       "      <td>2007.0</td>\n",
       "      <td>Sports</td>\n",
       "      <td>8.92</td>\n",
       "      <td>8.03</td>\n",
       "      <td>3.60</td>\n",
       "      <td>2.15</td>\n",
       "      <td>80.0</td>\n",
       "      <td>7.7</td>\n",
       "      <td>E</td>\n",
       "    </tr>\n",
       "    <tr>\n",
       "      <th>14</th>\n",
       "      <td>Kinect Adventures!</td>\n",
       "      <td>X360</td>\n",
       "      <td>2010.0</td>\n",
       "      <td>Misc</td>\n",
       "      <td>15.00</td>\n",
       "      <td>4.89</td>\n",
       "      <td>0.24</td>\n",
       "      <td>1.69</td>\n",
       "      <td>61.0</td>\n",
       "      <td>6.3</td>\n",
       "      <td>E</td>\n",
       "    </tr>\n",
       "    <tr>\n",
       "      <th>15</th>\n",
       "      <td>Wii Fit Plus</td>\n",
       "      <td>Wii</td>\n",
       "      <td>2009.0</td>\n",
       "      <td>Sports</td>\n",
       "      <td>9.01</td>\n",
       "      <td>8.49</td>\n",
       "      <td>2.53</td>\n",
       "      <td>1.77</td>\n",
       "      <td>80.0</td>\n",
       "      <td>7.4</td>\n",
       "      <td>E</td>\n",
       "    </tr>\n",
       "    <tr>\n",
       "      <th>16</th>\n",
       "      <td>Grand Theft Auto V</td>\n",
       "      <td>PS3</td>\n",
       "      <td>2013.0</td>\n",
       "      <td>Action</td>\n",
       "      <td>7.02</td>\n",
       "      <td>9.09</td>\n",
       "      <td>0.98</td>\n",
       "      <td>3.96</td>\n",
       "      <td>97.0</td>\n",
       "      <td>8.2</td>\n",
       "      <td>M</td>\n",
       "    </tr>\n",
       "    <tr>\n",
       "      <th>17</th>\n",
       "      <td>Grand Theft Auto: San Andreas</td>\n",
       "      <td>PS2</td>\n",
       "      <td>2004.0</td>\n",
       "      <td>Action</td>\n",
       "      <td>9.43</td>\n",
       "      <td>0.40</td>\n",
       "      <td>0.41</td>\n",
       "      <td>10.57</td>\n",
       "      <td>95.0</td>\n",
       "      <td>9</td>\n",
       "      <td>M</td>\n",
       "    </tr>\n",
       "    <tr>\n",
       "      <th>18</th>\n",
       "      <td>Super Mario World</td>\n",
       "      <td>SNES</td>\n",
       "      <td>1990.0</td>\n",
       "      <td>Platform</td>\n",
       "      <td>12.78</td>\n",
       "      <td>3.75</td>\n",
       "      <td>3.54</td>\n",
       "      <td>0.55</td>\n",
       "      <td>NaN</td>\n",
       "      <td>NaN</td>\n",
       "      <td>NaN</td>\n",
       "    </tr>\n",
       "    <tr>\n",
       "      <th>19</th>\n",
       "      <td>Brain Age: Train Your Brain in Minutes a Day</td>\n",
       "      <td>DS</td>\n",
       "      <td>2005.0</td>\n",
       "      <td>Misc</td>\n",
       "      <td>4.74</td>\n",
       "      <td>9.20</td>\n",
       "      <td>4.16</td>\n",
       "      <td>2.04</td>\n",
       "      <td>77.0</td>\n",
       "      <td>7.9</td>\n",
       "      <td>E</td>\n",
       "    </tr>\n",
       "  </tbody>\n",
       "</table>\n",
       "</div>"
      ],
      "text/plain": [
       "                                            Name Platform  Year_of_Release  \\\n",
       "0                                     Wii Sports      Wii           2006.0   \n",
       "1                              Super Mario Bros.      NES           1985.0   \n",
       "2                                 Mario Kart Wii      Wii           2008.0   \n",
       "3                              Wii Sports Resort      Wii           2009.0   \n",
       "4                       Pokemon Red/Pokemon Blue       GB           1996.0   \n",
       "5                                         Tetris       GB           1989.0   \n",
       "6                          New Super Mario Bros.       DS           2006.0   \n",
       "7                                       Wii Play      Wii           2006.0   \n",
       "8                      New Super Mario Bros. Wii      Wii           2009.0   \n",
       "9                                      Duck Hunt      NES           1984.0   \n",
       "10                                    Nintendogs       DS           2005.0   \n",
       "11                                 Mario Kart DS       DS           2005.0   \n",
       "12                   Pokemon Gold/Pokemon Silver       GB           1999.0   \n",
       "13                                       Wii Fit      Wii           2007.0   \n",
       "14                            Kinect Adventures!     X360           2010.0   \n",
       "15                                  Wii Fit Plus      Wii           2009.0   \n",
       "16                            Grand Theft Auto V      PS3           2013.0   \n",
       "17                 Grand Theft Auto: San Andreas      PS2           2004.0   \n",
       "18                             Super Mario World     SNES           1990.0   \n",
       "19  Brain Age: Train Your Brain in Minutes a Day       DS           2005.0   \n",
       "\n",
       "           Genre  NA_sales  EU_sales  JP_sales  Other_sales  Critic_Score  \\\n",
       "0         Sports     41.36     28.96      3.77         8.45          76.0   \n",
       "1       Platform     29.08      3.58      6.81         0.77           NaN   \n",
       "2         Racing     15.68     12.76      3.79         3.29          82.0   \n",
       "3         Sports     15.61     10.93      3.28         2.95          80.0   \n",
       "4   Role-Playing     11.27      8.89     10.22         1.00           NaN   \n",
       "5         Puzzle     23.20      2.26      4.22         0.58           NaN   \n",
       "6       Platform     11.28      9.14      6.50         2.88          89.0   \n",
       "7           Misc     13.96      9.18      2.93         2.84          58.0   \n",
       "8       Platform     14.44      6.94      4.70         2.24          87.0   \n",
       "9        Shooter     26.93      0.63      0.28         0.47           NaN   \n",
       "10    Simulation      9.05     10.95      1.93         2.74           NaN   \n",
       "11        Racing      9.71      7.47      4.13         1.90          91.0   \n",
       "12  Role-Playing      9.00      6.18      7.20         0.71           NaN   \n",
       "13        Sports      8.92      8.03      3.60         2.15          80.0   \n",
       "14          Misc     15.00      4.89      0.24         1.69          61.0   \n",
       "15        Sports      9.01      8.49      2.53         1.77          80.0   \n",
       "16        Action      7.02      9.09      0.98         3.96          97.0   \n",
       "17        Action      9.43      0.40      0.41        10.57          95.0   \n",
       "18      Platform     12.78      3.75      3.54         0.55           NaN   \n",
       "19          Misc      4.74      9.20      4.16         2.04          77.0   \n",
       "\n",
       "   User_Score Rating  \n",
       "0           8      E  \n",
       "1         NaN    NaN  \n",
       "2         8.3      E  \n",
       "3           8      E  \n",
       "4         NaN    NaN  \n",
       "5         NaN    NaN  \n",
       "6         8.5      E  \n",
       "7         6.6      E  \n",
       "8         8.4      E  \n",
       "9         NaN    NaN  \n",
       "10        NaN    NaN  \n",
       "11        8.6      E  \n",
       "12        NaN    NaN  \n",
       "13        7.7      E  \n",
       "14        6.3      E  \n",
       "15        7.4      E  \n",
       "16        8.2      M  \n",
       "17          9      M  \n",
       "18        NaN    NaN  \n",
       "19        7.9      E  "
      ]
     },
     "execution_count": 3,
     "metadata": {},
     "output_type": "execute_result"
    }
   ],
   "source": [
    "games.head(20)"
   ]
  },
  {
   "cell_type": "code",
   "execution_count": 4,
   "metadata": {},
   "outputs": [
    {
     "name": "stdout",
     "output_type": "stream",
     "text": [
      "<class 'pandas.core.frame.DataFrame'>\n",
      "RangeIndex: 16715 entries, 0 to 16714\n",
      "Data columns (total 11 columns):\n",
      " #   Column           Non-Null Count  Dtype  \n",
      "---  ------           --------------  -----  \n",
      " 0   Name             16713 non-null  object \n",
      " 1   Platform         16715 non-null  object \n",
      " 2   Year_of_Release  16446 non-null  float64\n",
      " 3   Genre            16713 non-null  object \n",
      " 4   NA_sales         16715 non-null  float64\n",
      " 5   EU_sales         16715 non-null  float64\n",
      " 6   JP_sales         16715 non-null  float64\n",
      " 7   Other_sales      16715 non-null  float64\n",
      " 8   Critic_Score     8137 non-null   float64\n",
      " 9   User_Score       10014 non-null  object \n",
      " 10  Rating           9949 non-null   object \n",
      "dtypes: float64(6), object(5)\n",
      "memory usage: 1.4+ MB\n"
     ]
    }
   ],
   "source": [
    "games.info()"
   ]
  },
  {
   "cell_type": "markdown",
   "metadata": {},
   "source": [
    "Сведения о содержании:\n",
    "\n",
    "Name — название игры (тип данных не меняем)\n",
    "\n",
    "Platform — платформа (тип данных не меняем)\n",
    "\n",
    "Year_of_Release — год выпуска (тип данных вещественные числа, заменяем на целочисленный)\n",
    "\n",
    "Genre — жанр игры (тип данных не меняем)\n",
    "\n",
    "NA_sales — продажи в Северной Америке (тип данных не меняем)\n",
    "\n",
    "EU_sales — продажи в Европе (тип данных не меняем)\n",
    "\n",
    "JP_sales — продажи в Японии (тип данных не меняем)\n",
    "\n",
    "Other_sales — продажи в других странах (тип данных не меняем)\n",
    "\n",
    "Critic_Score — оценка критиков (максимум 100) (тип данных вещественные числа, заменяем на целочисленный)\n",
    "\n",
    "User_Score — оценка пользователей (тип данных меняем на вещественно числовой)\n",
    "\n",
    "Rating — рейтинг от организации ESRB (тип данных не меняем)"
   ]
  },
  {
   "cell_type": "markdown",
   "metadata": {},
   "source": [
    "### Подготовка данных"
   ]
  },
  {
   "cell_type": "markdown",
   "metadata": {},
   "source": [
    "#### Замена названий столбцов"
   ]
  },
  {
   "cell_type": "code",
   "execution_count": 5,
   "metadata": {},
   "outputs": [],
   "source": [
    "games.columns = map(str.lower, games.columns)"
   ]
  },
  {
   "cell_type": "markdown",
   "metadata": {},
   "source": [
    "#### Преобразование типов данных"
   ]
  },
  {
   "cell_type": "markdown",
   "metadata": {},
   "source": [
    "Меняю формат в датафрейме games столбца year_of_release на формат целого числа, поскольку речь идет о годе выпуска"
   ]
  },
  {
   "cell_type": "code",
   "execution_count": 6,
   "metadata": {},
   "outputs": [],
   "source": [
    "games['year_of_release'] =  pd.to_numeric(games['year_of_release'], downcast='integer')"
   ]
  },
  {
   "cell_type": "markdown",
   "metadata": {},
   "source": [
    "Меняю формат в датафрейме games столбца critic_score на формат целого числа, поскольку речь идет ою оценках, данных по 100 бальной системе с целыми значениями"
   ]
  },
  {
   "cell_type": "code",
   "execution_count": 7,
   "metadata": {},
   "outputs": [],
   "source": [
    "games['critic_score'] =  pd.to_numeric(games['critic_score'], downcast='integer')"
   ]
  },
  {
   "cell_type": "markdown",
   "metadata": {},
   "source": [
    "Меняю формат в датафрейме games столбца user_score на формат вещественного числа, поскольку речь идет о выставляемой пользователми оценке по 10-бальной шкале c дробными значениями\n",
    "\n",
    "Предварительно: в столбце встречается аббревиатура \"TDB\", то есть  — To Be Determined (\"Будет определено\") Вероятно, для данных игр еще не был сформирован пользовательский рейтинг. Данное значение стоит заменить на Nan, поскольку истинной реакции игроков еще не выявлено. \n",
    "\n",
    "Изменение формата будет выполнено после соответствующей замены"
   ]
  },
  {
   "cell_type": "code",
   "execution_count": 8,
   "metadata": {},
   "outputs": [],
   "source": [
    "games['user_score'] =  pd.to_numeric(games['user_score'], downcast='float', errors ='coerce')"
   ]
  },
  {
   "cell_type": "markdown",
   "metadata": {},
   "source": [
    "Проверяю изменения"
   ]
  },
  {
   "cell_type": "code",
   "execution_count": 9,
   "metadata": {},
   "outputs": [
    {
     "name": "stdout",
     "output_type": "stream",
     "text": [
      "<class 'pandas.core.frame.DataFrame'>\n",
      "RangeIndex: 16715 entries, 0 to 16714\n",
      "Data columns (total 11 columns):\n",
      " #   Column           Non-Null Count  Dtype  \n",
      "---  ------           --------------  -----  \n",
      " 0   name             16713 non-null  object \n",
      " 1   platform         16715 non-null  object \n",
      " 2   year_of_release  16446 non-null  float64\n",
      " 3   genre            16713 non-null  object \n",
      " 4   na_sales         16715 non-null  float64\n",
      " 5   eu_sales         16715 non-null  float64\n",
      " 6   jp_sales         16715 non-null  float64\n",
      " 7   other_sales      16715 non-null  float64\n",
      " 8   critic_score     8137 non-null   float64\n",
      " 9   user_score       7590 non-null   float32\n",
      " 10  rating           9949 non-null   object \n",
      "dtypes: float32(1), float64(6), object(4)\n",
      "memory usage: 1.3+ MB\n"
     ]
    }
   ],
   "source": [
    "games.info()"
   ]
  },
  {
   "cell_type": "markdown",
   "metadata": {},
   "source": [
    "Столбец critic_score не переведен в нужный тип из-за наличия пропусков."
   ]
  },
  {
   "cell_type": "markdown",
   "metadata": {},
   "source": [
    "#### Обработка пропусков"
   ]
  },
  {
   "cell_type": "code",
   "execution_count": 10,
   "metadata": {},
   "outputs": [
    {
     "data": {
      "text/html": [
       "<div>\n",
       "<style scoped>\n",
       "    .dataframe tbody tr th:only-of-type {\n",
       "        vertical-align: middle;\n",
       "    }\n",
       "\n",
       "    .dataframe tbody tr th {\n",
       "        vertical-align: top;\n",
       "    }\n",
       "\n",
       "    .dataframe thead th {\n",
       "        text-align: right;\n",
       "    }\n",
       "</style>\n",
       "<table border=\"1\" class=\"dataframe\">\n",
       "  <thead>\n",
       "    <tr style=\"text-align: right;\">\n",
       "      <th></th>\n",
       "      <th>name</th>\n",
       "      <th>platform</th>\n",
       "      <th>year_of_release</th>\n",
       "      <th>genre</th>\n",
       "      <th>na_sales</th>\n",
       "      <th>eu_sales</th>\n",
       "      <th>jp_sales</th>\n",
       "      <th>other_sales</th>\n",
       "      <th>critic_score</th>\n",
       "      <th>user_score</th>\n",
       "      <th>rating</th>\n",
       "    </tr>\n",
       "  </thead>\n",
       "  <tbody>\n",
       "    <tr>\n",
       "      <th>659</th>\n",
       "      <td>NaN</td>\n",
       "      <td>GEN</td>\n",
       "      <td>1993.0</td>\n",
       "      <td>NaN</td>\n",
       "      <td>1.78</td>\n",
       "      <td>0.53</td>\n",
       "      <td>0.00</td>\n",
       "      <td>0.08</td>\n",
       "      <td>NaN</td>\n",
       "      <td>NaN</td>\n",
       "      <td>NaN</td>\n",
       "    </tr>\n",
       "    <tr>\n",
       "      <th>14244</th>\n",
       "      <td>NaN</td>\n",
       "      <td>GEN</td>\n",
       "      <td>1993.0</td>\n",
       "      <td>NaN</td>\n",
       "      <td>0.00</td>\n",
       "      <td>0.00</td>\n",
       "      <td>0.03</td>\n",
       "      <td>0.00</td>\n",
       "      <td>NaN</td>\n",
       "      <td>NaN</td>\n",
       "      <td>NaN</td>\n",
       "    </tr>\n",
       "  </tbody>\n",
       "</table>\n",
       "</div>"
      ],
      "text/plain": [
       "      name platform  year_of_release genre  na_sales  eu_sales  jp_sales  \\\n",
       "659    NaN      GEN           1993.0   NaN      1.78      0.53      0.00   \n",
       "14244  NaN      GEN           1993.0   NaN      0.00      0.00      0.03   \n",
       "\n",
       "       other_sales  critic_score  user_score rating  \n",
       "659           0.08           NaN         NaN    NaN  \n",
       "14244         0.00           NaN         NaN    NaN  "
      ]
     },
     "execution_count": 10,
     "metadata": {},
     "output_type": "execute_result"
    }
   ],
   "source": [
    "games[games['name'].isna()]"
   ]
  },
  {
   "cell_type": "markdown",
   "metadata": {},
   "source": [
    "Две игры, названия которых неизвестны, но они были выпусщены на одной платформе и в один год; в первой игре известны значения продаж в Северной Америке и Европе, для второй - в Японии. \n",
    "\n",
    "Вероятно, это одна и та же игра. Однако, из-за пропусков в названии и оценках от данных строк стоит избавиться. "
   ]
  },
  {
   "cell_type": "code",
   "execution_count": 11,
   "metadata": {},
   "outputs": [],
   "source": [
    "games.drop([659, 14244],inplace=True)"
   ]
  },
  {
   "cell_type": "markdown",
   "metadata": {},
   "source": [
    "Проверяю пропуски в иных столбцах"
   ]
  },
  {
   "cell_type": "code",
   "execution_count": 12,
   "metadata": {},
   "outputs": [
    {
     "data": {
      "text/html": [
       "<div>\n",
       "<style scoped>\n",
       "    .dataframe tbody tr th:only-of-type {\n",
       "        vertical-align: middle;\n",
       "    }\n",
       "\n",
       "    .dataframe tbody tr th {\n",
       "        vertical-align: top;\n",
       "    }\n",
       "\n",
       "    .dataframe thead th {\n",
       "        text-align: right;\n",
       "    }\n",
       "</style>\n",
       "<table border=\"1\" class=\"dataframe\">\n",
       "  <thead>\n",
       "    <tr style=\"text-align: right;\">\n",
       "      <th></th>\n",
       "      <th>name</th>\n",
       "      <th>platform</th>\n",
       "      <th>year_of_release</th>\n",
       "      <th>genre</th>\n",
       "      <th>na_sales</th>\n",
       "      <th>eu_sales</th>\n",
       "      <th>jp_sales</th>\n",
       "      <th>other_sales</th>\n",
       "      <th>critic_score</th>\n",
       "      <th>user_score</th>\n",
       "      <th>rating</th>\n",
       "    </tr>\n",
       "  </thead>\n",
       "  <tbody>\n",
       "    <tr>\n",
       "      <th>1</th>\n",
       "      <td>Super Mario Bros.</td>\n",
       "      <td>NES</td>\n",
       "      <td>1985.0</td>\n",
       "      <td>Platform</td>\n",
       "      <td>29.08</td>\n",
       "      <td>3.58</td>\n",
       "      <td>6.81</td>\n",
       "      <td>0.77</td>\n",
       "      <td>NaN</td>\n",
       "      <td>NaN</td>\n",
       "      <td>NaN</td>\n",
       "    </tr>\n",
       "    <tr>\n",
       "      <th>4</th>\n",
       "      <td>Pokemon Red/Pokemon Blue</td>\n",
       "      <td>GB</td>\n",
       "      <td>1996.0</td>\n",
       "      <td>Role-Playing</td>\n",
       "      <td>11.27</td>\n",
       "      <td>8.89</td>\n",
       "      <td>10.22</td>\n",
       "      <td>1.00</td>\n",
       "      <td>NaN</td>\n",
       "      <td>NaN</td>\n",
       "      <td>NaN</td>\n",
       "    </tr>\n",
       "    <tr>\n",
       "      <th>5</th>\n",
       "      <td>Tetris</td>\n",
       "      <td>GB</td>\n",
       "      <td>1989.0</td>\n",
       "      <td>Puzzle</td>\n",
       "      <td>23.20</td>\n",
       "      <td>2.26</td>\n",
       "      <td>4.22</td>\n",
       "      <td>0.58</td>\n",
       "      <td>NaN</td>\n",
       "      <td>NaN</td>\n",
       "      <td>NaN</td>\n",
       "    </tr>\n",
       "    <tr>\n",
       "      <th>9</th>\n",
       "      <td>Duck Hunt</td>\n",
       "      <td>NES</td>\n",
       "      <td>1984.0</td>\n",
       "      <td>Shooter</td>\n",
       "      <td>26.93</td>\n",
       "      <td>0.63</td>\n",
       "      <td>0.28</td>\n",
       "      <td>0.47</td>\n",
       "      <td>NaN</td>\n",
       "      <td>NaN</td>\n",
       "      <td>NaN</td>\n",
       "    </tr>\n",
       "    <tr>\n",
       "      <th>10</th>\n",
       "      <td>Nintendogs</td>\n",
       "      <td>DS</td>\n",
       "      <td>2005.0</td>\n",
       "      <td>Simulation</td>\n",
       "      <td>9.05</td>\n",
       "      <td>10.95</td>\n",
       "      <td>1.93</td>\n",
       "      <td>2.74</td>\n",
       "      <td>NaN</td>\n",
       "      <td>NaN</td>\n",
       "      <td>NaN</td>\n",
       "    </tr>\n",
       "    <tr>\n",
       "      <th>...</th>\n",
       "      <td>...</td>\n",
       "      <td>...</td>\n",
       "      <td>...</td>\n",
       "      <td>...</td>\n",
       "      <td>...</td>\n",
       "      <td>...</td>\n",
       "      <td>...</td>\n",
       "      <td>...</td>\n",
       "      <td>...</td>\n",
       "      <td>...</td>\n",
       "      <td>...</td>\n",
       "    </tr>\n",
       "    <tr>\n",
       "      <th>16710</th>\n",
       "      <td>Samurai Warriors: Sanada Maru</td>\n",
       "      <td>PS3</td>\n",
       "      <td>2016.0</td>\n",
       "      <td>Action</td>\n",
       "      <td>0.00</td>\n",
       "      <td>0.00</td>\n",
       "      <td>0.01</td>\n",
       "      <td>0.00</td>\n",
       "      <td>NaN</td>\n",
       "      <td>NaN</td>\n",
       "      <td>NaN</td>\n",
       "    </tr>\n",
       "    <tr>\n",
       "      <th>16711</th>\n",
       "      <td>LMA Manager 2007</td>\n",
       "      <td>X360</td>\n",
       "      <td>2006.0</td>\n",
       "      <td>Sports</td>\n",
       "      <td>0.00</td>\n",
       "      <td>0.01</td>\n",
       "      <td>0.00</td>\n",
       "      <td>0.00</td>\n",
       "      <td>NaN</td>\n",
       "      <td>NaN</td>\n",
       "      <td>NaN</td>\n",
       "    </tr>\n",
       "    <tr>\n",
       "      <th>16712</th>\n",
       "      <td>Haitaka no Psychedelica</td>\n",
       "      <td>PSV</td>\n",
       "      <td>2016.0</td>\n",
       "      <td>Adventure</td>\n",
       "      <td>0.00</td>\n",
       "      <td>0.00</td>\n",
       "      <td>0.01</td>\n",
       "      <td>0.00</td>\n",
       "      <td>NaN</td>\n",
       "      <td>NaN</td>\n",
       "      <td>NaN</td>\n",
       "    </tr>\n",
       "    <tr>\n",
       "      <th>16713</th>\n",
       "      <td>Spirits &amp; Spells</td>\n",
       "      <td>GBA</td>\n",
       "      <td>2003.0</td>\n",
       "      <td>Platform</td>\n",
       "      <td>0.01</td>\n",
       "      <td>0.00</td>\n",
       "      <td>0.00</td>\n",
       "      <td>0.00</td>\n",
       "      <td>NaN</td>\n",
       "      <td>NaN</td>\n",
       "      <td>NaN</td>\n",
       "    </tr>\n",
       "    <tr>\n",
       "      <th>16714</th>\n",
       "      <td>Winning Post 8 2016</td>\n",
       "      <td>PSV</td>\n",
       "      <td>2016.0</td>\n",
       "      <td>Simulation</td>\n",
       "      <td>0.00</td>\n",
       "      <td>0.00</td>\n",
       "      <td>0.01</td>\n",
       "      <td>0.00</td>\n",
       "      <td>NaN</td>\n",
       "      <td>NaN</td>\n",
       "      <td>NaN</td>\n",
       "    </tr>\n",
       "  </tbody>\n",
       "</table>\n",
       "<p>8576 rows × 11 columns</p>\n",
       "</div>"
      ],
      "text/plain": [
       "                                name platform  year_of_release         genre  \\\n",
       "1                  Super Mario Bros.      NES           1985.0      Platform   \n",
       "4           Pokemon Red/Pokemon Blue       GB           1996.0  Role-Playing   \n",
       "5                             Tetris       GB           1989.0        Puzzle   \n",
       "9                          Duck Hunt      NES           1984.0       Shooter   \n",
       "10                        Nintendogs       DS           2005.0    Simulation   \n",
       "...                              ...      ...              ...           ...   \n",
       "16710  Samurai Warriors: Sanada Maru      PS3           2016.0        Action   \n",
       "16711               LMA Manager 2007     X360           2006.0        Sports   \n",
       "16712        Haitaka no Psychedelica      PSV           2016.0     Adventure   \n",
       "16713               Spirits & Spells      GBA           2003.0      Platform   \n",
       "16714            Winning Post 8 2016      PSV           2016.0    Simulation   \n",
       "\n",
       "       na_sales  eu_sales  jp_sales  other_sales  critic_score  user_score  \\\n",
       "1         29.08      3.58      6.81         0.77           NaN         NaN   \n",
       "4         11.27      8.89     10.22         1.00           NaN         NaN   \n",
       "5         23.20      2.26      4.22         0.58           NaN         NaN   \n",
       "9         26.93      0.63      0.28         0.47           NaN         NaN   \n",
       "10         9.05     10.95      1.93         2.74           NaN         NaN   \n",
       "...         ...       ...       ...          ...           ...         ...   \n",
       "16710      0.00      0.00      0.01         0.00           NaN         NaN   \n",
       "16711      0.00      0.01      0.00         0.00           NaN         NaN   \n",
       "16712      0.00      0.00      0.01         0.00           NaN         NaN   \n",
       "16713      0.01      0.00      0.00         0.00           NaN         NaN   \n",
       "16714      0.00      0.00      0.01         0.00           NaN         NaN   \n",
       "\n",
       "      rating  \n",
       "1        NaN  \n",
       "4        NaN  \n",
       "5        NaN  \n",
       "9        NaN  \n",
       "10       NaN  \n",
       "...      ...  \n",
       "16710    NaN  \n",
       "16711    NaN  \n",
       "16712    NaN  \n",
       "16713    NaN  \n",
       "16714    NaN  \n",
       "\n",
       "[8576 rows x 11 columns]"
      ]
     },
     "execution_count": 12,
     "metadata": {},
     "output_type": "execute_result"
    }
   ],
   "source": [
    "games[games['critic_score'].isna()]"
   ]
  },
  {
   "cell_type": "code",
   "execution_count": 13,
   "metadata": {},
   "outputs": [
    {
     "data": {
      "text/html": [
       "<div>\n",
       "<style scoped>\n",
       "    .dataframe tbody tr th:only-of-type {\n",
       "        vertical-align: middle;\n",
       "    }\n",
       "\n",
       "    .dataframe tbody tr th {\n",
       "        vertical-align: top;\n",
       "    }\n",
       "\n",
       "    .dataframe thead th {\n",
       "        text-align: right;\n",
       "    }\n",
       "</style>\n",
       "<table border=\"1\" class=\"dataframe\">\n",
       "  <thead>\n",
       "    <tr style=\"text-align: right;\">\n",
       "      <th></th>\n",
       "      <th>name</th>\n",
       "      <th>platform</th>\n",
       "      <th>year_of_release</th>\n",
       "      <th>genre</th>\n",
       "      <th>na_sales</th>\n",
       "      <th>eu_sales</th>\n",
       "      <th>jp_sales</th>\n",
       "      <th>other_sales</th>\n",
       "      <th>critic_score</th>\n",
       "      <th>user_score</th>\n",
       "      <th>rating</th>\n",
       "    </tr>\n",
       "  </thead>\n",
       "  <tbody>\n",
       "    <tr>\n",
       "      <th>1</th>\n",
       "      <td>Super Mario Bros.</td>\n",
       "      <td>NES</td>\n",
       "      <td>1985.0</td>\n",
       "      <td>Platform</td>\n",
       "      <td>29.08</td>\n",
       "      <td>3.58</td>\n",
       "      <td>6.81</td>\n",
       "      <td>0.77</td>\n",
       "      <td>NaN</td>\n",
       "      <td>NaN</td>\n",
       "      <td>NaN</td>\n",
       "    </tr>\n",
       "    <tr>\n",
       "      <th>4</th>\n",
       "      <td>Pokemon Red/Pokemon Blue</td>\n",
       "      <td>GB</td>\n",
       "      <td>1996.0</td>\n",
       "      <td>Role-Playing</td>\n",
       "      <td>11.27</td>\n",
       "      <td>8.89</td>\n",
       "      <td>10.22</td>\n",
       "      <td>1.00</td>\n",
       "      <td>NaN</td>\n",
       "      <td>NaN</td>\n",
       "      <td>NaN</td>\n",
       "    </tr>\n",
       "    <tr>\n",
       "      <th>5</th>\n",
       "      <td>Tetris</td>\n",
       "      <td>GB</td>\n",
       "      <td>1989.0</td>\n",
       "      <td>Puzzle</td>\n",
       "      <td>23.20</td>\n",
       "      <td>2.26</td>\n",
       "      <td>4.22</td>\n",
       "      <td>0.58</td>\n",
       "      <td>NaN</td>\n",
       "      <td>NaN</td>\n",
       "      <td>NaN</td>\n",
       "    </tr>\n",
       "    <tr>\n",
       "      <th>9</th>\n",
       "      <td>Duck Hunt</td>\n",
       "      <td>NES</td>\n",
       "      <td>1984.0</td>\n",
       "      <td>Shooter</td>\n",
       "      <td>26.93</td>\n",
       "      <td>0.63</td>\n",
       "      <td>0.28</td>\n",
       "      <td>0.47</td>\n",
       "      <td>NaN</td>\n",
       "      <td>NaN</td>\n",
       "      <td>NaN</td>\n",
       "    </tr>\n",
       "    <tr>\n",
       "      <th>10</th>\n",
       "      <td>Nintendogs</td>\n",
       "      <td>DS</td>\n",
       "      <td>2005.0</td>\n",
       "      <td>Simulation</td>\n",
       "      <td>9.05</td>\n",
       "      <td>10.95</td>\n",
       "      <td>1.93</td>\n",
       "      <td>2.74</td>\n",
       "      <td>NaN</td>\n",
       "      <td>NaN</td>\n",
       "      <td>NaN</td>\n",
       "    </tr>\n",
       "    <tr>\n",
       "      <th>...</th>\n",
       "      <td>...</td>\n",
       "      <td>...</td>\n",
       "      <td>...</td>\n",
       "      <td>...</td>\n",
       "      <td>...</td>\n",
       "      <td>...</td>\n",
       "      <td>...</td>\n",
       "      <td>...</td>\n",
       "      <td>...</td>\n",
       "      <td>...</td>\n",
       "      <td>...</td>\n",
       "    </tr>\n",
       "    <tr>\n",
       "      <th>16710</th>\n",
       "      <td>Samurai Warriors: Sanada Maru</td>\n",
       "      <td>PS3</td>\n",
       "      <td>2016.0</td>\n",
       "      <td>Action</td>\n",
       "      <td>0.00</td>\n",
       "      <td>0.00</td>\n",
       "      <td>0.01</td>\n",
       "      <td>0.00</td>\n",
       "      <td>NaN</td>\n",
       "      <td>NaN</td>\n",
       "      <td>NaN</td>\n",
       "    </tr>\n",
       "    <tr>\n",
       "      <th>16711</th>\n",
       "      <td>LMA Manager 2007</td>\n",
       "      <td>X360</td>\n",
       "      <td>2006.0</td>\n",
       "      <td>Sports</td>\n",
       "      <td>0.00</td>\n",
       "      <td>0.01</td>\n",
       "      <td>0.00</td>\n",
       "      <td>0.00</td>\n",
       "      <td>NaN</td>\n",
       "      <td>NaN</td>\n",
       "      <td>NaN</td>\n",
       "    </tr>\n",
       "    <tr>\n",
       "      <th>16712</th>\n",
       "      <td>Haitaka no Psychedelica</td>\n",
       "      <td>PSV</td>\n",
       "      <td>2016.0</td>\n",
       "      <td>Adventure</td>\n",
       "      <td>0.00</td>\n",
       "      <td>0.00</td>\n",
       "      <td>0.01</td>\n",
       "      <td>0.00</td>\n",
       "      <td>NaN</td>\n",
       "      <td>NaN</td>\n",
       "      <td>NaN</td>\n",
       "    </tr>\n",
       "    <tr>\n",
       "      <th>16713</th>\n",
       "      <td>Spirits &amp; Spells</td>\n",
       "      <td>GBA</td>\n",
       "      <td>2003.0</td>\n",
       "      <td>Platform</td>\n",
       "      <td>0.01</td>\n",
       "      <td>0.00</td>\n",
       "      <td>0.00</td>\n",
       "      <td>0.00</td>\n",
       "      <td>NaN</td>\n",
       "      <td>NaN</td>\n",
       "      <td>NaN</td>\n",
       "    </tr>\n",
       "    <tr>\n",
       "      <th>16714</th>\n",
       "      <td>Winning Post 8 2016</td>\n",
       "      <td>PSV</td>\n",
       "      <td>2016.0</td>\n",
       "      <td>Simulation</td>\n",
       "      <td>0.00</td>\n",
       "      <td>0.00</td>\n",
       "      <td>0.01</td>\n",
       "      <td>0.00</td>\n",
       "      <td>NaN</td>\n",
       "      <td>NaN</td>\n",
       "      <td>NaN</td>\n",
       "    </tr>\n",
       "  </tbody>\n",
       "</table>\n",
       "<p>9123 rows × 11 columns</p>\n",
       "</div>"
      ],
      "text/plain": [
       "                                name platform  year_of_release         genre  \\\n",
       "1                  Super Mario Bros.      NES           1985.0      Platform   \n",
       "4           Pokemon Red/Pokemon Blue       GB           1996.0  Role-Playing   \n",
       "5                             Tetris       GB           1989.0        Puzzle   \n",
       "9                          Duck Hunt      NES           1984.0       Shooter   \n",
       "10                        Nintendogs       DS           2005.0    Simulation   \n",
       "...                              ...      ...              ...           ...   \n",
       "16710  Samurai Warriors: Sanada Maru      PS3           2016.0        Action   \n",
       "16711               LMA Manager 2007     X360           2006.0        Sports   \n",
       "16712        Haitaka no Psychedelica      PSV           2016.0     Adventure   \n",
       "16713               Spirits & Spells      GBA           2003.0      Platform   \n",
       "16714            Winning Post 8 2016      PSV           2016.0    Simulation   \n",
       "\n",
       "       na_sales  eu_sales  jp_sales  other_sales  critic_score  user_score  \\\n",
       "1         29.08      3.58      6.81         0.77           NaN         NaN   \n",
       "4         11.27      8.89     10.22         1.00           NaN         NaN   \n",
       "5         23.20      2.26      4.22         0.58           NaN         NaN   \n",
       "9         26.93      0.63      0.28         0.47           NaN         NaN   \n",
       "10         9.05     10.95      1.93         2.74           NaN         NaN   \n",
       "...         ...       ...       ...          ...           ...         ...   \n",
       "16710      0.00      0.00      0.01         0.00           NaN         NaN   \n",
       "16711      0.00      0.01      0.00         0.00           NaN         NaN   \n",
       "16712      0.00      0.00      0.01         0.00           NaN         NaN   \n",
       "16713      0.01      0.00      0.00         0.00           NaN         NaN   \n",
       "16714      0.00      0.00      0.01         0.00           NaN         NaN   \n",
       "\n",
       "      rating  \n",
       "1        NaN  \n",
       "4        NaN  \n",
       "5        NaN  \n",
       "9        NaN  \n",
       "10       NaN  \n",
       "...      ...  \n",
       "16710    NaN  \n",
       "16711    NaN  \n",
       "16712    NaN  \n",
       "16713    NaN  \n",
       "16714    NaN  \n",
       "\n",
       "[9123 rows x 11 columns]"
      ]
     },
     "execution_count": 13,
     "metadata": {},
     "output_type": "execute_result"
    }
   ],
   "source": [
    "games[games['user_score'].isna()]"
   ]
  },
  {
   "cell_type": "code",
   "execution_count": 14,
   "metadata": {},
   "outputs": [
    {
     "data": {
      "text/html": [
       "<div>\n",
       "<style scoped>\n",
       "    .dataframe tbody tr th:only-of-type {\n",
       "        vertical-align: middle;\n",
       "    }\n",
       "\n",
       "    .dataframe tbody tr th {\n",
       "        vertical-align: top;\n",
       "    }\n",
       "\n",
       "    .dataframe thead th {\n",
       "        text-align: right;\n",
       "    }\n",
       "</style>\n",
       "<table border=\"1\" class=\"dataframe\">\n",
       "  <thead>\n",
       "    <tr style=\"text-align: right;\">\n",
       "      <th></th>\n",
       "      <th>name</th>\n",
       "      <th>platform</th>\n",
       "      <th>year_of_release</th>\n",
       "      <th>genre</th>\n",
       "      <th>na_sales</th>\n",
       "      <th>eu_sales</th>\n",
       "      <th>jp_sales</th>\n",
       "      <th>other_sales</th>\n",
       "      <th>critic_score</th>\n",
       "      <th>user_score</th>\n",
       "      <th>rating</th>\n",
       "    </tr>\n",
       "  </thead>\n",
       "  <tbody>\n",
       "    <tr>\n",
       "      <th>1</th>\n",
       "      <td>Super Mario Bros.</td>\n",
       "      <td>NES</td>\n",
       "      <td>1985.0</td>\n",
       "      <td>Platform</td>\n",
       "      <td>29.08</td>\n",
       "      <td>3.58</td>\n",
       "      <td>6.81</td>\n",
       "      <td>0.77</td>\n",
       "      <td>NaN</td>\n",
       "      <td>NaN</td>\n",
       "      <td>NaN</td>\n",
       "    </tr>\n",
       "    <tr>\n",
       "      <th>4</th>\n",
       "      <td>Pokemon Red/Pokemon Blue</td>\n",
       "      <td>GB</td>\n",
       "      <td>1996.0</td>\n",
       "      <td>Role-Playing</td>\n",
       "      <td>11.27</td>\n",
       "      <td>8.89</td>\n",
       "      <td>10.22</td>\n",
       "      <td>1.00</td>\n",
       "      <td>NaN</td>\n",
       "      <td>NaN</td>\n",
       "      <td>NaN</td>\n",
       "    </tr>\n",
       "    <tr>\n",
       "      <th>5</th>\n",
       "      <td>Tetris</td>\n",
       "      <td>GB</td>\n",
       "      <td>1989.0</td>\n",
       "      <td>Puzzle</td>\n",
       "      <td>23.20</td>\n",
       "      <td>2.26</td>\n",
       "      <td>4.22</td>\n",
       "      <td>0.58</td>\n",
       "      <td>NaN</td>\n",
       "      <td>NaN</td>\n",
       "      <td>NaN</td>\n",
       "    </tr>\n",
       "    <tr>\n",
       "      <th>9</th>\n",
       "      <td>Duck Hunt</td>\n",
       "      <td>NES</td>\n",
       "      <td>1984.0</td>\n",
       "      <td>Shooter</td>\n",
       "      <td>26.93</td>\n",
       "      <td>0.63</td>\n",
       "      <td>0.28</td>\n",
       "      <td>0.47</td>\n",
       "      <td>NaN</td>\n",
       "      <td>NaN</td>\n",
       "      <td>NaN</td>\n",
       "    </tr>\n",
       "    <tr>\n",
       "      <th>10</th>\n",
       "      <td>Nintendogs</td>\n",
       "      <td>DS</td>\n",
       "      <td>2005.0</td>\n",
       "      <td>Simulation</td>\n",
       "      <td>9.05</td>\n",
       "      <td>10.95</td>\n",
       "      <td>1.93</td>\n",
       "      <td>2.74</td>\n",
       "      <td>NaN</td>\n",
       "      <td>NaN</td>\n",
       "      <td>NaN</td>\n",
       "    </tr>\n",
       "    <tr>\n",
       "      <th>...</th>\n",
       "      <td>...</td>\n",
       "      <td>...</td>\n",
       "      <td>...</td>\n",
       "      <td>...</td>\n",
       "      <td>...</td>\n",
       "      <td>...</td>\n",
       "      <td>...</td>\n",
       "      <td>...</td>\n",
       "      <td>...</td>\n",
       "      <td>...</td>\n",
       "      <td>...</td>\n",
       "    </tr>\n",
       "    <tr>\n",
       "      <th>16710</th>\n",
       "      <td>Samurai Warriors: Sanada Maru</td>\n",
       "      <td>PS3</td>\n",
       "      <td>2016.0</td>\n",
       "      <td>Action</td>\n",
       "      <td>0.00</td>\n",
       "      <td>0.00</td>\n",
       "      <td>0.01</td>\n",
       "      <td>0.00</td>\n",
       "      <td>NaN</td>\n",
       "      <td>NaN</td>\n",
       "      <td>NaN</td>\n",
       "    </tr>\n",
       "    <tr>\n",
       "      <th>16711</th>\n",
       "      <td>LMA Manager 2007</td>\n",
       "      <td>X360</td>\n",
       "      <td>2006.0</td>\n",
       "      <td>Sports</td>\n",
       "      <td>0.00</td>\n",
       "      <td>0.01</td>\n",
       "      <td>0.00</td>\n",
       "      <td>0.00</td>\n",
       "      <td>NaN</td>\n",
       "      <td>NaN</td>\n",
       "      <td>NaN</td>\n",
       "    </tr>\n",
       "    <tr>\n",
       "      <th>16712</th>\n",
       "      <td>Haitaka no Psychedelica</td>\n",
       "      <td>PSV</td>\n",
       "      <td>2016.0</td>\n",
       "      <td>Adventure</td>\n",
       "      <td>0.00</td>\n",
       "      <td>0.00</td>\n",
       "      <td>0.01</td>\n",
       "      <td>0.00</td>\n",
       "      <td>NaN</td>\n",
       "      <td>NaN</td>\n",
       "      <td>NaN</td>\n",
       "    </tr>\n",
       "    <tr>\n",
       "      <th>16713</th>\n",
       "      <td>Spirits &amp; Spells</td>\n",
       "      <td>GBA</td>\n",
       "      <td>2003.0</td>\n",
       "      <td>Platform</td>\n",
       "      <td>0.01</td>\n",
       "      <td>0.00</td>\n",
       "      <td>0.00</td>\n",
       "      <td>0.00</td>\n",
       "      <td>NaN</td>\n",
       "      <td>NaN</td>\n",
       "      <td>NaN</td>\n",
       "    </tr>\n",
       "    <tr>\n",
       "      <th>16714</th>\n",
       "      <td>Winning Post 8 2016</td>\n",
       "      <td>PSV</td>\n",
       "      <td>2016.0</td>\n",
       "      <td>Simulation</td>\n",
       "      <td>0.00</td>\n",
       "      <td>0.00</td>\n",
       "      <td>0.01</td>\n",
       "      <td>0.00</td>\n",
       "      <td>NaN</td>\n",
       "      <td>NaN</td>\n",
       "      <td>NaN</td>\n",
       "    </tr>\n",
       "  </tbody>\n",
       "</table>\n",
       "<p>6764 rows × 11 columns</p>\n",
       "</div>"
      ],
      "text/plain": [
       "                                name platform  year_of_release         genre  \\\n",
       "1                  Super Mario Bros.      NES           1985.0      Platform   \n",
       "4           Pokemon Red/Pokemon Blue       GB           1996.0  Role-Playing   \n",
       "5                             Tetris       GB           1989.0        Puzzle   \n",
       "9                          Duck Hunt      NES           1984.0       Shooter   \n",
       "10                        Nintendogs       DS           2005.0    Simulation   \n",
       "...                              ...      ...              ...           ...   \n",
       "16710  Samurai Warriors: Sanada Maru      PS3           2016.0        Action   \n",
       "16711               LMA Manager 2007     X360           2006.0        Sports   \n",
       "16712        Haitaka no Psychedelica      PSV           2016.0     Adventure   \n",
       "16713               Spirits & Spells      GBA           2003.0      Platform   \n",
       "16714            Winning Post 8 2016      PSV           2016.0    Simulation   \n",
       "\n",
       "       na_sales  eu_sales  jp_sales  other_sales  critic_score  user_score  \\\n",
       "1         29.08      3.58      6.81         0.77           NaN         NaN   \n",
       "4         11.27      8.89     10.22         1.00           NaN         NaN   \n",
       "5         23.20      2.26      4.22         0.58           NaN         NaN   \n",
       "9         26.93      0.63      0.28         0.47           NaN         NaN   \n",
       "10         9.05     10.95      1.93         2.74           NaN         NaN   \n",
       "...         ...       ...       ...          ...           ...         ...   \n",
       "16710      0.00      0.00      0.01         0.00           NaN         NaN   \n",
       "16711      0.00      0.01      0.00         0.00           NaN         NaN   \n",
       "16712      0.00      0.00      0.01         0.00           NaN         NaN   \n",
       "16713      0.01      0.00      0.00         0.00           NaN         NaN   \n",
       "16714      0.00      0.00      0.01         0.00           NaN         NaN   \n",
       "\n",
       "      rating  \n",
       "1        NaN  \n",
       "4        NaN  \n",
       "5        NaN  \n",
       "9        NaN  \n",
       "10       NaN  \n",
       "...      ...  \n",
       "16710    NaN  \n",
       "16711    NaN  \n",
       "16712    NaN  \n",
       "16713    NaN  \n",
       "16714    NaN  \n",
       "\n",
       "[6764 rows x 11 columns]"
      ]
     },
     "execution_count": 14,
     "metadata": {},
     "output_type": "execute_result"
    }
   ],
   "source": [
    "games[games['rating'].isna()]"
   ]
  },
  {
   "cell_type": "markdown",
   "metadata": {},
   "source": [
    "Оценка игр весьма субъективная, поэтому пропуски NaN в столбцах critic_score, user_score, rating не могут быть заменены на медианные или средние. Эти пропуски невозможно восстановить или удалить"
   ]
  },
  {
   "cell_type": "code",
   "execution_count": 17,
   "metadata": {},
   "outputs": [
    {
     "data": {
      "text/html": [
       "<div>\n",
       "<style scoped>\n",
       "    .dataframe tbody tr th:only-of-type {\n",
       "        vertical-align: middle;\n",
       "    }\n",
       "\n",
       "    .dataframe tbody tr th {\n",
       "        vertical-align: top;\n",
       "    }\n",
       "\n",
       "    .dataframe thead th {\n",
       "        text-align: right;\n",
       "    }\n",
       "</style>\n",
       "<table border=\"1\" class=\"dataframe\">\n",
       "  <thead>\n",
       "    <tr style=\"text-align: right;\">\n",
       "      <th></th>\n",
       "      <th>name</th>\n",
       "      <th>platform</th>\n",
       "      <th>year_of_release</th>\n",
       "      <th>genre</th>\n",
       "      <th>na_sales</th>\n",
       "      <th>eu_sales</th>\n",
       "      <th>jp_sales</th>\n",
       "      <th>other_sales</th>\n",
       "      <th>critic_score</th>\n",
       "      <th>user_score</th>\n",
       "      <th>rating</th>\n",
       "    </tr>\n",
       "  </thead>\n",
       "  <tbody>\n",
       "    <tr>\n",
       "      <th>183</th>\n",
       "      <td>Madden NFL 2004</td>\n",
       "      <td>PS2</td>\n",
       "      <td>NaN</td>\n",
       "      <td>Sports</td>\n",
       "      <td>4.26</td>\n",
       "      <td>0.26</td>\n",
       "      <td>0.01</td>\n",
       "      <td>0.71</td>\n",
       "      <td>94.0</td>\n",
       "      <td>8.5</td>\n",
       "      <td>E</td>\n",
       "    </tr>\n",
       "    <tr>\n",
       "      <th>377</th>\n",
       "      <td>FIFA Soccer 2004</td>\n",
       "      <td>PS2</td>\n",
       "      <td>NaN</td>\n",
       "      <td>Sports</td>\n",
       "      <td>0.59</td>\n",
       "      <td>2.36</td>\n",
       "      <td>0.04</td>\n",
       "      <td>0.51</td>\n",
       "      <td>84.0</td>\n",
       "      <td>6.4</td>\n",
       "      <td>E</td>\n",
       "    </tr>\n",
       "    <tr>\n",
       "      <th>456</th>\n",
       "      <td>LEGO Batman: The Videogame</td>\n",
       "      <td>Wii</td>\n",
       "      <td>NaN</td>\n",
       "      <td>Action</td>\n",
       "      <td>1.80</td>\n",
       "      <td>0.97</td>\n",
       "      <td>0.00</td>\n",
       "      <td>0.29</td>\n",
       "      <td>74.0</td>\n",
       "      <td>7.9</td>\n",
       "      <td>E10+</td>\n",
       "    </tr>\n",
       "    <tr>\n",
       "      <th>475</th>\n",
       "      <td>wwe Smackdown vs. Raw 2006</td>\n",
       "      <td>PS2</td>\n",
       "      <td>NaN</td>\n",
       "      <td>Fighting</td>\n",
       "      <td>1.57</td>\n",
       "      <td>1.02</td>\n",
       "      <td>0.00</td>\n",
       "      <td>0.41</td>\n",
       "      <td>NaN</td>\n",
       "      <td>NaN</td>\n",
       "      <td>NaN</td>\n",
       "    </tr>\n",
       "    <tr>\n",
       "      <th>609</th>\n",
       "      <td>Space Invaders</td>\n",
       "      <td>2600</td>\n",
       "      <td>NaN</td>\n",
       "      <td>Shooter</td>\n",
       "      <td>2.36</td>\n",
       "      <td>0.14</td>\n",
       "      <td>0.00</td>\n",
       "      <td>0.03</td>\n",
       "      <td>NaN</td>\n",
       "      <td>NaN</td>\n",
       "      <td>NaN</td>\n",
       "    </tr>\n",
       "    <tr>\n",
       "      <th>...</th>\n",
       "      <td>...</td>\n",
       "      <td>...</td>\n",
       "      <td>...</td>\n",
       "      <td>...</td>\n",
       "      <td>...</td>\n",
       "      <td>...</td>\n",
       "      <td>...</td>\n",
       "      <td>...</td>\n",
       "      <td>...</td>\n",
       "      <td>...</td>\n",
       "      <td>...</td>\n",
       "    </tr>\n",
       "    <tr>\n",
       "      <th>16373</th>\n",
       "      <td>PDC World Championship Darts 2008</td>\n",
       "      <td>PSP</td>\n",
       "      <td>NaN</td>\n",
       "      <td>Sports</td>\n",
       "      <td>0.01</td>\n",
       "      <td>0.00</td>\n",
       "      <td>0.00</td>\n",
       "      <td>0.00</td>\n",
       "      <td>43.0</td>\n",
       "      <td>NaN</td>\n",
       "      <td>E10+</td>\n",
       "    </tr>\n",
       "    <tr>\n",
       "      <th>16405</th>\n",
       "      <td>Freaky Flyers</td>\n",
       "      <td>GC</td>\n",
       "      <td>NaN</td>\n",
       "      <td>Racing</td>\n",
       "      <td>0.01</td>\n",
       "      <td>0.00</td>\n",
       "      <td>0.00</td>\n",
       "      <td>0.00</td>\n",
       "      <td>69.0</td>\n",
       "      <td>6.5</td>\n",
       "      <td>T</td>\n",
       "    </tr>\n",
       "    <tr>\n",
       "      <th>16448</th>\n",
       "      <td>Inversion</td>\n",
       "      <td>PC</td>\n",
       "      <td>NaN</td>\n",
       "      <td>Shooter</td>\n",
       "      <td>0.01</td>\n",
       "      <td>0.00</td>\n",
       "      <td>0.00</td>\n",
       "      <td>0.00</td>\n",
       "      <td>59.0</td>\n",
       "      <td>6.7</td>\n",
       "      <td>M</td>\n",
       "    </tr>\n",
       "    <tr>\n",
       "      <th>16458</th>\n",
       "      <td>Hakuouki: Shinsengumi Kitan</td>\n",
       "      <td>PS3</td>\n",
       "      <td>NaN</td>\n",
       "      <td>Adventure</td>\n",
       "      <td>0.01</td>\n",
       "      <td>0.00</td>\n",
       "      <td>0.00</td>\n",
       "      <td>0.00</td>\n",
       "      <td>NaN</td>\n",
       "      <td>NaN</td>\n",
       "      <td>NaN</td>\n",
       "    </tr>\n",
       "    <tr>\n",
       "      <th>16522</th>\n",
       "      <td>Virtua Quest</td>\n",
       "      <td>GC</td>\n",
       "      <td>NaN</td>\n",
       "      <td>Role-Playing</td>\n",
       "      <td>0.01</td>\n",
       "      <td>0.00</td>\n",
       "      <td>0.00</td>\n",
       "      <td>0.00</td>\n",
       "      <td>55.0</td>\n",
       "      <td>5.5</td>\n",
       "      <td>T</td>\n",
       "    </tr>\n",
       "  </tbody>\n",
       "</table>\n",
       "<p>269 rows × 11 columns</p>\n",
       "</div>"
      ],
      "text/plain": [
       "                                    name platform  year_of_release  \\\n",
       "183                      Madden NFL 2004      PS2              NaN   \n",
       "377                     FIFA Soccer 2004      PS2              NaN   \n",
       "456           LEGO Batman: The Videogame      Wii              NaN   \n",
       "475           wwe Smackdown vs. Raw 2006      PS2              NaN   \n",
       "609                       Space Invaders     2600              NaN   \n",
       "...                                  ...      ...              ...   \n",
       "16373  PDC World Championship Darts 2008      PSP              NaN   \n",
       "16405                      Freaky Flyers       GC              NaN   \n",
       "16448                          Inversion       PC              NaN   \n",
       "16458        Hakuouki: Shinsengumi Kitan      PS3              NaN   \n",
       "16522                       Virtua Quest       GC              NaN   \n",
       "\n",
       "              genre  na_sales  eu_sales  jp_sales  other_sales  critic_score  \\\n",
       "183          Sports      4.26      0.26      0.01         0.71          94.0   \n",
       "377          Sports      0.59      2.36      0.04         0.51          84.0   \n",
       "456          Action      1.80      0.97      0.00         0.29          74.0   \n",
       "475        Fighting      1.57      1.02      0.00         0.41           NaN   \n",
       "609         Shooter      2.36      0.14      0.00         0.03           NaN   \n",
       "...             ...       ...       ...       ...          ...           ...   \n",
       "16373        Sports      0.01      0.00      0.00         0.00          43.0   \n",
       "16405        Racing      0.01      0.00      0.00         0.00          69.0   \n",
       "16448       Shooter      0.01      0.00      0.00         0.00          59.0   \n",
       "16458     Adventure      0.01      0.00      0.00         0.00           NaN   \n",
       "16522  Role-Playing      0.01      0.00      0.00         0.00          55.0   \n",
       "\n",
       "       user_score rating  \n",
       "183           8.5      E  \n",
       "377           6.4      E  \n",
       "456           7.9   E10+  \n",
       "475           NaN    NaN  \n",
       "609           NaN    NaN  \n",
       "...           ...    ...  \n",
       "16373         NaN   E10+  \n",
       "16405         6.5      T  \n",
       "16448         6.7      M  \n",
       "16458         NaN    NaN  \n",
       "16522         5.5      T  \n",
       "\n",
       "[269 rows x 11 columns]"
      ]
     },
     "execution_count": 17,
     "metadata": {},
     "output_type": "execute_result"
    }
   ],
   "source": [
    "games[games['year_of_release'].isna()]"
   ]
  },
  {
   "cell_type": "markdown",
   "metadata": {},
   "source": [
    "Некоторые года реализации игры восстановить можно, используя сведения из названия игр. Относительно спортивных игр стоит понимать, что указанный в названии год означает конец игрового сезона. Значит, игра была реализована годом ранее - в начале игрового сезона. \n",
    "\n",
    "Игры без известного года реализации для последующего анализа не нужны, данные сроки будут удалены"
   ]
  },
  {
   "cell_type": "code",
   "execution_count": 18,
   "metadata": {},
   "outputs": [],
   "source": [
    "nan_year_of_release = games[games['year_of_release'].isna()]"
   ]
  },
  {
   "cell_type": "code",
   "execution_count": 19,
   "metadata": {},
   "outputs": [
    {
     "data": {
      "text/html": [
       "<div>\n",
       "<style scoped>\n",
       "    .dataframe tbody tr th:only-of-type {\n",
       "        vertical-align: middle;\n",
       "    }\n",
       "\n",
       "    .dataframe tbody tr th {\n",
       "        vertical-align: top;\n",
       "    }\n",
       "\n",
       "    .dataframe thead th {\n",
       "        text-align: right;\n",
       "    }\n",
       "</style>\n",
       "<table border=\"1\" class=\"dataframe\">\n",
       "  <thead>\n",
       "    <tr style=\"text-align: right;\">\n",
       "      <th></th>\n",
       "      <th>name</th>\n",
       "      <th>platform</th>\n",
       "      <th>year_of_release</th>\n",
       "      <th>genre</th>\n",
       "      <th>na_sales</th>\n",
       "      <th>eu_sales</th>\n",
       "      <th>jp_sales</th>\n",
       "      <th>other_sales</th>\n",
       "      <th>critic_score</th>\n",
       "      <th>user_score</th>\n",
       "      <th>rating</th>\n",
       "    </tr>\n",
       "  </thead>\n",
       "  <tbody>\n",
       "    <tr>\n",
       "      <th>183</th>\n",
       "      <td>Madden NFL 2004</td>\n",
       "      <td>PS2</td>\n",
       "      <td>NaN</td>\n",
       "      <td>Sports</td>\n",
       "      <td>4.26</td>\n",
       "      <td>0.26</td>\n",
       "      <td>0.01</td>\n",
       "      <td>0.71</td>\n",
       "      <td>94.0</td>\n",
       "      <td>8.5</td>\n",
       "      <td>E</td>\n",
       "    </tr>\n",
       "    <tr>\n",
       "      <th>377</th>\n",
       "      <td>FIFA Soccer 2004</td>\n",
       "      <td>PS2</td>\n",
       "      <td>NaN</td>\n",
       "      <td>Sports</td>\n",
       "      <td>0.59</td>\n",
       "      <td>2.36</td>\n",
       "      <td>0.04</td>\n",
       "      <td>0.51</td>\n",
       "      <td>84.0</td>\n",
       "      <td>6.4</td>\n",
       "      <td>E</td>\n",
       "    </tr>\n",
       "    <tr>\n",
       "      <th>456</th>\n",
       "      <td>LEGO Batman: The Videogame</td>\n",
       "      <td>Wii</td>\n",
       "      <td>NaN</td>\n",
       "      <td>Action</td>\n",
       "      <td>1.80</td>\n",
       "      <td>0.97</td>\n",
       "      <td>0.00</td>\n",
       "      <td>0.29</td>\n",
       "      <td>74.0</td>\n",
       "      <td>7.9</td>\n",
       "      <td>E10+</td>\n",
       "    </tr>\n",
       "    <tr>\n",
       "      <th>475</th>\n",
       "      <td>wwe Smackdown vs. Raw 2006</td>\n",
       "      <td>PS2</td>\n",
       "      <td>NaN</td>\n",
       "      <td>Fighting</td>\n",
       "      <td>1.57</td>\n",
       "      <td>1.02</td>\n",
       "      <td>0.00</td>\n",
       "      <td>0.41</td>\n",
       "      <td>NaN</td>\n",
       "      <td>NaN</td>\n",
       "      <td>NaN</td>\n",
       "    </tr>\n",
       "    <tr>\n",
       "      <th>609</th>\n",
       "      <td>Space Invaders</td>\n",
       "      <td>2600</td>\n",
       "      <td>NaN</td>\n",
       "      <td>Shooter</td>\n",
       "      <td>2.36</td>\n",
       "      <td>0.14</td>\n",
       "      <td>0.00</td>\n",
       "      <td>0.03</td>\n",
       "      <td>NaN</td>\n",
       "      <td>NaN</td>\n",
       "      <td>NaN</td>\n",
       "    </tr>\n",
       "  </tbody>\n",
       "</table>\n",
       "</div>"
      ],
      "text/plain": [
       "                           name platform  year_of_release     genre  na_sales  \\\n",
       "183             Madden NFL 2004      PS2              NaN    Sports      4.26   \n",
       "377            FIFA Soccer 2004      PS2              NaN    Sports      0.59   \n",
       "456  LEGO Batman: The Videogame      Wii              NaN    Action      1.80   \n",
       "475  wwe Smackdown vs. Raw 2006      PS2              NaN  Fighting      1.57   \n",
       "609              Space Invaders     2600              NaN   Shooter      2.36   \n",
       "\n",
       "     eu_sales  jp_sales  other_sales  critic_score  user_score rating  \n",
       "183      0.26      0.01         0.71          94.0         8.5      E  \n",
       "377      2.36      0.04         0.51          84.0         6.4      E  \n",
       "456      0.97      0.00         0.29          74.0         7.9   E10+  \n",
       "475      1.02      0.00         0.41           NaN         NaN    NaN  \n",
       "609      0.14      0.00         0.03           NaN         NaN    NaN  "
      ]
     },
     "metadata": {},
     "output_type": "display_data"
    }
   ],
   "source": [
    "display(nan_year_of_release.head())"
   ]
  },
  {
   "cell_type": "code",
   "execution_count": 20,
   "metadata": {},
   "outputs": [],
   "source": [
    "def fill_year(row):\n",
    "    year = 0\n",
    "    last_word = ''\n",
    "    genre = row[3]\n",
    "    for word in row[0].split():\n",
    "        try:\n",
    "            last_word = word\n",
    "            year = int(word)\n",
    "        except:\n",
    "            continue\n",
    "    if genre in ('Sports', 'Racing', 'Fighting'):\n",
    "        if year > 2000 or last_word in ('2K6','2K8'):\n",
    "            if genre == 'Sports':\n",
    "                year -=1\n",
    "            if last_word == '2K6':\n",
    "                year = 2005\n",
    "            elif last_word == '2K8':\n",
    "                year = 2007\n",
    "            if year < 2017 and np.isnan(row[2]):\n",
    "                row[2] = year\n",
    "    return row\n",
    "\n",
    "games = games.apply(fill_year, axis=1)"
   ]
  },
  {
   "cell_type": "code",
   "execution_count": 21,
   "metadata": {},
   "outputs": [],
   "source": [
    "games.drop(games[games['year_of_release'].isna()].index, inplace=True)"
   ]
  },
  {
   "cell_type": "code",
   "execution_count": 22,
   "metadata": {},
   "outputs": [],
   "source": [
    "games['year_of_release'] =  pd.to_numeric(games['year_of_release'], downcast='integer')"
   ]
  },
  {
   "cell_type": "code",
   "execution_count": 23,
   "metadata": {},
   "outputs": [
    {
     "name": "stdout",
     "output_type": "stream",
     "text": [
      "<class 'pandas.core.frame.DataFrame'>\n",
      "Int64Index: 16462 entries, 0 to 16714\n",
      "Data columns (total 11 columns):\n",
      " #   Column           Non-Null Count  Dtype  \n",
      "---  ------           --------------  -----  \n",
      " 0   name             16462 non-null  object \n",
      " 1   platform         16462 non-null  object \n",
      " 2   year_of_release  16462 non-null  int16  \n",
      " 3   genre            16462 non-null  object \n",
      " 4   na_sales         16462 non-null  float64\n",
      " 5   eu_sales         16462 non-null  float64\n",
      " 6   jp_sales         16462 non-null  float64\n",
      " 7   other_sales      16462 non-null  float64\n",
      " 8   critic_score     7997 non-null   float64\n",
      " 9   user_score       7473 non-null   float64\n",
      " 10  rating           9781 non-null   object \n",
      "dtypes: float64(6), int16(1), object(4)\n",
      "memory usage: 1.4+ MB\n"
     ]
    }
   ],
   "source": [
    "games.info()"
   ]
  },
  {
   "cell_type": "markdown",
   "metadata": {},
   "source": [
    "Удаляю явные дупликаты"
   ]
  },
  {
   "cell_type": "code",
   "execution_count": 24,
   "metadata": {},
   "outputs": [
    {
     "data": {
      "text/html": [
       "<div>\n",
       "<style scoped>\n",
       "    .dataframe tbody tr th:only-of-type {\n",
       "        vertical-align: middle;\n",
       "    }\n",
       "\n",
       "    .dataframe tbody tr th {\n",
       "        vertical-align: top;\n",
       "    }\n",
       "\n",
       "    .dataframe thead th {\n",
       "        text-align: right;\n",
       "    }\n",
       "</style>\n",
       "<table border=\"1\" class=\"dataframe\">\n",
       "  <thead>\n",
       "    <tr style=\"text-align: right;\">\n",
       "      <th></th>\n",
       "      <th>name</th>\n",
       "      <th>platform</th>\n",
       "      <th>year_of_release</th>\n",
       "      <th>genre</th>\n",
       "      <th>na_sales</th>\n",
       "      <th>eu_sales</th>\n",
       "      <th>jp_sales</th>\n",
       "      <th>other_sales</th>\n",
       "      <th>critic_score</th>\n",
       "      <th>user_score</th>\n",
       "      <th>rating</th>\n",
       "    </tr>\n",
       "  </thead>\n",
       "  <tbody>\n",
       "    <tr>\n",
       "      <th>0</th>\n",
       "      <td>Wii Sports</td>\n",
       "      <td>Wii</td>\n",
       "      <td>2006</td>\n",
       "      <td>Sports</td>\n",
       "      <td>41.36</td>\n",
       "      <td>28.96</td>\n",
       "      <td>3.77</td>\n",
       "      <td>8.45</td>\n",
       "      <td>76.0</td>\n",
       "      <td>8.0</td>\n",
       "      <td>E</td>\n",
       "    </tr>\n",
       "    <tr>\n",
       "      <th>1</th>\n",
       "      <td>Super Mario Bros.</td>\n",
       "      <td>NES</td>\n",
       "      <td>1985</td>\n",
       "      <td>Platform</td>\n",
       "      <td>29.08</td>\n",
       "      <td>3.58</td>\n",
       "      <td>6.81</td>\n",
       "      <td>0.77</td>\n",
       "      <td>NaN</td>\n",
       "      <td>NaN</td>\n",
       "      <td>NaN</td>\n",
       "    </tr>\n",
       "    <tr>\n",
       "      <th>2</th>\n",
       "      <td>Mario Kart Wii</td>\n",
       "      <td>Wii</td>\n",
       "      <td>2008</td>\n",
       "      <td>Racing</td>\n",
       "      <td>15.68</td>\n",
       "      <td>12.76</td>\n",
       "      <td>3.79</td>\n",
       "      <td>3.29</td>\n",
       "      <td>82.0</td>\n",
       "      <td>8.3</td>\n",
       "      <td>E</td>\n",
       "    </tr>\n",
       "    <tr>\n",
       "      <th>3</th>\n",
       "      <td>Wii Sports Resort</td>\n",
       "      <td>Wii</td>\n",
       "      <td>2009</td>\n",
       "      <td>Sports</td>\n",
       "      <td>15.61</td>\n",
       "      <td>10.93</td>\n",
       "      <td>3.28</td>\n",
       "      <td>2.95</td>\n",
       "      <td>80.0</td>\n",
       "      <td>8.0</td>\n",
       "      <td>E</td>\n",
       "    </tr>\n",
       "    <tr>\n",
       "      <th>4</th>\n",
       "      <td>Pokemon Red/Pokemon Blue</td>\n",
       "      <td>GB</td>\n",
       "      <td>1996</td>\n",
       "      <td>Role-Playing</td>\n",
       "      <td>11.27</td>\n",
       "      <td>8.89</td>\n",
       "      <td>10.22</td>\n",
       "      <td>1.00</td>\n",
       "      <td>NaN</td>\n",
       "      <td>NaN</td>\n",
       "      <td>NaN</td>\n",
       "    </tr>\n",
       "    <tr>\n",
       "      <th>...</th>\n",
       "      <td>...</td>\n",
       "      <td>...</td>\n",
       "      <td>...</td>\n",
       "      <td>...</td>\n",
       "      <td>...</td>\n",
       "      <td>...</td>\n",
       "      <td>...</td>\n",
       "      <td>...</td>\n",
       "      <td>...</td>\n",
       "      <td>...</td>\n",
       "      <td>...</td>\n",
       "    </tr>\n",
       "    <tr>\n",
       "      <th>16710</th>\n",
       "      <td>Samurai Warriors: Sanada Maru</td>\n",
       "      <td>PS3</td>\n",
       "      <td>2016</td>\n",
       "      <td>Action</td>\n",
       "      <td>0.00</td>\n",
       "      <td>0.00</td>\n",
       "      <td>0.01</td>\n",
       "      <td>0.00</td>\n",
       "      <td>NaN</td>\n",
       "      <td>NaN</td>\n",
       "      <td>NaN</td>\n",
       "    </tr>\n",
       "    <tr>\n",
       "      <th>16711</th>\n",
       "      <td>LMA Manager 2007</td>\n",
       "      <td>X360</td>\n",
       "      <td>2006</td>\n",
       "      <td>Sports</td>\n",
       "      <td>0.00</td>\n",
       "      <td>0.01</td>\n",
       "      <td>0.00</td>\n",
       "      <td>0.00</td>\n",
       "      <td>NaN</td>\n",
       "      <td>NaN</td>\n",
       "      <td>NaN</td>\n",
       "    </tr>\n",
       "    <tr>\n",
       "      <th>16712</th>\n",
       "      <td>Haitaka no Psychedelica</td>\n",
       "      <td>PSV</td>\n",
       "      <td>2016</td>\n",
       "      <td>Adventure</td>\n",
       "      <td>0.00</td>\n",
       "      <td>0.00</td>\n",
       "      <td>0.01</td>\n",
       "      <td>0.00</td>\n",
       "      <td>NaN</td>\n",
       "      <td>NaN</td>\n",
       "      <td>NaN</td>\n",
       "    </tr>\n",
       "    <tr>\n",
       "      <th>16713</th>\n",
       "      <td>Spirits &amp; Spells</td>\n",
       "      <td>GBA</td>\n",
       "      <td>2003</td>\n",
       "      <td>Platform</td>\n",
       "      <td>0.01</td>\n",
       "      <td>0.00</td>\n",
       "      <td>0.00</td>\n",
       "      <td>0.00</td>\n",
       "      <td>NaN</td>\n",
       "      <td>NaN</td>\n",
       "      <td>NaN</td>\n",
       "    </tr>\n",
       "    <tr>\n",
       "      <th>16714</th>\n",
       "      <td>Winning Post 8 2016</td>\n",
       "      <td>PSV</td>\n",
       "      <td>2016</td>\n",
       "      <td>Simulation</td>\n",
       "      <td>0.00</td>\n",
       "      <td>0.00</td>\n",
       "      <td>0.01</td>\n",
       "      <td>0.00</td>\n",
       "      <td>NaN</td>\n",
       "      <td>NaN</td>\n",
       "      <td>NaN</td>\n",
       "    </tr>\n",
       "  </tbody>\n",
       "</table>\n",
       "<p>16462 rows × 11 columns</p>\n",
       "</div>"
      ],
      "text/plain": [
       "                                name platform  year_of_release         genre  \\\n",
       "0                         Wii Sports      Wii             2006        Sports   \n",
       "1                  Super Mario Bros.      NES             1985      Platform   \n",
       "2                     Mario Kart Wii      Wii             2008        Racing   \n",
       "3                  Wii Sports Resort      Wii             2009        Sports   \n",
       "4           Pokemon Red/Pokemon Blue       GB             1996  Role-Playing   \n",
       "...                              ...      ...              ...           ...   \n",
       "16710  Samurai Warriors: Sanada Maru      PS3             2016        Action   \n",
       "16711               LMA Manager 2007     X360             2006        Sports   \n",
       "16712        Haitaka no Psychedelica      PSV             2016     Adventure   \n",
       "16713               Spirits & Spells      GBA             2003      Platform   \n",
       "16714            Winning Post 8 2016      PSV             2016    Simulation   \n",
       "\n",
       "       na_sales  eu_sales  jp_sales  other_sales  critic_score  user_score  \\\n",
       "0         41.36     28.96      3.77         8.45          76.0         8.0   \n",
       "1         29.08      3.58      6.81         0.77           NaN         NaN   \n",
       "2         15.68     12.76      3.79         3.29          82.0         8.3   \n",
       "3         15.61     10.93      3.28         2.95          80.0         8.0   \n",
       "4         11.27      8.89     10.22         1.00           NaN         NaN   \n",
       "...         ...       ...       ...          ...           ...         ...   \n",
       "16710      0.00      0.00      0.01         0.00           NaN         NaN   \n",
       "16711      0.00      0.01      0.00         0.00           NaN         NaN   \n",
       "16712      0.00      0.00      0.01         0.00           NaN         NaN   \n",
       "16713      0.01      0.00      0.00         0.00           NaN         NaN   \n",
       "16714      0.00      0.00      0.01         0.00           NaN         NaN   \n",
       "\n",
       "      rating  \n",
       "0          E  \n",
       "1        NaN  \n",
       "2          E  \n",
       "3          E  \n",
       "4        NaN  \n",
       "...      ...  \n",
       "16710    NaN  \n",
       "16711    NaN  \n",
       "16712    NaN  \n",
       "16713    NaN  \n",
       "16714    NaN  \n",
       "\n",
       "[16462 rows x 11 columns]"
      ]
     },
     "execution_count": 24,
     "metadata": {},
     "output_type": "execute_result"
    }
   ],
   "source": [
    "games.drop_duplicates()"
   ]
  },
  {
   "cell_type": "markdown",
   "metadata": {},
   "source": [
    "#### Расчет суммарного объема продаж во всех регионах"
   ]
  },
  {
   "cell_type": "code",
   "execution_count": 25,
   "metadata": {},
   "outputs": [],
   "source": [
    "games['all_sales'] = games['na_sales']+games['eu_sales']+games['jp_sales']+games['other_sales']"
   ]
  },
  {
   "cell_type": "code",
   "execution_count": 26,
   "metadata": {
    "scrolled": true
   },
   "outputs": [
    {
     "data": {
      "text/html": [
       "<div>\n",
       "<style scoped>\n",
       "    .dataframe tbody tr th:only-of-type {\n",
       "        vertical-align: middle;\n",
       "    }\n",
       "\n",
       "    .dataframe tbody tr th {\n",
       "        vertical-align: top;\n",
       "    }\n",
       "\n",
       "    .dataframe thead th {\n",
       "        text-align: right;\n",
       "    }\n",
       "</style>\n",
       "<table border=\"1\" class=\"dataframe\">\n",
       "  <thead>\n",
       "    <tr style=\"text-align: right;\">\n",
       "      <th></th>\n",
       "      <th>name</th>\n",
       "      <th>platform</th>\n",
       "      <th>year_of_release</th>\n",
       "      <th>genre</th>\n",
       "      <th>na_sales</th>\n",
       "      <th>eu_sales</th>\n",
       "      <th>jp_sales</th>\n",
       "      <th>other_sales</th>\n",
       "      <th>critic_score</th>\n",
       "      <th>user_score</th>\n",
       "      <th>rating</th>\n",
       "      <th>all_sales</th>\n",
       "    </tr>\n",
       "  </thead>\n",
       "  <tbody>\n",
       "    <tr>\n",
       "      <th>0</th>\n",
       "      <td>Wii Sports</td>\n",
       "      <td>Wii</td>\n",
       "      <td>2006</td>\n",
       "      <td>Sports</td>\n",
       "      <td>41.36</td>\n",
       "      <td>28.96</td>\n",
       "      <td>3.77</td>\n",
       "      <td>8.45</td>\n",
       "      <td>76.0</td>\n",
       "      <td>8.0</td>\n",
       "      <td>E</td>\n",
       "      <td>82.54</td>\n",
       "    </tr>\n",
       "    <tr>\n",
       "      <th>1</th>\n",
       "      <td>Super Mario Bros.</td>\n",
       "      <td>NES</td>\n",
       "      <td>1985</td>\n",
       "      <td>Platform</td>\n",
       "      <td>29.08</td>\n",
       "      <td>3.58</td>\n",
       "      <td>6.81</td>\n",
       "      <td>0.77</td>\n",
       "      <td>NaN</td>\n",
       "      <td>NaN</td>\n",
       "      <td>NaN</td>\n",
       "      <td>40.24</td>\n",
       "    </tr>\n",
       "    <tr>\n",
       "      <th>2</th>\n",
       "      <td>Mario Kart Wii</td>\n",
       "      <td>Wii</td>\n",
       "      <td>2008</td>\n",
       "      <td>Racing</td>\n",
       "      <td>15.68</td>\n",
       "      <td>12.76</td>\n",
       "      <td>3.79</td>\n",
       "      <td>3.29</td>\n",
       "      <td>82.0</td>\n",
       "      <td>8.3</td>\n",
       "      <td>E</td>\n",
       "      <td>35.52</td>\n",
       "    </tr>\n",
       "    <tr>\n",
       "      <th>3</th>\n",
       "      <td>Wii Sports Resort</td>\n",
       "      <td>Wii</td>\n",
       "      <td>2009</td>\n",
       "      <td>Sports</td>\n",
       "      <td>15.61</td>\n",
       "      <td>10.93</td>\n",
       "      <td>3.28</td>\n",
       "      <td>2.95</td>\n",
       "      <td>80.0</td>\n",
       "      <td>8.0</td>\n",
       "      <td>E</td>\n",
       "      <td>32.77</td>\n",
       "    </tr>\n",
       "    <tr>\n",
       "      <th>4</th>\n",
       "      <td>Pokemon Red/Pokemon Blue</td>\n",
       "      <td>GB</td>\n",
       "      <td>1996</td>\n",
       "      <td>Role-Playing</td>\n",
       "      <td>11.27</td>\n",
       "      <td>8.89</td>\n",
       "      <td>10.22</td>\n",
       "      <td>1.00</td>\n",
       "      <td>NaN</td>\n",
       "      <td>NaN</td>\n",
       "      <td>NaN</td>\n",
       "      <td>31.38</td>\n",
       "    </tr>\n",
       "  </tbody>\n",
       "</table>\n",
       "</div>"
      ],
      "text/plain": [
       "                       name platform  year_of_release         genre  na_sales  \\\n",
       "0                Wii Sports      Wii             2006        Sports     41.36   \n",
       "1         Super Mario Bros.      NES             1985      Platform     29.08   \n",
       "2            Mario Kart Wii      Wii             2008        Racing     15.68   \n",
       "3         Wii Sports Resort      Wii             2009        Sports     15.61   \n",
       "4  Pokemon Red/Pokemon Blue       GB             1996  Role-Playing     11.27   \n",
       "\n",
       "   eu_sales  jp_sales  other_sales  critic_score  user_score rating  all_sales  \n",
       "0     28.96      3.77         8.45          76.0         8.0      E      82.54  \n",
       "1      3.58      6.81         0.77           NaN         NaN    NaN      40.24  \n",
       "2     12.76      3.79         3.29          82.0         8.3      E      35.52  \n",
       "3     10.93      3.28         2.95          80.0         8.0      E      32.77  \n",
       "4      8.89     10.22         1.00           NaN         NaN    NaN      31.38  "
      ]
     },
     "metadata": {},
     "output_type": "display_data"
    }
   ],
   "source": [
    "display(games.head())"
   ]
  },
  {
   "cell_type": "markdown",
   "metadata": {},
   "source": [
    "В ходе предобработки данных были изменены типы данных в столбцах Year_of_Release (с вещественного на целочисленный), Critic_Score ( с вещественного на целочисленный), User_Score (с общего на вещественно числовой).\n",
    "\n",
    "Оценка игр весьма субъективная, поэтому пропуски NaN в столбцах critic_score, user_score, rating не могут быть заменены на медианные или средние. Эти пропуски невозможно восстановить или удалить.\n",
    "\n",
    "Восстановление отсутствующих значений в year_of_release выполнено благодаря сведениям из названия игр."
   ]
  },
  {
   "cell_type": "markdown",
   "metadata": {},
   "source": [
    "## Исследовательский анализ данных"
   ]
  },
  {
   "cell_type": "markdown",
   "metadata": {},
   "source": [
    "### Исследование объемов выпуска игр в разные годы"
   ]
  },
  {
   "cell_type": "markdown",
   "metadata": {},
   "source": [
    "Для исследования объемов продаж игр по годам сформирую сводную таблицу. "
   ]
  },
  {
   "cell_type": "code",
   "execution_count": 27,
   "metadata": {},
   "outputs": [
    {
     "data": {
      "text/html": [
       "<div>\n",
       "<style scoped>\n",
       "    .dataframe tbody tr th:only-of-type {\n",
       "        vertical-align: middle;\n",
       "    }\n",
       "\n",
       "    .dataframe tbody tr th {\n",
       "        vertical-align: top;\n",
       "    }\n",
       "\n",
       "    .dataframe thead th {\n",
       "        text-align: right;\n",
       "    }\n",
       "</style>\n",
       "<table border=\"1\" class=\"dataframe\">\n",
       "  <thead>\n",
       "    <tr style=\"text-align: right;\">\n",
       "      <th></th>\n",
       "      <th>games_count</th>\n",
       "    </tr>\n",
       "    <tr>\n",
       "      <th>year_of_release</th>\n",
       "      <th></th>\n",
       "    </tr>\n",
       "  </thead>\n",
       "  <tbody>\n",
       "    <tr>\n",
       "      <th>1980</th>\n",
       "      <td>9</td>\n",
       "    </tr>\n",
       "    <tr>\n",
       "      <th>1981</th>\n",
       "      <td>46</td>\n",
       "    </tr>\n",
       "    <tr>\n",
       "      <th>1982</th>\n",
       "      <td>36</td>\n",
       "    </tr>\n",
       "    <tr>\n",
       "      <th>1983</th>\n",
       "      <td>17</td>\n",
       "    </tr>\n",
       "    <tr>\n",
       "      <th>1984</th>\n",
       "      <td>14</td>\n",
       "    </tr>\n",
       "    <tr>\n",
       "      <th>1985</th>\n",
       "      <td>14</td>\n",
       "    </tr>\n",
       "    <tr>\n",
       "      <th>1986</th>\n",
       "      <td>21</td>\n",
       "    </tr>\n",
       "    <tr>\n",
       "      <th>1987</th>\n",
       "      <td>16</td>\n",
       "    </tr>\n",
       "    <tr>\n",
       "      <th>1988</th>\n",
       "      <td>15</td>\n",
       "    </tr>\n",
       "    <tr>\n",
       "      <th>1989</th>\n",
       "      <td>17</td>\n",
       "    </tr>\n",
       "    <tr>\n",
       "      <th>1990</th>\n",
       "      <td>16</td>\n",
       "    </tr>\n",
       "    <tr>\n",
       "      <th>1991</th>\n",
       "      <td>41</td>\n",
       "    </tr>\n",
       "    <tr>\n",
       "      <th>1992</th>\n",
       "      <td>43</td>\n",
       "    </tr>\n",
       "    <tr>\n",
       "      <th>1993</th>\n",
       "      <td>60</td>\n",
       "    </tr>\n",
       "    <tr>\n",
       "      <th>1994</th>\n",
       "      <td>121</td>\n",
       "    </tr>\n",
       "    <tr>\n",
       "      <th>1995</th>\n",
       "      <td>219</td>\n",
       "    </tr>\n",
       "    <tr>\n",
       "      <th>1996</th>\n",
       "      <td>263</td>\n",
       "    </tr>\n",
       "    <tr>\n",
       "      <th>1997</th>\n",
       "      <td>289</td>\n",
       "    </tr>\n",
       "    <tr>\n",
       "      <th>1998</th>\n",
       "      <td>379</td>\n",
       "    </tr>\n",
       "    <tr>\n",
       "      <th>1999</th>\n",
       "      <td>338</td>\n",
       "    </tr>\n",
       "    <tr>\n",
       "      <th>2000</th>\n",
       "      <td>350</td>\n",
       "    </tr>\n",
       "    <tr>\n",
       "      <th>2001</th>\n",
       "      <td>483</td>\n",
       "    </tr>\n",
       "    <tr>\n",
       "      <th>2002</th>\n",
       "      <td>832</td>\n",
       "    </tr>\n",
       "    <tr>\n",
       "      <th>2003</th>\n",
       "      <td>778</td>\n",
       "    </tr>\n",
       "    <tr>\n",
       "      <th>2004</th>\n",
       "      <td>764</td>\n",
       "    </tr>\n",
       "    <tr>\n",
       "      <th>2005</th>\n",
       "      <td>941</td>\n",
       "    </tr>\n",
       "    <tr>\n",
       "      <th>2006</th>\n",
       "      <td>1009</td>\n",
       "    </tr>\n",
       "    <tr>\n",
       "      <th>2007</th>\n",
       "      <td>1200</td>\n",
       "    </tr>\n",
       "    <tr>\n",
       "      <th>2008</th>\n",
       "      <td>1427</td>\n",
       "    </tr>\n",
       "    <tr>\n",
       "      <th>2009</th>\n",
       "      <td>1426</td>\n",
       "    </tr>\n",
       "    <tr>\n",
       "      <th>2010</th>\n",
       "      <td>1255</td>\n",
       "    </tr>\n",
       "    <tr>\n",
       "      <th>2011</th>\n",
       "      <td>1137</td>\n",
       "    </tr>\n",
       "    <tr>\n",
       "      <th>2012</th>\n",
       "      <td>653</td>\n",
       "    </tr>\n",
       "    <tr>\n",
       "      <th>2013</th>\n",
       "      <td>544</td>\n",
       "    </tr>\n",
       "    <tr>\n",
       "      <th>2014</th>\n",
       "      <td>581</td>\n",
       "    </tr>\n",
       "    <tr>\n",
       "      <th>2015</th>\n",
       "      <td>606</td>\n",
       "    </tr>\n",
       "    <tr>\n",
       "      <th>2016</th>\n",
       "      <td>502</td>\n",
       "    </tr>\n",
       "  </tbody>\n",
       "</table>\n",
       "</div>"
      ],
      "text/plain": [
       "                 games_count\n",
       "year_of_release             \n",
       "1980                       9\n",
       "1981                      46\n",
       "1982                      36\n",
       "1983                      17\n",
       "1984                      14\n",
       "1985                      14\n",
       "1986                      21\n",
       "1987                      16\n",
       "1988                      15\n",
       "1989                      17\n",
       "1990                      16\n",
       "1991                      41\n",
       "1992                      43\n",
       "1993                      60\n",
       "1994                     121\n",
       "1995                     219\n",
       "1996                     263\n",
       "1997                     289\n",
       "1998                     379\n",
       "1999                     338\n",
       "2000                     350\n",
       "2001                     483\n",
       "2002                     832\n",
       "2003                     778\n",
       "2004                     764\n",
       "2005                     941\n",
       "2006                    1009\n",
       "2007                    1200\n",
       "2008                    1427\n",
       "2009                    1426\n",
       "2010                    1255\n",
       "2011                    1137\n",
       "2012                     653\n",
       "2013                     544\n",
       "2014                     581\n",
       "2015                     606\n",
       "2016                     502"
      ]
     },
     "metadata": {},
     "output_type": "display_data"
    }
   ],
   "source": [
    "sales_volume_by_year = games.pivot_table(index = 'year_of_release', values='all_sales', aggfunc='count' )\n",
    "sales_volume_by_year.columns = ['games_count']\n",
    "display(sales_volume_by_year)"
   ]
  },
  {
   "cell_type": "code",
   "execution_count": 28,
   "metadata": {},
   "outputs": [
    {
     "data": {
      "image/png": "[encoded data removed]",
      "text/plain": [
       "<Figure size 432x288 with 1 Axes>"
      ]
     },
     "metadata": {
      "needs_background": "light"
     },
     "output_type": "display_data"
    }
   ],
   "source": [
    "sales_volume_by_year.plot()\n",
    "plt.xlabel('Год реализации игр')\n",
    "plt.ylabel('Количество вышедших игр')\n",
    "plt.title('Соотношение года и объемов выпуска игр')\n",
    "plt.legend()\n",
    "plt.show()"
   ]
  },
  {
   "cell_type": "markdown",
   "metadata": {},
   "source": [
    "Для анализа важны не все предоставленные данные: до 1995 года динамика объемов выпуска игр была относительно стабильной, поэтому сведения до данного периода могут быть исключены из анализа.\n",
    "\n",
    "Популярность игр возросла после 1995 года, небольшие спады количества выпускаемых игр в ~2000 и ~2005 годах может объясняться экономическими причиами: 10 марта 2000 года \"лопнул\" пузырь доткомов, образовавшийся ранее в результате взлёта акций интернет-компаний и достигший своего конца к указанному сроку; последствия пузыря растянулись до 2005 года. \n",
    "\n",
    "Спад в ~2010 году объхясняется Мировым экономическим кризисом (2008-2013 года), сказавшемся на многих отраслях деятнльости, в  том числе на производстве компьютерных игр. "
   ]
  },
  {
   "cell_type": "markdown",
   "metadata": {},
   "source": [
    "### Исследование изменений объемов продаж по платформам"
   ]
  },
  {
   "cell_type": "code",
   "execution_count": 29,
   "metadata": {
    "scrolled": true
   },
   "outputs": [
    {
     "data": {
      "text/html": [
       "<div>\n",
       "<style scoped>\n",
       "    .dataframe tbody tr th:only-of-type {\n",
       "        vertical-align: middle;\n",
       "    }\n",
       "\n",
       "    .dataframe tbody tr th {\n",
       "        vertical-align: top;\n",
       "    }\n",
       "\n",
       "    .dataframe thead th {\n",
       "        text-align: right;\n",
       "    }\n",
       "</style>\n",
       "<table border=\"1\" class=\"dataframe\">\n",
       "  <thead>\n",
       "    <tr style=\"text-align: right;\">\n",
       "      <th></th>\n",
       "      <th>all_sales</th>\n",
       "    </tr>\n",
       "    <tr>\n",
       "      <th>platform</th>\n",
       "      <th></th>\n",
       "    </tr>\n",
       "  </thead>\n",
       "  <tbody>\n",
       "    <tr>\n",
       "      <th>PS2</th>\n",
       "      <td>1247.53</td>\n",
       "    </tr>\n",
       "    <tr>\n",
       "      <th>X360</th>\n",
       "      <td>961.30</td>\n",
       "    </tr>\n",
       "    <tr>\n",
       "      <th>PS3</th>\n",
       "      <td>931.34</td>\n",
       "    </tr>\n",
       "    <tr>\n",
       "      <th>Wii</th>\n",
       "      <td>891.18</td>\n",
       "    </tr>\n",
       "    <tr>\n",
       "      <th>DS</th>\n",
       "      <td>802.79</td>\n",
       "    </tr>\n",
       "  </tbody>\n",
       "</table>\n",
       "</div>"
      ],
      "text/plain": [
       "          all_sales\n",
       "platform           \n",
       "PS2         1247.53\n",
       "X360         961.30\n",
       "PS3          931.34\n",
       "Wii          891.18\n",
       "DS           802.79"
      ]
     },
     "metadata": {},
     "output_type": "display_data"
    }
   ],
   "source": [
    "sales_volume_by_platform = games.pivot_table(index = ('platform'), values='all_sales', aggfunc='sum' )\n",
    "sales_volume_by_platform.columns = ['all_sales']\n",
    "display(sales_volume_by_platform.sort_values(by='all_sales', ascending=False).head(5))"
   ]
  },
  {
   "cell_type": "code",
   "execution_count": 30,
   "metadata": {
    "scrolled": false
   },
   "outputs": [
    {
     "data": {
      "image/png": "[encoded data removed]",
      "text/plain": [
       "<Figure size 432x288 with 1 Axes>"
      ]
     },
     "metadata": {
      "needs_background": "light"
     },
     "output_type": "display_data"
    }
   ],
   "source": [
    "sales_volume_by_platform_PS2 = pd.pivot_table(games.query('platform == \"PS2\"'), index=['year_of_release'], values='all_sales', aggfunc='sum')\n",
    "sales_volume_by_platform_PS2.plot()\n",
    "plt.xlabel('Год реализации игр на платформе')\n",
    "plt.ylabel('Объем проданных игр на платформе')\n",
    "plt.title('PS2')\n",
    "plt.legend()\n",
    "plt.show()"
   ]
  },
  {
   "cell_type": "code",
   "execution_count": 31,
   "metadata": {
    "scrolled": false
   },
   "outputs": [
    {
     "data": {
      "image/png": "[encoded data removed]",
      "text/plain": [
       "<Figure size 432x288 with 1 Axes>"
      ]
     },
     "metadata": {
      "needs_background": "light"
     },
     "output_type": "display_data"
    }
   ],
   "source": [
    "sales_volume_by_platform_X360 = pd.pivot_table(games.query('platform == \"X360\"'), index=['year_of_release'], values='all_sales', aggfunc='sum')\n",
    "sales_volume_by_platform_X360.plot()\n",
    "plt.xlabel('Год реализации игр на платформе')\n",
    "plt.ylabel('Объем проданных игр на платформе')\n",
    "plt.title('X360')\n",
    "plt.legend()\n",
    "plt.show()"
   ]
  },
  {
   "cell_type": "code",
   "execution_count": 32,
   "metadata": {
    "scrolled": false
   },
   "outputs": [
    {
     "data": {
      "image/png": "[encoded data removed]",
      "text/plain": [
       "<Figure size 432x288 with 1 Axes>"
      ]
     },
     "metadata": {
      "needs_background": "light"
     },
     "output_type": "display_data"
    }
   ],
   "source": [
    "sales_volume_by_platform_PS3 = pd.pivot_table(games.query('platform == \"PS3\"'), index=['year_of_release'], values='all_sales', aggfunc='sum')\n",
    "sales_volume_by_platform_PS3.plot()\n",
    "plt.xlabel('Год реализации игр на платформе')\n",
    "plt.ylabel('Объем проданных игр на платформе')\n",
    "plt.title('PS3')\n",
    "plt.legend()\n",
    "plt.show()"
   ]
  },
  {
   "cell_type": "code",
   "execution_count": 33,
   "metadata": {
    "scrolled": false
   },
   "outputs": [
    {
     "data": {
      "image/png": "[encoded data removed]",
      "text/plain": [
       "<Figure size 432x288 with 1 Axes>"
      ]
     },
     "metadata": {
      "needs_background": "light"
     },
     "output_type": "display_data"
    }
   ],
   "source": [
    "sales_volume_by_platform_Wii = pd.pivot_table(games.query('platform == \"Wii\"'),\n",
    "                                              index=['year_of_release'], \n",
    "                                              values='all_sales', \n",
    "                                              aggfunc='sum')\n",
    "sales_volume_by_platform_Wii.plot()\n",
    "plt.xlabel('Год реализации игр на платформе')\n",
    "plt.ylabel('Объем проданных игр на платформе')\n",
    "plt.title('Wii')\n",
    "plt.legend()\n",
    "plt.show()"
   ]
  },
  {
   "cell_type": "code",
   "execution_count": 34,
   "metadata": {
    "scrolled": false
   },
   "outputs": [
    {
     "data": {
      "image/png": "[encoded data removed]",
      "text/plain": [
       "<Figure size 432x288 with 1 Axes>"
      ]
     },
     "metadata": {
      "needs_background": "light"
     },
     "output_type": "display_data"
    }
   ],
   "source": [
    "sales_volume_by_platform_DS = pd.pivot_table(games.query('platform == \"DS\"'), index=['year_of_release'], values='all_sales', aggfunc='sum')\n",
    "sales_volume_by_platform_DS.plot()\n",
    "plt.xlabel('Год реализации игр на платформе')\n",
    "plt.ylabel('Объем проданных игр на платформе')\n",
    "plt.title('DS')\n",
    "plt.legend()\n",
    "plt.show()"
   ]
  },
  {
   "cell_type": "markdown",
   "metadata": {},
   "source": [
    "Исходя из проведенного анализа ТОП-5 платформ с самыми большими объемами продаж видно, что в среднем срок использования составляет примерно 10 лет"
   ]
  },
  {
   "cell_type": "markdown",
   "metadata": {},
   "source": [
    "Говоря об актуальном периоде для данных, которые в последствии могут быть использованы для построения прогноза для 2017 года, я бы его определелила так: с 2013 по 2016 года.  Поскольку именно в 2013 году Мировой экономический кризис сменился экономическим подъёмом. А исходя из среднего срока производства игра - от 2 до 4 лет - пик продаж игр, разработка которых началась после Мировго кризиса, придется на 2017 год. "
   ]
  },
  {
   "cell_type": "code",
   "execution_count": 35,
   "metadata": {
    "scrolled": false
   },
   "outputs": [
    {
     "data": {
      "text/html": [
       "<div>\n",
       "<style scoped>\n",
       "    .dataframe tbody tr th:only-of-type {\n",
       "        vertical-align: middle;\n",
       "    }\n",
       "\n",
       "    .dataframe tbody tr th {\n",
       "        vertical-align: top;\n",
       "    }\n",
       "\n",
       "    .dataframe thead th {\n",
       "        text-align: right;\n",
       "    }\n",
       "</style>\n",
       "<table border=\"1\" class=\"dataframe\">\n",
       "  <thead>\n",
       "    <tr style=\"text-align: right;\">\n",
       "      <th></th>\n",
       "      <th></th>\n",
       "      <th>all_sales</th>\n",
       "    </tr>\n",
       "    <tr>\n",
       "      <th>platform</th>\n",
       "      <th>year_of_release</th>\n",
       "      <th></th>\n",
       "    </tr>\n",
       "  </thead>\n",
       "  <tbody>\n",
       "    <tr>\n",
       "      <th rowspan=\"4\" valign=\"top\">3DS</th>\n",
       "      <th>2013</th>\n",
       "      <td>56.57</td>\n",
       "    </tr>\n",
       "    <tr>\n",
       "      <th>2014</th>\n",
       "      <td>43.76</td>\n",
       "    </tr>\n",
       "    <tr>\n",
       "      <th>2015</th>\n",
       "      <td>27.78</td>\n",
       "    </tr>\n",
       "    <tr>\n",
       "      <th>2016</th>\n",
       "      <td>15.14</td>\n",
       "    </tr>\n",
       "    <tr>\n",
       "      <th>DS</th>\n",
       "      <th>2013</th>\n",
       "      <td>1.54</td>\n",
       "    </tr>\n",
       "    <tr>\n",
       "      <th rowspan=\"4\" valign=\"top\">PC</th>\n",
       "      <th>2013</th>\n",
       "      <td>12.38</td>\n",
       "    </tr>\n",
       "    <tr>\n",
       "      <th>2014</th>\n",
       "      <td>13.28</td>\n",
       "    </tr>\n",
       "    <tr>\n",
       "      <th>2015</th>\n",
       "      <td>8.52</td>\n",
       "    </tr>\n",
       "    <tr>\n",
       "      <th>2016</th>\n",
       "      <td>5.25</td>\n",
       "    </tr>\n",
       "    <tr>\n",
       "      <th rowspan=\"4\" valign=\"top\">PS3</th>\n",
       "      <th>2013</th>\n",
       "      <td>113.25</td>\n",
       "    </tr>\n",
       "    <tr>\n",
       "      <th>2014</th>\n",
       "      <td>47.76</td>\n",
       "    </tr>\n",
       "    <tr>\n",
       "      <th>2015</th>\n",
       "      <td>16.82</td>\n",
       "    </tr>\n",
       "    <tr>\n",
       "      <th>2016</th>\n",
       "      <td>3.60</td>\n",
       "    </tr>\n",
       "    <tr>\n",
       "      <th rowspan=\"4\" valign=\"top\">PS4</th>\n",
       "      <th>2013</th>\n",
       "      <td>25.99</td>\n",
       "    </tr>\n",
       "    <tr>\n",
       "      <th>2014</th>\n",
       "      <td>100.00</td>\n",
       "    </tr>\n",
       "    <tr>\n",
       "      <th>2015</th>\n",
       "      <td>118.90</td>\n",
       "    </tr>\n",
       "    <tr>\n",
       "      <th>2016</th>\n",
       "      <td>69.25</td>\n",
       "    </tr>\n",
       "    <tr>\n",
       "      <th rowspan=\"3\" valign=\"top\">PSP</th>\n",
       "      <th>2013</th>\n",
       "      <td>3.14</td>\n",
       "    </tr>\n",
       "    <tr>\n",
       "      <th>2014</th>\n",
       "      <td>0.24</td>\n",
       "    </tr>\n",
       "    <tr>\n",
       "      <th>2015</th>\n",
       "      <td>0.12</td>\n",
       "    </tr>\n",
       "    <tr>\n",
       "      <th rowspan=\"4\" valign=\"top\">PSV</th>\n",
       "      <th>2013</th>\n",
       "      <td>10.59</td>\n",
       "    </tr>\n",
       "    <tr>\n",
       "      <th>2014</th>\n",
       "      <td>11.90</td>\n",
       "    </tr>\n",
       "    <tr>\n",
       "      <th>2015</th>\n",
       "      <td>6.25</td>\n",
       "    </tr>\n",
       "    <tr>\n",
       "      <th>2016</th>\n",
       "      <td>4.25</td>\n",
       "    </tr>\n",
       "    <tr>\n",
       "      <th rowspan=\"4\" valign=\"top\">Wii</th>\n",
       "      <th>2013</th>\n",
       "      <td>8.59</td>\n",
       "    </tr>\n",
       "    <tr>\n",
       "      <th>2014</th>\n",
       "      <td>3.75</td>\n",
       "    </tr>\n",
       "    <tr>\n",
       "      <th>2015</th>\n",
       "      <td>1.14</td>\n",
       "    </tr>\n",
       "    <tr>\n",
       "      <th>2016</th>\n",
       "      <td>0.18</td>\n",
       "    </tr>\n",
       "    <tr>\n",
       "      <th rowspan=\"4\" valign=\"top\">WiiU</th>\n",
       "      <th>2013</th>\n",
       "      <td>21.65</td>\n",
       "    </tr>\n",
       "    <tr>\n",
       "      <th>2014</th>\n",
       "      <td>22.03</td>\n",
       "    </tr>\n",
       "    <tr>\n",
       "      <th>2015</th>\n",
       "      <td>16.35</td>\n",
       "    </tr>\n",
       "    <tr>\n",
       "      <th>2016</th>\n",
       "      <td>4.60</td>\n",
       "    </tr>\n",
       "    <tr>\n",
       "      <th rowspan=\"4\" valign=\"top\">X360</th>\n",
       "      <th>2013</th>\n",
       "      <td>88.58</td>\n",
       "    </tr>\n",
       "    <tr>\n",
       "      <th>2014</th>\n",
       "      <td>34.74</td>\n",
       "    </tr>\n",
       "    <tr>\n",
       "      <th>2015</th>\n",
       "      <td>11.96</td>\n",
       "    </tr>\n",
       "    <tr>\n",
       "      <th>2016</th>\n",
       "      <td>1.52</td>\n",
       "    </tr>\n",
       "    <tr>\n",
       "      <th rowspan=\"4\" valign=\"top\">XOne</th>\n",
       "      <th>2013</th>\n",
       "      <td>18.96</td>\n",
       "    </tr>\n",
       "    <tr>\n",
       "      <th>2014</th>\n",
       "      <td>54.07</td>\n",
       "    </tr>\n",
       "    <tr>\n",
       "      <th>2015</th>\n",
       "      <td>60.14</td>\n",
       "    </tr>\n",
       "    <tr>\n",
       "      <th>2016</th>\n",
       "      <td>26.15</td>\n",
       "    </tr>\n",
       "  </tbody>\n",
       "</table>\n",
       "</div>"
      ],
      "text/plain": [
       "                          all_sales\n",
       "platform year_of_release           \n",
       "3DS      2013                 56.57\n",
       "         2014                 43.76\n",
       "         2015                 27.78\n",
       "         2016                 15.14\n",
       "DS       2013                  1.54\n",
       "PC       2013                 12.38\n",
       "         2014                 13.28\n",
       "         2015                  8.52\n",
       "         2016                  5.25\n",
       "PS3      2013                113.25\n",
       "         2014                 47.76\n",
       "         2015                 16.82\n",
       "         2016                  3.60\n",
       "PS4      2013                 25.99\n",
       "         2014                100.00\n",
       "         2015                118.90\n",
       "         2016                 69.25\n",
       "PSP      2013                  3.14\n",
       "         2014                  0.24\n",
       "         2015                  0.12\n",
       "PSV      2013                 10.59\n",
       "         2014                 11.90\n",
       "         2015                  6.25\n",
       "         2016                  4.25\n",
       "Wii      2013                  8.59\n",
       "         2014                  3.75\n",
       "         2015                  1.14\n",
       "         2016                  0.18\n",
       "WiiU     2013                 21.65\n",
       "         2014                 22.03\n",
       "         2015                 16.35\n",
       "         2016                  4.60\n",
       "X360     2013                 88.58\n",
       "         2014                 34.74\n",
       "         2015                 11.96\n",
       "         2016                  1.52\n",
       "XOne     2013                 18.96\n",
       "         2014                 54.07\n",
       "         2015                 60.14\n",
       "         2016                 26.15"
      ]
     },
     "metadata": {},
     "output_type": "display_data"
    }
   ],
   "source": [
    "best_sales_volume = pd.pivot_table(games.query('year_of_release > 2012'), \n",
    "                                   index=['platform', 'year_of_release'], \n",
    "                                   values='all_sales', \n",
    "                                   aggfunc='sum')\n",
    "best_sales_volume.columns = ['all_sales']\n",
    "display(best_sales_volume)"
   ]
  },
  {
   "cell_type": "code",
   "execution_count": 36,
   "metadata": {
    "scrolled": true
   },
   "outputs": [
    {
     "data": {
      "image/png": "[encoded data removed]",
      "text/plain": [
       "<Figure size 432x288 with 1 Axes>"
      ]
     },
     "metadata": {
      "needs_background": "light"
     },
     "output_type": "display_data"
    }
   ],
   "source": [
    "best_sales_volume.plot(kind='bar')\n",
    "plt.xlabel('Год реализации игр на платформе')\n",
    "plt.ylabel('Объем проданных игр на платформе')\n",
    "plt.title('Динамика продаж игр на платформах')\n",
    "plt.legend()\n",
    "plt.show()"
   ]
  },
  {
   "cell_type": "markdown",
   "metadata": {},
   "source": [
    "Лидируют по продажам в 2016 году: PS4, XOne, WiiU, 3DS. Исходя из общей динамики, данные платформы считаю потенциально прибыльными\t\n",
    "\n",
    "Падают по продажам: DS, PC, PS3, PSP, Wii, X360, поскольку это устаревающие можели приставок. Соответвенно, им на смену приходят новые модели, продажи у которых увеличиваются: PS4, XOne, 3DS, WiiU и PSV"
   ]
  },
  {
   "cell_type": "markdown",
   "metadata": {},
   "source": [
    "### Исследование глобльных продаж по платформам"
   ]
  },
  {
   "cell_type": "markdown",
   "metadata": {},
   "source": [
    "В исследовании будут принимать участие потенциально прибыльные платформы, для кототрых представлены данные за 2013 - 2016 год. "
   ]
  },
  {
   "cell_type": "markdown",
   "metadata": {},
   "source": [
    "#### Исследование глобльных продаж PS4"
   ]
  },
  {
   "cell_type": "code",
   "execution_count": 37,
   "metadata": {},
   "outputs": [
    {
     "data": {
      "image/png": "[encoded data removed]",
      "text/plain": [
       "<Figure size 432x288 with 1 Axes>"
      ]
     },
     "metadata": {
      "needs_background": "light"
     },
     "output_type": "display_data"
    },
    {
     "data": {
      "text/html": [
       "<div>\n",
       "<style scoped>\n",
       "    .dataframe tbody tr th:only-of-type {\n",
       "        vertical-align: middle;\n",
       "    }\n",
       "\n",
       "    .dataframe tbody tr th {\n",
       "        vertical-align: top;\n",
       "    }\n",
       "\n",
       "    .dataframe thead th {\n",
       "        text-align: right;\n",
       "    }\n",
       "</style>\n",
       "<table border=\"1\" class=\"dataframe\">\n",
       "  <thead>\n",
       "    <tr style=\"text-align: right;\">\n",
       "      <th></th>\n",
       "      <th>all_sales</th>\n",
       "    </tr>\n",
       "  </thead>\n",
       "  <tbody>\n",
       "    <tr>\n",
       "      <th>count</th>\n",
       "      <td>392.000000</td>\n",
       "    </tr>\n",
       "    <tr>\n",
       "      <th>mean</th>\n",
       "      <td>0.801378</td>\n",
       "    </tr>\n",
       "    <tr>\n",
       "      <th>std</th>\n",
       "      <td>1.609456</td>\n",
       "    </tr>\n",
       "    <tr>\n",
       "      <th>min</th>\n",
       "      <td>0.010000</td>\n",
       "    </tr>\n",
       "    <tr>\n",
       "      <th>25%</th>\n",
       "      <td>0.060000</td>\n",
       "    </tr>\n",
       "    <tr>\n",
       "      <th>50%</th>\n",
       "      <td>0.200000</td>\n",
       "    </tr>\n",
       "    <tr>\n",
       "      <th>75%</th>\n",
       "      <td>0.730000</td>\n",
       "    </tr>\n",
       "    <tr>\n",
       "      <th>max</th>\n",
       "      <td>14.630000</td>\n",
       "    </tr>\n",
       "  </tbody>\n",
       "</table>\n",
       "</div>"
      ],
      "text/plain": [
       "        all_sales\n",
       "count  392.000000\n",
       "mean     0.801378\n",
       "std      1.609456\n",
       "min      0.010000\n",
       "25%      0.060000\n",
       "50%      0.200000\n",
       "75%      0.730000\n",
       "max     14.630000"
      ]
     },
     "execution_count": 37,
     "metadata": {},
     "output_type": "execute_result"
    }
   ],
   "source": [
    "sales_volume_PS4 = pd.pivot_table(games.query('platform == \"PS4\" and year_of_release > 2012'),\n",
    "                                  index = 'name', \n",
    "                                  values= 'all_sales', \n",
    "                                  aggfunc= 'sum')\n",
    "sales_volume_PS4.boxplot(column = 'all_sales')\n",
    "plt.title('PS4')\n",
    "plt.show()\n",
    "\n",
    "sales_volume_PS4.describe()"
   ]
  },
  {
   "cell_type": "markdown",
   "metadata": {},
   "source": [
    "Исследование глобальных продаж PS4 показывает, что средний объем продаж за период 2013-2016 гг. составляет 0,80 млн. проданных копий. \n",
    "Макисмально было реализовано 14.6 млн. копий"
   ]
  },
  {
   "cell_type": "markdown",
   "metadata": {},
   "source": [
    "#### Исследование глобльных продаж XOne\n"
   ]
  },
  {
   "cell_type": "code",
   "execution_count": 38,
   "metadata": {},
   "outputs": [
    {
     "data": {
      "image/png": "[encoded data removed]",
      "text/plain": [
       "<Figure size 432x288 with 1 Axes>"
      ]
     },
     "metadata": {
      "needs_background": "light"
     },
     "output_type": "display_data"
    },
    {
     "data": {
      "text/html": [
       "<div>\n",
       "<style scoped>\n",
       "    .dataframe tbody tr th:only-of-type {\n",
       "        vertical-align: middle;\n",
       "    }\n",
       "\n",
       "    .dataframe tbody tr th {\n",
       "        vertical-align: top;\n",
       "    }\n",
       "\n",
       "    .dataframe thead th {\n",
       "        text-align: right;\n",
       "    }\n",
       "</style>\n",
       "<table border=\"1\" class=\"dataframe\">\n",
       "  <thead>\n",
       "    <tr style=\"text-align: right;\">\n",
       "      <th></th>\n",
       "      <th>all_sales</th>\n",
       "    </tr>\n",
       "  </thead>\n",
       "  <tbody>\n",
       "    <tr>\n",
       "      <th>count</th>\n",
       "      <td>247.000000</td>\n",
       "    </tr>\n",
       "    <tr>\n",
       "      <th>mean</th>\n",
       "      <td>0.645020</td>\n",
       "    </tr>\n",
       "    <tr>\n",
       "      <th>std</th>\n",
       "      <td>1.036139</td>\n",
       "    </tr>\n",
       "    <tr>\n",
       "      <th>min</th>\n",
       "      <td>0.010000</td>\n",
       "    </tr>\n",
       "    <tr>\n",
       "      <th>25%</th>\n",
       "      <td>0.060000</td>\n",
       "    </tr>\n",
       "    <tr>\n",
       "      <th>50%</th>\n",
       "      <td>0.220000</td>\n",
       "    </tr>\n",
       "    <tr>\n",
       "      <th>75%</th>\n",
       "      <td>0.685000</td>\n",
       "    </tr>\n",
       "    <tr>\n",
       "      <th>max</th>\n",
       "      <td>7.390000</td>\n",
       "    </tr>\n",
       "  </tbody>\n",
       "</table>\n",
       "</div>"
      ],
      "text/plain": [
       "        all_sales\n",
       "count  247.000000\n",
       "mean     0.645020\n",
       "std      1.036139\n",
       "min      0.010000\n",
       "25%      0.060000\n",
       "50%      0.220000\n",
       "75%      0.685000\n",
       "max      7.390000"
      ]
     },
     "execution_count": 38,
     "metadata": {},
     "output_type": "execute_result"
    }
   ],
   "source": [
    "sales_volume_XOne = pd.pivot_table(games.query('platform == \"XOne\" and year_of_release > 2012'),\n",
    "                                  index = 'name', \n",
    "                                  values= 'all_sales', \n",
    "                                  aggfunc= 'sum')\n",
    "sales_volume_XOne.boxplot(column = 'all_sales')\n",
    "plt.title('XOne')\n",
    "plt.show()\n",
    "sales_volume_XOne.describe()"
   ]
  },
  {
   "cell_type": "markdown",
   "metadata": {},
   "source": [
    "Исследование глобальных продаж XOne показывает, что средний объем продаж за период 2013-2016 гг. составляет 0,64 млн. проданных копий. \n",
    "Макисмально было реализовано 7,3 млн. копий"
   ]
  },
  {
   "cell_type": "markdown",
   "metadata": {},
   "source": [
    "#### Исследование глобльных продаж WiiU"
   ]
  },
  {
   "cell_type": "code",
   "execution_count": 39,
   "metadata": {
    "scrolled": false
   },
   "outputs": [
    {
     "data": {
      "image/png": "[encoded data removed]",
      "text/plain": [
       "<Figure size 432x288 with 1 Axes>"
      ]
     },
     "metadata": {
      "needs_background": "light"
     },
     "output_type": "display_data"
    },
    {
     "data": {
      "text/html": [
       "<div>\n",
       "<style scoped>\n",
       "    .dataframe tbody tr th:only-of-type {\n",
       "        vertical-align: middle;\n",
       "    }\n",
       "\n",
       "    .dataframe tbody tr th {\n",
       "        vertical-align: top;\n",
       "    }\n",
       "\n",
       "    .dataframe thead th {\n",
       "        text-align: right;\n",
       "    }\n",
       "</style>\n",
       "<table border=\"1\" class=\"dataframe\">\n",
       "  <thead>\n",
       "    <tr style=\"text-align: right;\">\n",
       "      <th></th>\n",
       "      <th>all_sales</th>\n",
       "    </tr>\n",
       "  </thead>\n",
       "  <tbody>\n",
       "    <tr>\n",
       "      <th>count</th>\n",
       "      <td>115.000000</td>\n",
       "    </tr>\n",
       "    <tr>\n",
       "      <th>mean</th>\n",
       "      <td>0.562000</td>\n",
       "    </tr>\n",
       "    <tr>\n",
       "      <th>std</th>\n",
       "      <td>1.038778</td>\n",
       "    </tr>\n",
       "    <tr>\n",
       "      <th>min</th>\n",
       "      <td>0.010000</td>\n",
       "    </tr>\n",
       "    <tr>\n",
       "      <th>25%</th>\n",
       "      <td>0.060000</td>\n",
       "    </tr>\n",
       "    <tr>\n",
       "      <th>50%</th>\n",
       "      <td>0.200000</td>\n",
       "    </tr>\n",
       "    <tr>\n",
       "      <th>75%</th>\n",
       "      <td>0.595000</td>\n",
       "    </tr>\n",
       "    <tr>\n",
       "      <th>max</th>\n",
       "      <td>7.090000</td>\n",
       "    </tr>\n",
       "  </tbody>\n",
       "</table>\n",
       "</div>"
      ],
      "text/plain": [
       "        all_sales\n",
       "count  115.000000\n",
       "mean     0.562000\n",
       "std      1.038778\n",
       "min      0.010000\n",
       "25%      0.060000\n",
       "50%      0.200000\n",
       "75%      0.595000\n",
       "max      7.090000"
      ]
     },
     "execution_count": 39,
     "metadata": {},
     "output_type": "execute_result"
    }
   ],
   "source": [
    "sales_volume_WiiU = pd.pivot_table(games.query('platform == \"WiiU\" and year_of_release > 2012'),\n",
    "                                  index = 'name', \n",
    "                                  values= 'all_sales', \n",
    "                                  aggfunc= 'sum')\n",
    "sales_volume_WiiU.boxplot(column = 'all_sales')\n",
    "plt.title('WiiU')\n",
    "plt.show()\n",
    "sales_volume_WiiU.describe()"
   ]
  },
  {
   "cell_type": "markdown",
   "metadata": {},
   "source": [
    "Исследование глобальных продаж WiiU показывает, что средний объем продаж за период 2013-2016 гг. составляет 0,56 млн. проданных копий. \n",
    "Макисмально было реализовано 7,09 млн. копий"
   ]
  },
  {
   "cell_type": "markdown",
   "metadata": {},
   "source": [
    "#### Исследование глобльных продаж 3DS"
   ]
  },
  {
   "cell_type": "code",
   "execution_count": 40,
   "metadata": {
    "scrolled": false
   },
   "outputs": [
    {
     "data": {
      "image/png": "[encoded data removed]",
      "text/plain": [
       "<Figure size 432x288 with 1 Axes>"
      ]
     },
     "metadata": {
      "needs_background": "light"
     },
     "output_type": "display_data"
    },
    {
     "data": {
      "text/html": [
       "<div>\n",
       "<style scoped>\n",
       "    .dataframe tbody tr th:only-of-type {\n",
       "        vertical-align: middle;\n",
       "    }\n",
       "\n",
       "    .dataframe tbody tr th {\n",
       "        vertical-align: top;\n",
       "    }\n",
       "\n",
       "    .dataframe thead th {\n",
       "        text-align: right;\n",
       "    }\n",
       "</style>\n",
       "<table border=\"1\" class=\"dataframe\">\n",
       "  <thead>\n",
       "    <tr style=\"text-align: right;\">\n",
       "      <th></th>\n",
       "      <th>all_sales</th>\n",
       "    </tr>\n",
       "  </thead>\n",
       "  <tbody>\n",
       "    <tr>\n",
       "      <th>count</th>\n",
       "      <td>303.000000</td>\n",
       "    </tr>\n",
       "    <tr>\n",
       "      <th>mean</th>\n",
       "      <td>0.472772</td>\n",
       "    </tr>\n",
       "    <tr>\n",
       "      <th>std</th>\n",
       "      <td>1.381347</td>\n",
       "    </tr>\n",
       "    <tr>\n",
       "      <th>min</th>\n",
       "      <td>0.010000</td>\n",
       "    </tr>\n",
       "    <tr>\n",
       "      <th>25%</th>\n",
       "      <td>0.040000</td>\n",
       "    </tr>\n",
       "    <tr>\n",
       "      <th>50%</th>\n",
       "      <td>0.090000</td>\n",
       "    </tr>\n",
       "    <tr>\n",
       "      <th>75%</th>\n",
       "      <td>0.280000</td>\n",
       "    </tr>\n",
       "    <tr>\n",
       "      <th>max</th>\n",
       "      <td>14.600000</td>\n",
       "    </tr>\n",
       "  </tbody>\n",
       "</table>\n",
       "</div>"
      ],
      "text/plain": [
       "        all_sales\n",
       "count  303.000000\n",
       "mean     0.472772\n",
       "std      1.381347\n",
       "min      0.010000\n",
       "25%      0.040000\n",
       "50%      0.090000\n",
       "75%      0.280000\n",
       "max     14.600000"
      ]
     },
     "execution_count": 40,
     "metadata": {},
     "output_type": "execute_result"
    }
   ],
   "source": [
    "sales_volume_3DS = pd.pivot_table(games.query('platform == \"3DS\" and year_of_release > 2012'),\n",
    "                                  index = 'name', \n",
    "                                  values= 'all_sales', \n",
    "                                  aggfunc= 'sum')\n",
    "sales_volume_3DS.boxplot(column = 'all_sales')\n",
    "plt.title('3DS')\n",
    "plt.show()\n",
    "sales_volume_3DS.describe()"
   ]
  },
  {
   "cell_type": "markdown",
   "metadata": {},
   "source": [
    "Исследование глобальных продаж 3DS показывает, что средний объем продаж за период 2013-2016 гг. составляет 0,47 млн. проданных копий. \n",
    "Макисмально было реализовано 14,6 млн. копий"
   ]
  },
  {
   "cell_type": "markdown",
   "metadata": {},
   "source": [
    "Для PS4 и 3DS видна положительная тенденция к росту продаж. \n",
    "\n",
    "Средняя больше 3го квартиля, то есть средняя объема продаж располагается после 75% продаж, что свидетельствует о хорошей динамике и устойчивой популярности у пользователей\n",
    "\n",
    "У XOne и WiiU средняя расположена между 2 и 3 квартилями, они уступают в популярности, но тем не менее демонстрируют хоршие показатели"
   ]
  },
  {
   "cell_type": "markdown",
   "metadata": {},
   "source": [
    "### Исследование влияния отзывов пользователеей и критиков на объем продаж внутри платформ"
   ]
  },
  {
   "cell_type": "markdown",
   "metadata": {},
   "source": [
    "#### Исследование влияния отзывов пользователеей и критиков на объем продаж внутри PS4"
   ]
  },
  {
   "cell_type": "code",
   "execution_count": 41,
   "metadata": {},
   "outputs": [
    {
     "data": {
      "text/html": [
       "<div>\n",
       "<style scoped>\n",
       "    .dataframe tbody tr th:only-of-type {\n",
       "        vertical-align: middle;\n",
       "    }\n",
       "\n",
       "    .dataframe tbody tr th {\n",
       "        vertical-align: top;\n",
       "    }\n",
       "\n",
       "    .dataframe thead th {\n",
       "        text-align: right;\n",
       "    }\n",
       "</style>\n",
       "<table border=\"1\" class=\"dataframe\">\n",
       "  <thead>\n",
       "    <tr style=\"text-align: right;\">\n",
       "      <th></th>\n",
       "      <th>all_sales</th>\n",
       "      <th>critic_score</th>\n",
       "      <th>user_score</th>\n",
       "    </tr>\n",
       "  </thead>\n",
       "  <tbody>\n",
       "    <tr>\n",
       "      <th>31</th>\n",
       "      <td>14.63</td>\n",
       "      <td>NaN</td>\n",
       "      <td>NaN</td>\n",
       "    </tr>\n",
       "    <tr>\n",
       "      <th>42</th>\n",
       "      <td>12.62</td>\n",
       "      <td>97.0</td>\n",
       "      <td>8.3</td>\n",
       "    </tr>\n",
       "    <tr>\n",
       "      <th>77</th>\n",
       "      <td>8.58</td>\n",
       "      <td>82.0</td>\n",
       "      <td>4.3</td>\n",
       "    </tr>\n",
       "    <tr>\n",
       "      <th>87</th>\n",
       "      <td>7.98</td>\n",
       "      <td>NaN</td>\n",
       "      <td>NaN</td>\n",
       "    </tr>\n",
       "    <tr>\n",
       "      <th>92</th>\n",
       "      <td>7.66</td>\n",
       "      <td>83.0</td>\n",
       "      <td>5.7</td>\n",
       "    </tr>\n",
       "  </tbody>\n",
       "</table>\n",
       "</div>"
      ],
      "text/plain": [
       "    all_sales  critic_score  user_score\n",
       "31      14.63           NaN         NaN\n",
       "42      12.62          97.0         8.3\n",
       "77       8.58          82.0         4.3\n",
       "87       7.98           NaN         NaN\n",
       "92       7.66          83.0         5.7"
      ]
     },
     "metadata": {},
     "output_type": "display_data"
    }
   ],
   "source": [
    "crit_and_sales_PS4 = games.query('platform == \"PS4\" and year_of_release > 2012')\n",
    "crit_and_sales_ratings_PS4 = crit_and_sales_PS4.loc[:,['all_sales', 'critic_score', 'user_score']]\n",
    "display(crit_and_sales_ratings_PS4.head())"
   ]
  },
  {
   "cell_type": "code",
   "execution_count": 42,
   "metadata": {},
   "outputs": [
    {
     "data": {
      "text/html": [
       "<div>\n",
       "<style scoped>\n",
       "    .dataframe tbody tr th:only-of-type {\n",
       "        vertical-align: middle;\n",
       "    }\n",
       "\n",
       "    .dataframe tbody tr th {\n",
       "        vertical-align: top;\n",
       "    }\n",
       "\n",
       "    .dataframe thead th {\n",
       "        text-align: right;\n",
       "    }\n",
       "</style>\n",
       "<table border=\"1\" class=\"dataframe\">\n",
       "  <thead>\n",
       "    <tr style=\"text-align: right;\">\n",
       "      <th></th>\n",
       "      <th>all_sales</th>\n",
       "      <th>critic_score</th>\n",
       "      <th>user_score</th>\n",
       "    </tr>\n",
       "  </thead>\n",
       "  <tbody>\n",
       "    <tr>\n",
       "      <th>all_sales</th>\n",
       "      <td>1.000000</td>\n",
       "      <td>0.406568</td>\n",
       "      <td>-0.031957</td>\n",
       "    </tr>\n",
       "    <tr>\n",
       "      <th>critic_score</th>\n",
       "      <td>0.406568</td>\n",
       "      <td>1.000000</td>\n",
       "      <td>0.557654</td>\n",
       "    </tr>\n",
       "    <tr>\n",
       "      <th>user_score</th>\n",
       "      <td>-0.031957</td>\n",
       "      <td>0.557654</td>\n",
       "      <td>1.000000</td>\n",
       "    </tr>\n",
       "  </tbody>\n",
       "</table>\n",
       "</div>"
      ],
      "text/plain": [
       "              all_sales  critic_score  user_score\n",
       "all_sales      1.000000      0.406568   -0.031957\n",
       "critic_score   0.406568      1.000000    0.557654\n",
       "user_score    -0.031957      0.557654    1.000000"
      ]
     },
     "execution_count": 42,
     "metadata": {},
     "output_type": "execute_result"
    }
   ],
   "source": [
    "crit_and_sales_ratings_PS4.corr()"
   ]
  },
  {
   "cell_type": "code",
   "execution_count": 43,
   "metadata": {
    "scrolled": false
   },
   "outputs": [
    {
     "data": {
      "image/png": "[encoded data removed]",
      "text/plain": [
       "<Figure size 1080x1080 with 9 Axes>"
      ]
     },
     "metadata": {
      "needs_background": "light"
     },
     "output_type": "display_data"
    }
   ],
   "source": [
    "pd.plotting.scatter_matrix(crit_and_sales_ratings_PS4, figsize=(15, 15))\n",
    "plt.title('Корреляция между отзывами и объемом продаж на PS4')\n",
    "plt.show()"
   ]
  },
  {
   "cell_type": "markdown",
   "metadata": {},
   "source": [
    "Вывод: \n",
    "\n",
    "зависимость объема продаж на PS4 от отзывов критиков оценивается как умеренная положительная;\n",
    "\n",
    "зависимость объема продаж на PS4 от отзывов пользователей оценивается как слабая отрицательная, тогда как зависимость мнения игроков от мнения критиков оценивается как умеренная положительная. \n",
    "\n",
    "То есть, чем выше рейтинг, данный критиками, тем выше рейтинг, данный игроками, и объем продаж. "
   ]
  },
  {
   "cell_type": "markdown",
   "metadata": {},
   "source": [
    "Исследую остальные платформы"
   ]
  },
  {
   "cell_type": "markdown",
   "metadata": {},
   "source": [
    "#### Исследование влияния отзывов пользователеей и критиков на объем продаж внутри 3DS"
   ]
  },
  {
   "cell_type": "code",
   "execution_count": 44,
   "metadata": {},
   "outputs": [
    {
     "data": {
      "text/html": [
       "<div>\n",
       "<style scoped>\n",
       "    .dataframe tbody tr th:only-of-type {\n",
       "        vertical-align: middle;\n",
       "    }\n",
       "\n",
       "    .dataframe tbody tr th {\n",
       "        vertical-align: top;\n",
       "    }\n",
       "\n",
       "    .dataframe thead th {\n",
       "        text-align: right;\n",
       "    }\n",
       "</style>\n",
       "<table border=\"1\" class=\"dataframe\">\n",
       "  <thead>\n",
       "    <tr style=\"text-align: right;\">\n",
       "      <th></th>\n",
       "      <th>all_sales</th>\n",
       "      <th>critic_score</th>\n",
       "      <th>user_score</th>\n",
       "    </tr>\n",
       "  </thead>\n",
       "  <tbody>\n",
       "    <tr>\n",
       "      <th>all_sales</th>\n",
       "      <td>1.000000</td>\n",
       "      <td>0.357057</td>\n",
       "      <td>0.241504</td>\n",
       "    </tr>\n",
       "    <tr>\n",
       "      <th>critic_score</th>\n",
       "      <td>0.357057</td>\n",
       "      <td>1.000000</td>\n",
       "      <td>0.769536</td>\n",
       "    </tr>\n",
       "    <tr>\n",
       "      <th>user_score</th>\n",
       "      <td>0.241504</td>\n",
       "      <td>0.769536</td>\n",
       "      <td>1.000000</td>\n",
       "    </tr>\n",
       "  </tbody>\n",
       "</table>\n",
       "</div>"
      ],
      "text/plain": [
       "              all_sales  critic_score  user_score\n",
       "all_sales      1.000000      0.357057    0.241504\n",
       "critic_score   0.357057      1.000000    0.769536\n",
       "user_score     0.241504      0.769536    1.000000"
      ]
     },
     "metadata": {},
     "output_type": "display_data"
    },
    {
     "data": {
      "image/png": "[encoded data removed]",
      "text/plain": [
       "<Figure size 1080x1080 with 9 Axes>"
      ]
     },
     "metadata": {
      "needs_background": "light"
     },
     "output_type": "display_data"
    }
   ],
   "source": [
    "crit_and_sales_3DS = games.query('platform == \"3DS\" and year_of_release > 2012')\n",
    "crit_and_sales_ratings_3DS = crit_and_sales_3DS.loc[:,['all_sales', 'critic_score', 'user_score']]\n",
    "\n",
    "display(crit_and_sales_ratings_3DS.corr())\n",
    "\n",
    "pd.plotting.scatter_matrix(crit_and_sales_ratings_3DS, figsize=(15, 15))\n",
    "plt.title('Корреляция между отзывами и объемом продаж на 3DS')\n",
    "plt.show()"
   ]
  },
  {
   "cell_type": "markdown",
   "metadata": {},
   "source": [
    "Вывод:\n",
    "\n",
    "зависимость объема продаж на 3DS от отзывов критиков оценивается как умеренная положительная;\n",
    "\n",
    "зависимость объема продаж на 3DS от отзывов пользователей оценивается как слабая положительная, тогда как зависимость мнения игроков от мнения критиков оценивается как сильная положительная.\n",
    "\n",
    "То есть, чем выше рейтинг, данный критиками, тем выше рейтинг, данный игроками, и объем продаж."
   ]
  },
  {
   "cell_type": "markdown",
   "metadata": {},
   "source": [
    "#### Исследование влияния отзывов пользователеей и критиков на объем продаж внутри XOne"
   ]
  },
  {
   "cell_type": "code",
   "execution_count": 45,
   "metadata": {
    "scrolled": false
   },
   "outputs": [
    {
     "data": {
      "text/html": [
       "<div>\n",
       "<style scoped>\n",
       "    .dataframe tbody tr th:only-of-type {\n",
       "        vertical-align: middle;\n",
       "    }\n",
       "\n",
       "    .dataframe tbody tr th {\n",
       "        vertical-align: top;\n",
       "    }\n",
       "\n",
       "    .dataframe thead th {\n",
       "        text-align: right;\n",
       "    }\n",
       "</style>\n",
       "<table border=\"1\" class=\"dataframe\">\n",
       "  <thead>\n",
       "    <tr style=\"text-align: right;\">\n",
       "      <th></th>\n",
       "      <th>all_sales</th>\n",
       "      <th>critic_score</th>\n",
       "      <th>user_score</th>\n",
       "    </tr>\n",
       "  </thead>\n",
       "  <tbody>\n",
       "    <tr>\n",
       "      <th>all_sales</th>\n",
       "      <td>1.000000</td>\n",
       "      <td>0.416998</td>\n",
       "      <td>-0.068925</td>\n",
       "    </tr>\n",
       "    <tr>\n",
       "      <th>critic_score</th>\n",
       "      <td>0.416998</td>\n",
       "      <td>1.000000</td>\n",
       "      <td>0.472462</td>\n",
       "    </tr>\n",
       "    <tr>\n",
       "      <th>user_score</th>\n",
       "      <td>-0.068925</td>\n",
       "      <td>0.472462</td>\n",
       "      <td>1.000000</td>\n",
       "    </tr>\n",
       "  </tbody>\n",
       "</table>\n",
       "</div>"
      ],
      "text/plain": [
       "              all_sales  critic_score  user_score\n",
       "all_sales      1.000000      0.416998   -0.068925\n",
       "critic_score   0.416998      1.000000    0.472462\n",
       "user_score    -0.068925      0.472462    1.000000"
      ]
     },
     "metadata": {},
     "output_type": "display_data"
    },
    {
     "data": {
      "image/png": "[encoded data removed]",
      "text/plain": [
       "<Figure size 1080x1080 with 9 Axes>"
      ]
     },
     "metadata": {
      "needs_background": "light"
     },
     "output_type": "display_data"
    }
   ],
   "source": [
    "crit_and_sales_XOne = games.query('platform == \"XOne\" and year_of_release > 2012')\n",
    "crit_and_sales_ratings_XOne = crit_and_sales_XOne.loc[:,['all_sales', 'critic_score', 'user_score']]\n",
    "\n",
    "display(crit_and_sales_ratings_XOne.corr())\n",
    "\n",
    "pd.plotting.scatter_matrix(crit_and_sales_ratings_XOne, figsize=(15, 15))\n",
    "plt.title('Корреляция между отзывами и объемом продаж на XOne')\n",
    "plt.show()"
   ]
  },
  {
   "cell_type": "markdown",
   "metadata": {},
   "source": [
    "Вывод:\n",
    "\n",
    "зависимость объема продаж на XOne от отзывов критиков оценивается как умеренная положительная;\n",
    "\n",
    "зависимость объема продаж на XOne от отзывов пользователей оценивается как слабая отрицательная, тогда как зависимость мнения игроков от мнения критиков оценивается как умеренная положительная.\n",
    "\n",
    "То есть, чем выше рейтинг, данный критиками, тем выше рейтинг, данный игроками, и объем продаж."
   ]
  },
  {
   "cell_type": "markdown",
   "metadata": {},
   "source": [
    "#### Исследование влияния отзывов пользователеей и критиков на объем продаж внутри WiiU"
   ]
  },
  {
   "cell_type": "code",
   "execution_count": 46,
   "metadata": {
    "scrolled": false
   },
   "outputs": [
    {
     "data": {
      "text/html": [
       "<div>\n",
       "<style scoped>\n",
       "    .dataframe tbody tr th:only-of-type {\n",
       "        vertical-align: middle;\n",
       "    }\n",
       "\n",
       "    .dataframe tbody tr th {\n",
       "        vertical-align: top;\n",
       "    }\n",
       "\n",
       "    .dataframe thead th {\n",
       "        text-align: right;\n",
       "    }\n",
       "</style>\n",
       "<table border=\"1\" class=\"dataframe\">\n",
       "  <thead>\n",
       "    <tr style=\"text-align: right;\">\n",
       "      <th></th>\n",
       "      <th>all_sales</th>\n",
       "      <th>critic_score</th>\n",
       "      <th>user_score</th>\n",
       "    </tr>\n",
       "  </thead>\n",
       "  <tbody>\n",
       "    <tr>\n",
       "      <th>all_sales</th>\n",
       "      <td>1.000000</td>\n",
       "      <td>0.416998</td>\n",
       "      <td>-0.068925</td>\n",
       "    </tr>\n",
       "    <tr>\n",
       "      <th>critic_score</th>\n",
       "      <td>0.416998</td>\n",
       "      <td>1.000000</td>\n",
       "      <td>0.472462</td>\n",
       "    </tr>\n",
       "    <tr>\n",
       "      <th>user_score</th>\n",
       "      <td>-0.068925</td>\n",
       "      <td>0.472462</td>\n",
       "      <td>1.000000</td>\n",
       "    </tr>\n",
       "  </tbody>\n",
       "</table>\n",
       "</div>"
      ],
      "text/plain": [
       "              all_sales  critic_score  user_score\n",
       "all_sales      1.000000      0.416998   -0.068925\n",
       "critic_score   0.416998      1.000000    0.472462\n",
       "user_score    -0.068925      0.472462    1.000000"
      ]
     },
     "metadata": {},
     "output_type": "display_data"
    },
    {
     "data": {
      "image/png": "[encoded data removed]",
      "text/plain": [
       "<Figure size 1080x1080 with 9 Axes>"
      ]
     },
     "metadata": {
      "needs_background": "light"
     },
     "output_type": "display_data"
    }
   ],
   "source": [
    "crit_and_sales_WiiU = games.query('platform == \"WiiU\" and year_of_release > 2012')\n",
    "crit_and_sales_ratings_WiiU = crit_and_sales_XOne.loc[:,['all_sales', 'critic_score', 'user_score']]\n",
    "\n",
    "display(crit_and_sales_ratings_WiiU.corr())\n",
    "\n",
    "pd.plotting.scatter_matrix(crit_and_sales_ratings_WiiU, figsize=(15, 15))\n",
    "plt.title('Корреляция между отзывами и объемом продаж на WiiU')\n",
    "plt.show()"
   ]
  },
  {
   "cell_type": "markdown",
   "metadata": {},
   "source": [
    "Вывод:\n",
    "\n",
    "зависимость объема продаж на WiiU от отзывов критиков оценивается как умеренная положительная;\n",
    "\n",
    "зависимость объема продаж на WiiU от отзывов пользователей оценивается как слабая отрицательная, тогда как зависимость мнения игроков от мнения критиков оценивается как умеренная положительная.\n",
    "\n",
    "То есть, чем выше рейтинг, данный критиками, тем выше рейтинг, данный игроками, и объем продаж."
   ]
  },
  {
   "cell_type": "markdown",
   "metadata": {},
   "source": [
    "Платформы PS4, XOne и WiiU имеют похожие связи. \n",
    "Иная ситуация у 3DS, где полоджительный характер связи замечем как при корреляции с рейтингом критиков, так и при корреляции с рейтингом игроков. Возможно, а данной платформе лучше поставлена работа именно по сбору обратной связи с игроками, а не только с критиками. "
   ]
  },
  {
   "cell_type": "markdown",
   "metadata": {},
   "source": [
    "### Исследование жанрового распределения"
   ]
  },
  {
   "cell_type": "code",
   "execution_count": 47,
   "metadata": {},
   "outputs": [
    {
     "data": {
      "text/html": [
       "<div>\n",
       "<style scoped>\n",
       "    .dataframe tbody tr th:only-of-type {\n",
       "        vertical-align: middle;\n",
       "    }\n",
       "\n",
       "    .dataframe tbody tr th {\n",
       "        vertical-align: top;\n",
       "    }\n",
       "\n",
       "    .dataframe thead th {\n",
       "        text-align: right;\n",
       "    }\n",
       "</style>\n",
       "<table border=\"1\" class=\"dataframe\">\n",
       "  <thead>\n",
       "    <tr style=\"text-align: right;\">\n",
       "      <th></th>\n",
       "      <th>all_sales</th>\n",
       "    </tr>\n",
       "    <tr>\n",
       "      <th>genre</th>\n",
       "      <th></th>\n",
       "    </tr>\n",
       "  </thead>\n",
       "  <tbody>\n",
       "    <tr>\n",
       "      <th>Action</th>\n",
       "      <td>321.87</td>\n",
       "    </tr>\n",
       "    <tr>\n",
       "      <th>Shooter</th>\n",
       "      <td>232.98</td>\n",
       "    </tr>\n",
       "    <tr>\n",
       "      <th>Sports</th>\n",
       "      <td>150.65</td>\n",
       "    </tr>\n",
       "    <tr>\n",
       "      <th>Role-Playing</th>\n",
       "      <td>145.89</td>\n",
       "    </tr>\n",
       "    <tr>\n",
       "      <th>Misc</th>\n",
       "      <td>62.82</td>\n",
       "    </tr>\n",
       "    <tr>\n",
       "      <th>Platform</th>\n",
       "      <td>42.63</td>\n",
       "    </tr>\n",
       "    <tr>\n",
       "      <th>Racing</th>\n",
       "      <td>39.89</td>\n",
       "    </tr>\n",
       "    <tr>\n",
       "      <th>Fighting</th>\n",
       "      <td>35.31</td>\n",
       "    </tr>\n",
       "    <tr>\n",
       "      <th>Adventure</th>\n",
       "      <td>23.64</td>\n",
       "    </tr>\n",
       "    <tr>\n",
       "      <th>Simulation</th>\n",
       "      <td>21.76</td>\n",
       "    </tr>\n",
       "    <tr>\n",
       "      <th>Strategy</th>\n",
       "      <td>10.08</td>\n",
       "    </tr>\n",
       "    <tr>\n",
       "      <th>Puzzle</th>\n",
       "      <td>3.17</td>\n",
       "    </tr>\n",
       "  </tbody>\n",
       "</table>\n",
       "</div>"
      ],
      "text/plain": [
       "              all_sales\n",
       "genre                  \n",
       "Action           321.87\n",
       "Shooter          232.98\n",
       "Sports           150.65\n",
       "Role-Playing     145.89\n",
       "Misc              62.82\n",
       "Platform          42.63\n",
       "Racing            39.89\n",
       "Fighting          35.31\n",
       "Adventure         23.64\n",
       "Simulation        21.76\n",
       "Strategy          10.08\n",
       "Puzzle             3.17"
      ]
     },
     "metadata": {},
     "output_type": "display_data"
    }
   ],
   "source": [
    "sales_volume_by_genre = pd.pivot_table(games.query('year_of_release > 2012'), \n",
    "                                       index = 'genre', \n",
    "                                       values='all_sales', \n",
    "                                       aggfunc='sum' )\n",
    "sales_volume_by_genre.columns = ['all_sales']\n",
    "display(sales_volume_by_genre.sort_values(by='all_sales', ascending=False))"
   ]
  },
  {
   "cell_type": "markdown",
   "metadata": {},
   "source": [
    "Самыми прибыльными жанрами по итоговому объему продаж можно считать экшен(Action), шутеры(Shooter), спортивные игры (Sports) и ролевые игры (Role-Playing).\n",
    "\n",
    "На период 2013-2016 год не пользуются популярностью приключения (Adventure), симуляторы(Simulation) стратегии реального времени или пошаговые (Strategy) и головоломки (Puzzle)."
   ]
  },
  {
   "cell_type": "code",
   "execution_count": 48,
   "metadata": {},
   "outputs": [
    {
     "data": {
      "text/html": [
       "<div>\n",
       "<style scoped>\n",
       "    .dataframe tbody tr th:only-of-type {\n",
       "        vertical-align: middle;\n",
       "    }\n",
       "\n",
       "    .dataframe tbody tr th {\n",
       "        vertical-align: top;\n",
       "    }\n",
       "\n",
       "    .dataframe thead th {\n",
       "        text-align: right;\n",
       "    }\n",
       "</style>\n",
       "<table border=\"1\" class=\"dataframe\">\n",
       "  <thead>\n",
       "    <tr style=\"text-align: right;\">\n",
       "      <th></th>\n",
       "      <th>all_sales</th>\n",
       "    </tr>\n",
       "    <tr>\n",
       "      <th>genre</th>\n",
       "      <th></th>\n",
       "    </tr>\n",
       "  </thead>\n",
       "  <tbody>\n",
       "    <tr>\n",
       "      <th>Shooter</th>\n",
       "      <td>0.450</td>\n",
       "    </tr>\n",
       "    <tr>\n",
       "      <th>Sports</th>\n",
       "      <td>0.240</td>\n",
       "    </tr>\n",
       "    <tr>\n",
       "      <th>Platform</th>\n",
       "      <td>0.225</td>\n",
       "    </tr>\n",
       "    <tr>\n",
       "      <th>Role-Playing</th>\n",
       "      <td>0.125</td>\n",
       "    </tr>\n",
       "    <tr>\n",
       "      <th>Fighting</th>\n",
       "      <td>0.125</td>\n",
       "    </tr>\n",
       "    <tr>\n",
       "      <th>Racing</th>\n",
       "      <td>0.120</td>\n",
       "    </tr>\n",
       "    <tr>\n",
       "      <th>Action</th>\n",
       "      <td>0.110</td>\n",
       "    </tr>\n",
       "    <tr>\n",
       "      <th>Simulation</th>\n",
       "      <td>0.100</td>\n",
       "    </tr>\n",
       "    <tr>\n",
       "      <th>Misc</th>\n",
       "      <td>0.100</td>\n",
       "    </tr>\n",
       "    <tr>\n",
       "      <th>Strategy</th>\n",
       "      <td>0.080</td>\n",
       "    </tr>\n",
       "    <tr>\n",
       "      <th>Puzzle</th>\n",
       "      <td>0.060</td>\n",
       "    </tr>\n",
       "    <tr>\n",
       "      <th>Adventure</th>\n",
       "      <td>0.030</td>\n",
       "    </tr>\n",
       "  </tbody>\n",
       "</table>\n",
       "</div>"
      ],
      "text/plain": [
       "              all_sales\n",
       "genre                  \n",
       "Shooter           0.450\n",
       "Sports            0.240\n",
       "Platform          0.225\n",
       "Role-Playing      0.125\n",
       "Fighting          0.125\n",
       "Racing            0.120\n",
       "Action            0.110\n",
       "Simulation        0.100\n",
       "Misc              0.100\n",
       "Strategy          0.080\n",
       "Puzzle            0.060\n",
       "Adventure         0.030"
      ]
     },
     "metadata": {},
     "output_type": "display_data"
    }
   ],
   "source": [
    "sales_volume_by_genre = pd.pivot_table(games.query('year_of_release > 2012'), \n",
    "                                       index = 'genre', \n",
    "                                       values='all_sales', \n",
    "                                       aggfunc='median' )\n",
    "sales_volume_by_genre.columns = ['all_sales']\n",
    "display(sales_volume_by_genre.sort_values(by='all_sales', ascending=False))"
   ]
  },
  {
   "cell_type": "markdown",
   "metadata": {},
   "source": [
    "В среднем же, самыми прибыльными жанжами шутеры(Shooter), спортивные (Sports) и платформенные (Platform) игры\n",
    "\n",
    "На период 2013-2016 год не пользуются популярностью приключения (Adventure), стратегии (Strategy) и головоломки (Puzzle)."
   ]
  },
  {
   "cell_type": "markdown",
   "metadata": {},
   "source": [
    "## Описание и визуализация по регионам"
   ]
  },
  {
   "cell_type": "markdown",
   "metadata": {},
   "source": [
    "### Определение ТОП-5 самых популярных платформ для пользователя каждого региона "
   ]
  },
  {
   "cell_type": "markdown",
   "metadata": {},
   "source": [
    "#### Определение ТОП-5 самых популярных платформ для Северной Америки "
   ]
  },
  {
   "cell_type": "code",
   "execution_count": 49,
   "metadata": {},
   "outputs": [
    {
     "data": {
      "text/html": [
       "<div>\n",
       "<style scoped>\n",
       "    .dataframe tbody tr th:only-of-type {\n",
       "        vertical-align: middle;\n",
       "    }\n",
       "\n",
       "    .dataframe tbody tr th {\n",
       "        vertical-align: top;\n",
       "    }\n",
       "\n",
       "    .dataframe thead th {\n",
       "        text-align: right;\n",
       "    }\n",
       "</style>\n",
       "<table border=\"1\" class=\"dataframe\">\n",
       "  <thead>\n",
       "    <tr style=\"text-align: right;\">\n",
       "      <th></th>\n",
       "      <th>na_sales</th>\n",
       "    </tr>\n",
       "    <tr>\n",
       "      <th>platform</th>\n",
       "      <th></th>\n",
       "    </tr>\n",
       "  </thead>\n",
       "  <tbody>\n",
       "    <tr>\n",
       "      <th>PS4</th>\n",
       "      <td>108.74</td>\n",
       "    </tr>\n",
       "    <tr>\n",
       "      <th>XOne</th>\n",
       "      <td>93.12</td>\n",
       "    </tr>\n",
       "    <tr>\n",
       "      <th>X360</th>\n",
       "      <td>81.66</td>\n",
       "    </tr>\n",
       "    <tr>\n",
       "      <th>PS3</th>\n",
       "      <td>63.50</td>\n",
       "    </tr>\n",
       "    <tr>\n",
       "      <th>3DS</th>\n",
       "      <td>38.20</td>\n",
       "    </tr>\n",
       "  </tbody>\n",
       "</table>\n",
       "</div>"
      ],
      "text/plain": [
       "          na_sales\n",
       "platform          \n",
       "PS4         108.74\n",
       "XOne         93.12\n",
       "X360         81.66\n",
       "PS3          63.50\n",
       "3DS          38.20"
      ]
     },
     "metadata": {},
     "output_type": "display_data"
    }
   ],
   "source": [
    "sales_volume_na = pd.pivot_table(games.query('year_of_release > 2012'), \n",
    "                                       index = 'platform', \n",
    "                                       values='na_sales', \n",
    "                                       aggfunc='sum' )\n",
    "sales_volume_na.columns = ['na_sales']\n",
    "display(sales_volume_na.sort_values(by='na_sales', ascending=False).head())"
   ]
  },
  {
   "cell_type": "markdown",
   "metadata": {},
   "source": [
    "#### Определение ТОП-5 самых популярных платформ для Европы"
   ]
  },
  {
   "cell_type": "code",
   "execution_count": 50,
   "metadata": {},
   "outputs": [
    {
     "data": {
      "text/html": [
       "<div>\n",
       "<style scoped>\n",
       "    .dataframe tbody tr th:only-of-type {\n",
       "        vertical-align: middle;\n",
       "    }\n",
       "\n",
       "    .dataframe tbody tr th {\n",
       "        vertical-align: top;\n",
       "    }\n",
       "\n",
       "    .dataframe thead th {\n",
       "        text-align: right;\n",
       "    }\n",
       "</style>\n",
       "<table border=\"1\" class=\"dataframe\">\n",
       "  <thead>\n",
       "    <tr style=\"text-align: right;\">\n",
       "      <th></th>\n",
       "      <th>eu_sales</th>\n",
       "    </tr>\n",
       "    <tr>\n",
       "      <th>platform</th>\n",
       "      <th></th>\n",
       "    </tr>\n",
       "  </thead>\n",
       "  <tbody>\n",
       "    <tr>\n",
       "      <th>PS4</th>\n",
       "      <td>141.09</td>\n",
       "    </tr>\n",
       "    <tr>\n",
       "      <th>PS3</th>\n",
       "      <td>67.81</td>\n",
       "    </tr>\n",
       "    <tr>\n",
       "      <th>XOne</th>\n",
       "      <td>51.59</td>\n",
       "    </tr>\n",
       "    <tr>\n",
       "      <th>X360</th>\n",
       "      <td>42.52</td>\n",
       "    </tr>\n",
       "    <tr>\n",
       "      <th>3DS</th>\n",
       "      <td>30.96</td>\n",
       "    </tr>\n",
       "  </tbody>\n",
       "</table>\n",
       "</div>"
      ],
      "text/plain": [
       "          eu_sales\n",
       "platform          \n",
       "PS4         141.09\n",
       "PS3          67.81\n",
       "XOne         51.59\n",
       "X360         42.52\n",
       "3DS          30.96"
      ]
     },
     "metadata": {},
     "output_type": "display_data"
    }
   ],
   "source": [
    "sales_volume_eu = pd.pivot_table(games.query('year_of_release > 2012'), \n",
    "                                       index = 'platform', \n",
    "                                       values='eu_sales', \n",
    "                                       aggfunc='sum' )\n",
    "sales_volume_eu.columns = ['eu_sales']\n",
    "display(sales_volume_eu.sort_values(by='eu_sales', ascending=False).head())"
   ]
  },
  {
   "cell_type": "markdown",
   "metadata": {},
   "source": [
    "#### Определение ТОП-5 самых популярных платформ для Японии"
   ]
  },
  {
   "cell_type": "code",
   "execution_count": 51,
   "metadata": {},
   "outputs": [
    {
     "data": {
      "text/html": [
       "<div>\n",
       "<style scoped>\n",
       "    .dataframe tbody tr th:only-of-type {\n",
       "        vertical-align: middle;\n",
       "    }\n",
       "\n",
       "    .dataframe tbody tr th {\n",
       "        vertical-align: top;\n",
       "    }\n",
       "\n",
       "    .dataframe thead th {\n",
       "        text-align: right;\n",
       "    }\n",
       "</style>\n",
       "<table border=\"1\" class=\"dataframe\">\n",
       "  <thead>\n",
       "    <tr style=\"text-align: right;\">\n",
       "      <th></th>\n",
       "      <th>jp_sales</th>\n",
       "    </tr>\n",
       "    <tr>\n",
       "      <th>platform</th>\n",
       "      <th></th>\n",
       "    </tr>\n",
       "  </thead>\n",
       "  <tbody>\n",
       "    <tr>\n",
       "      <th>3DS</th>\n",
       "      <td>67.81</td>\n",
       "    </tr>\n",
       "    <tr>\n",
       "      <th>PS3</th>\n",
       "      <td>23.35</td>\n",
       "    </tr>\n",
       "    <tr>\n",
       "      <th>PSV</th>\n",
       "      <td>18.59</td>\n",
       "    </tr>\n",
       "    <tr>\n",
       "      <th>PS4</th>\n",
       "      <td>15.96</td>\n",
       "    </tr>\n",
       "    <tr>\n",
       "      <th>WiiU</th>\n",
       "      <td>10.88</td>\n",
       "    </tr>\n",
       "  </tbody>\n",
       "</table>\n",
       "</div>"
      ],
      "text/plain": [
       "          jp_sales\n",
       "platform          \n",
       "3DS          67.81\n",
       "PS3          23.35\n",
       "PSV          18.59\n",
       "PS4          15.96\n",
       "WiiU         10.88"
      ]
     },
     "metadata": {},
     "output_type": "display_data"
    }
   ],
   "source": [
    "sales_volume_jp = pd.pivot_table(games.query('year_of_release > 2012'), \n",
    "                                       index = 'platform', \n",
    "                                       values='jp_sales', \n",
    "                                       aggfunc='sum' )\n",
    "sales_volume_jp.columns = ['jp_sales']\n",
    "display(sales_volume_jp.sort_values(by='jp_sales', ascending=False).head())"
   ]
  },
  {
   "cell_type": "markdown",
   "metadata": {},
   "source": [
    "Рейтинг платформ:\n",
    "\n",
    "Топ 5 по Северной Америке: PS4, XOne, X360, PS3 и 3DS\n",
    "\n",
    "Топ 5 по Европейскому региону: PS4, PS3, XOne, X360 и 3DS\n",
    "\n",
    "Топ 5 по Японии: 3DS, PS3, PSV, PS4 и WiiU\n",
    "\n",
    "Популярность PS4, PSV и PS3 обусловлена широкой распространенностью продукции компании Sony Interactive Entertainment (Сан-Матео, США), которая является дочерней компанией для Sony Group Corporation (Токио, Япония)\n",
    "\n",
    "Популярность XOne и X360 в Америке обусловлена их принадлежностью компании Microsoft. В Японии похожее положение занимает компания Nintendo c двумя продуктами 3DS и WiiU. \n",
    "\n",
    "Европа не имеет собственных разработчиков игр. "
   ]
  },
  {
   "cell_type": "markdown",
   "metadata": {},
   "source": [
    "### Определение ТОП-5 самых популярных жанров для пользователя каждого региона "
   ]
  },
  {
   "cell_type": "markdown",
   "metadata": {},
   "source": [
    "#### Определение ТОП-5 самых популярных жанров для Северной Америки "
   ]
  },
  {
   "cell_type": "code",
   "execution_count": 52,
   "metadata": {},
   "outputs": [
    {
     "data": {
      "text/html": [
       "<div>\n",
       "<style scoped>\n",
       "    .dataframe tbody tr th:only-of-type {\n",
       "        vertical-align: middle;\n",
       "    }\n",
       "\n",
       "    .dataframe tbody tr th {\n",
       "        vertical-align: top;\n",
       "    }\n",
       "\n",
       "    .dataframe thead th {\n",
       "        text-align: right;\n",
       "    }\n",
       "</style>\n",
       "<table border=\"1\" class=\"dataframe\">\n",
       "  <thead>\n",
       "    <tr style=\"text-align: right;\">\n",
       "      <th></th>\n",
       "      <th>na_sales</th>\n",
       "    </tr>\n",
       "    <tr>\n",
       "      <th>genre</th>\n",
       "      <th></th>\n",
       "    </tr>\n",
       "  </thead>\n",
       "  <tbody>\n",
       "    <tr>\n",
       "      <th>Action</th>\n",
       "      <td>126.05</td>\n",
       "    </tr>\n",
       "    <tr>\n",
       "      <th>Shooter</th>\n",
       "      <td>109.74</td>\n",
       "    </tr>\n",
       "    <tr>\n",
       "      <th>Sports</th>\n",
       "      <td>65.27</td>\n",
       "    </tr>\n",
       "    <tr>\n",
       "      <th>Role-Playing</th>\n",
       "      <td>46.40</td>\n",
       "    </tr>\n",
       "    <tr>\n",
       "      <th>Misc</th>\n",
       "      <td>27.49</td>\n",
       "    </tr>\n",
       "  </tbody>\n",
       "</table>\n",
       "</div>"
      ],
      "text/plain": [
       "              na_sales\n",
       "genre                 \n",
       "Action          126.05\n",
       "Shooter         109.74\n",
       "Sports           65.27\n",
       "Role-Playing     46.40\n",
       "Misc             27.49"
      ]
     },
     "metadata": {},
     "output_type": "display_data"
    }
   ],
   "source": [
    "sales_genre_na = pd.pivot_table(games.query('year_of_release > 2012'), \n",
    "                                       index = 'genre', \n",
    "                                       values='na_sales', \n",
    "                                       aggfunc='sum' )\n",
    "sales_genre_na.columns = ['na_sales']\n",
    "display(sales_genre_na.sort_values(by='na_sales', ascending=False).head())"
   ]
  },
  {
   "cell_type": "markdown",
   "metadata": {},
   "source": [
    "#### Определение ТОП-5 самых популярных жанров для Европы"
   ]
  },
  {
   "cell_type": "code",
   "execution_count": 53,
   "metadata": {},
   "outputs": [
    {
     "data": {
      "text/html": [
       "<div>\n",
       "<style scoped>\n",
       "    .dataframe tbody tr th:only-of-type {\n",
       "        vertical-align: middle;\n",
       "    }\n",
       "\n",
       "    .dataframe tbody tr th {\n",
       "        vertical-align: top;\n",
       "    }\n",
       "\n",
       "    .dataframe thead th {\n",
       "        text-align: right;\n",
       "    }\n",
       "</style>\n",
       "<table border=\"1\" class=\"dataframe\">\n",
       "  <thead>\n",
       "    <tr style=\"text-align: right;\">\n",
       "      <th></th>\n",
       "      <th>eu_sales</th>\n",
       "    </tr>\n",
       "    <tr>\n",
       "      <th>genre</th>\n",
       "      <th></th>\n",
       "    </tr>\n",
       "  </thead>\n",
       "  <tbody>\n",
       "    <tr>\n",
       "      <th>Action</th>\n",
       "      <td>118.13</td>\n",
       "    </tr>\n",
       "    <tr>\n",
       "      <th>Shooter</th>\n",
       "      <td>87.86</td>\n",
       "    </tr>\n",
       "    <tr>\n",
       "      <th>Sports</th>\n",
       "      <td>60.52</td>\n",
       "    </tr>\n",
       "    <tr>\n",
       "      <th>Role-Playing</th>\n",
       "      <td>36.97</td>\n",
       "    </tr>\n",
       "    <tr>\n",
       "      <th>Racing</th>\n",
       "      <td>20.19</td>\n",
       "    </tr>\n",
       "  </tbody>\n",
       "</table>\n",
       "</div>"
      ],
      "text/plain": [
       "              eu_sales\n",
       "genre                 \n",
       "Action          118.13\n",
       "Shooter          87.86\n",
       "Sports           60.52\n",
       "Role-Playing     36.97\n",
       "Racing           20.19"
      ]
     },
     "metadata": {},
     "output_type": "display_data"
    }
   ],
   "source": [
    "sales_genre_eu = pd.pivot_table(games.query('year_of_release > 2012'), \n",
    "                                       index = 'genre', \n",
    "                                       values='eu_sales', \n",
    "                                       aggfunc='sum' )\n",
    "sales_genre_eu.columns = ['eu_sales']\n",
    "display(sales_genre_eu.sort_values(by='eu_sales', ascending=False).head())"
   ]
  },
  {
   "cell_type": "markdown",
   "metadata": {},
   "source": [
    "#### Определение ТОП-5 самых популярных жанров для Японии "
   ]
  },
  {
   "cell_type": "code",
   "execution_count": 54,
   "metadata": {},
   "outputs": [
    {
     "data": {
      "text/html": [
       "<div>\n",
       "<style scoped>\n",
       "    .dataframe tbody tr th:only-of-type {\n",
       "        vertical-align: middle;\n",
       "    }\n",
       "\n",
       "    .dataframe tbody tr th {\n",
       "        vertical-align: top;\n",
       "    }\n",
       "\n",
       "    .dataframe thead th {\n",
       "        text-align: right;\n",
       "    }\n",
       "</style>\n",
       "<table border=\"1\" class=\"dataframe\">\n",
       "  <thead>\n",
       "    <tr style=\"text-align: right;\">\n",
       "      <th></th>\n",
       "      <th>jp_sales</th>\n",
       "    </tr>\n",
       "    <tr>\n",
       "      <th>genre</th>\n",
       "      <th></th>\n",
       "    </tr>\n",
       "  </thead>\n",
       "  <tbody>\n",
       "    <tr>\n",
       "      <th>Role-Playing</th>\n",
       "      <td>51.04</td>\n",
       "    </tr>\n",
       "    <tr>\n",
       "      <th>Action</th>\n",
       "      <td>40.49</td>\n",
       "    </tr>\n",
       "    <tr>\n",
       "      <th>Misc</th>\n",
       "      <td>9.20</td>\n",
       "    </tr>\n",
       "    <tr>\n",
       "      <th>Fighting</th>\n",
       "      <td>7.65</td>\n",
       "    </tr>\n",
       "    <tr>\n",
       "      <th>Shooter</th>\n",
       "      <td>6.61</td>\n",
       "    </tr>\n",
       "  </tbody>\n",
       "</table>\n",
       "</div>"
      ],
      "text/plain": [
       "              jp_sales\n",
       "genre                 \n",
       "Role-Playing     51.04\n",
       "Action           40.49\n",
       "Misc              9.20\n",
       "Fighting          7.65\n",
       "Shooter           6.61"
      ]
     },
     "metadata": {},
     "output_type": "display_data"
    }
   ],
   "source": [
    "sales_genre_jp = pd.pivot_table(games.query('year_of_release > 2012'), \n",
    "                                       index = 'genre', \n",
    "                                       values='jp_sales', \n",
    "                                       aggfunc='sum' )\n",
    "sales_genre_jp.columns = ['jp_sales']\n",
    "display(sales_genre_jp.sort_values(by='jp_sales', ascending=False).head())"
   ]
  },
  {
   "cell_type": "markdown",
   "metadata": {},
   "source": [
    "Рейтинг жанров:\n",
    "\n",
    "Топ 5 по Северной Америке: Action, Shooter, Sports, Role-Playing, Misc\n",
    "\n",
    "Топ 5 по Европейскому региону: Action, Shooter, Sports, Role-Playing и Racing\n",
    "\n",
    "Топ 5 по Японии: Role-Playing, Action, Misc, Fighting и Shooter\n",
    "\n",
    "Американские и европейские игроки имеют схожите тенденции по жанрам в целом. Японские отличаются от них большим вкладом в игры с ролевым сюжетом и играм в категории skill-and-action. \n",
    "\n",
    "Однако, вне зависимости от региона всегда будут популярны игры экшен и шутеры."
   ]
  },
  {
   "cell_type": "markdown",
   "metadata": {},
   "source": [
    "### Определение влияния рейтинга ESRB на продажи в отдельном регионе"
   ]
  },
  {
   "cell_type": "markdown",
   "metadata": {},
   "source": [
    "#### Определение влияния рейтинга ESRB на продажи в Северной Америке"
   ]
  },
  {
   "cell_type": "code",
   "execution_count": 55,
   "metadata": {},
   "outputs": [
    {
     "data": {
      "text/html": [
       "<div>\n",
       "<style scoped>\n",
       "    .dataframe tbody tr th:only-of-type {\n",
       "        vertical-align: middle;\n",
       "    }\n",
       "\n",
       "    .dataframe tbody tr th {\n",
       "        vertical-align: top;\n",
       "    }\n",
       "\n",
       "    .dataframe thead th {\n",
       "        text-align: right;\n",
       "    }\n",
       "</style>\n",
       "<table border=\"1\" class=\"dataframe\">\n",
       "  <thead>\n",
       "    <tr style=\"text-align: right;\">\n",
       "      <th></th>\n",
       "      <th>na_sales</th>\n",
       "    </tr>\n",
       "    <tr>\n",
       "      <th>rating</th>\n",
       "      <th></th>\n",
       "    </tr>\n",
       "  </thead>\n",
       "  <tbody>\n",
       "    <tr>\n",
       "      <th>M</th>\n",
       "      <td>165.21</td>\n",
       "    </tr>\n",
       "    <tr>\n",
       "      <th>E</th>\n",
       "      <td>79.05</td>\n",
       "    </tr>\n",
       "    <tr>\n",
       "      <th>E10+</th>\n",
       "      <td>54.24</td>\n",
       "    </tr>\n",
       "    <tr>\n",
       "      <th>T</th>\n",
       "      <td>49.79</td>\n",
       "    </tr>\n",
       "  </tbody>\n",
       "</table>\n",
       "</div>"
      ],
      "text/plain": [
       "        na_sales\n",
       "rating          \n",
       "M         165.21\n",
       "E          79.05\n",
       "E10+       54.24\n",
       "T          49.79"
      ]
     },
     "metadata": {},
     "output_type": "display_data"
    }
   ],
   "source": [
    "sales_esrb_na = pd.pivot_table(games.query('year_of_release > 2012'), \n",
    "                                       index = 'rating', \n",
    "                                       values='na_sales', \n",
    "                                       aggfunc='sum' )\n",
    "sales_esrb_na.columns = ['na_sales']\n",
    "display(sales_esrb_na.sort_values(by='na_sales', ascending=False))"
   ]
  },
  {
   "cell_type": "markdown",
   "metadata": {},
   "source": [
    "#### Определение влияния рейтинга ESRB на продажи в Европе"
   ]
  },
  {
   "cell_type": "code",
   "execution_count": 56,
   "metadata": {},
   "outputs": [
    {
     "data": {
      "text/html": [
       "<div>\n",
       "<style scoped>\n",
       "    .dataframe tbody tr th:only-of-type {\n",
       "        vertical-align: middle;\n",
       "    }\n",
       "\n",
       "    .dataframe tbody tr th {\n",
       "        vertical-align: top;\n",
       "    }\n",
       "\n",
       "    .dataframe thead th {\n",
       "        text-align: right;\n",
       "    }\n",
       "</style>\n",
       "<table border=\"1\" class=\"dataframe\">\n",
       "  <thead>\n",
       "    <tr style=\"text-align: right;\">\n",
       "      <th></th>\n",
       "      <th>eu_sales</th>\n",
       "    </tr>\n",
       "    <tr>\n",
       "      <th>rating</th>\n",
       "      <th></th>\n",
       "    </tr>\n",
       "  </thead>\n",
       "  <tbody>\n",
       "    <tr>\n",
       "      <th>M</th>\n",
       "      <td>145.32</td>\n",
       "    </tr>\n",
       "    <tr>\n",
       "      <th>E</th>\n",
       "      <td>83.36</td>\n",
       "    </tr>\n",
       "    <tr>\n",
       "      <th>E10+</th>\n",
       "      <td>42.69</td>\n",
       "    </tr>\n",
       "    <tr>\n",
       "      <th>T</th>\n",
       "      <td>41.95</td>\n",
       "    </tr>\n",
       "  </tbody>\n",
       "</table>\n",
       "</div>"
      ],
      "text/plain": [
       "        eu_sales\n",
       "rating          \n",
       "M         145.32\n",
       "E          83.36\n",
       "E10+       42.69\n",
       "T          41.95"
      ]
     },
     "metadata": {},
     "output_type": "display_data"
    }
   ],
   "source": [
    "sales_esrb_eu = pd.pivot_table(games.query('year_of_release > 2012'), \n",
    "                                       index = 'rating', \n",
    "                                       values='eu_sales', \n",
    "                                       aggfunc='sum' )\n",
    "sales_esrb_eu.columns = ['eu_sales']\n",
    "display(sales_esrb_eu.sort_values(by='eu_sales', ascending=False))"
   ]
  },
  {
   "cell_type": "markdown",
   "metadata": {},
   "source": [
    "#### Определение влияния рейтинга ESRB на продажи в Японии"
   ]
  },
  {
   "cell_type": "code",
   "execution_count": 57,
   "metadata": {},
   "outputs": [
    {
     "data": {
      "text/html": [
       "<div>\n",
       "<style scoped>\n",
       "    .dataframe tbody tr th:only-of-type {\n",
       "        vertical-align: middle;\n",
       "    }\n",
       "\n",
       "    .dataframe tbody tr th {\n",
       "        vertical-align: top;\n",
       "    }\n",
       "\n",
       "    .dataframe thead th {\n",
       "        text-align: right;\n",
       "    }\n",
       "</style>\n",
       "<table border=\"1\" class=\"dataframe\">\n",
       "  <thead>\n",
       "    <tr style=\"text-align: right;\">\n",
       "      <th></th>\n",
       "      <th>jp_sales</th>\n",
       "    </tr>\n",
       "    <tr>\n",
       "      <th>rating</th>\n",
       "      <th></th>\n",
       "    </tr>\n",
       "  </thead>\n",
       "  <tbody>\n",
       "    <tr>\n",
       "      <th>T</th>\n",
       "      <td>20.59</td>\n",
       "    </tr>\n",
       "    <tr>\n",
       "      <th>E</th>\n",
       "      <td>15.14</td>\n",
       "    </tr>\n",
       "    <tr>\n",
       "      <th>M</th>\n",
       "      <td>14.11</td>\n",
       "    </tr>\n",
       "    <tr>\n",
       "      <th>E10+</th>\n",
       "      <td>5.89</td>\n",
       "    </tr>\n",
       "  </tbody>\n",
       "</table>\n",
       "</div>"
      ],
      "text/plain": [
       "        jp_sales\n",
       "rating          \n",
       "T          20.59\n",
       "E          15.14\n",
       "M          14.11\n",
       "E10+        5.89"
      ]
     },
     "metadata": {},
     "output_type": "display_data"
    }
   ],
   "source": [
    "sales_esrb_jp = pd.pivot_table(games.query('year_of_release > 2012'), \n",
    "                                       index = 'rating', \n",
    "                                       values='jp_sales', \n",
    "                                       aggfunc='sum' )\n",
    "sales_esrb_jp.columns = ['jp_sales']\n",
    "display(sales_esrb_jp.sort_values(by='jp_sales', ascending=False))"
   ]
  },
  {
   "cell_type": "markdown",
   "metadata": {},
   "source": [
    "Entertainment Software Rating Board (ESRB) — негосударственная организация, основное направление деятельности — принятие и определение рейтингов для компьютерных видеоигр и другого развлекательного программного обеспечения/\n",
    "\n",
    "«E» («Everyone») — «Для всех»: Содержание вполне подходит для всех возрастов (ранее с 6 лет). \n",
    "\n",
    "«E10+» («Everyone 10 and older») — «Для всех от 10 лет и старше»\n",
    "\n",
    "«T» («Teen») — «Подросткам»: Игра подходит для лиц от 13 лет.\n",
    "\n",
    "«M» («Mature») — «Для взрослых»: Материалы игры не подходят для лиц младше 17 лет. \n",
    "\n",
    "\n",
    "Американские и Европейские пользователи распределяются схожим образом: наибольшой популярность сфера игр пользуется у лиц старше 17 лет. Тогда как в Японии целевая аудитория имеет возраст с 13 лет. "
   ]
  },
  {
   "cell_type": "markdown",
   "metadata": {},
   "source": [
    "## Поиск ответов на поставленные перед исследованием вопросы"
   ]
  },
  {
   "cell_type": "markdown",
   "metadata": {},
   "source": [
    "###  Проверка по вопросу \"Средние пользовательские рейтинги платформ Xbox One и PC одинаковые?\""
   ]
  },
  {
   "cell_type": "markdown",
   "metadata": {},
   "source": [
    "Пусть: \n",
    "\n",
    "Н0: средний рейтинг среди пользователей платформы XOne равен аналогичному показателю платформы PC \n",
    "\n",
    "Н1: средний рейтинг среди пользователей платформы XOne не равен аналогичному показателю платформы PC\n",
    "\n",
    "Уровень значимости: 0.05 (стандартный показатель)\n",
    "\n",
    "Поскольку для проверки используется две независимые выборки, то будет использован двусторонний тест, поскольку в случае отвержения нулевой гипотезы стоит понимать реальное соотношение рейтингов. "
   ]
  },
  {
   "cell_type": "code",
   "execution_count": 58,
   "metadata": {},
   "outputs": [],
   "source": [
    "user_rating_XOne = games.query('year_of_release > 2012 and platform == \"XOne\"')['user_score'].dropna()"
   ]
  },
  {
   "cell_type": "code",
   "execution_count": 59,
   "metadata": {},
   "outputs": [],
   "source": [
    "user_rating_PC = games.query('year_of_release > 2012 and platform == \"PC\"')['user_score'].dropna()"
   ]
  },
  {
   "cell_type": "code",
   "execution_count": 60,
   "metadata": {},
   "outputs": [
    {
     "name": "stdout",
     "output_type": "stream",
     "text": [
      "p-значение: 0.1401266165532671\n",
      "Не получилось отвергнуть нулевую гипотезу\n"
     ]
    }
   ],
   "source": [
    "alpha = .05\n",
    "\n",
    "results = st.ttest_ind(user_rating_XOne, user_rating_PC)\n",
    "\n",
    "print('p-значение:', results.pvalue)\n",
    "\n",
    "if (results.pvalue < alpha):\n",
    "    print(\"Отвергаем нулевую гипотезу\")\n",
    "else:\n",
    "    print(\"Не получилось отвергнуть нулевую гипотезу\")"
   ]
  },
  {
   "cell_type": "markdown",
   "metadata": {},
   "source": [
    "Нулевая гипотеза не оттвергается, что означает: средний рейтинг среди пользователей платформы XOne равен аналогичному показателю платформы PC"
   ]
  },
  {
   "cell_type": "markdown",
   "metadata": {},
   "source": [
    "###  Проверка по вопросу \"Средние пользовательские рейтинги жанров Action (англ. «действие», экшен-игры) и Sports (англ. «спортивные соревнования») разные?\""
   ]
  },
  {
   "cell_type": "markdown",
   "metadata": {},
   "source": [
    "Пусть:\n",
    "\n",
    "Н0: средний рейтинг среди пользователей жанра Action равен аналогичному показателю жанра Sports\n",
    "\n",
    "Н1: средний рейтинг среди пользователей жанра Action не равен аналогичному показателю жанра Sports\n",
    "\n",
    "Уровень значимости: 0.05 (стандартный показатель)\n",
    "\n",
    "Поскольку для проверки используется две независимые выборки, то будет использован двусторонний тест, поскольку в случае отвержения нулевой гипотезы стоит понимать реальное соотношение рейтингов жанров."
   ]
  },
  {
   "cell_type": "code",
   "execution_count": 61,
   "metadata": {},
   "outputs": [],
   "source": [
    "user_rating_action = games.query('year_of_release > 2012 and genre == \"Action\"')['user_score'].dropna()"
   ]
  },
  {
   "cell_type": "code",
   "execution_count": 62,
   "metadata": {},
   "outputs": [],
   "source": [
    "user_rating_sports = games.query('year_of_release > 2012 and genre == \"Sports\"')['user_score'].dropna()"
   ]
  },
  {
   "cell_type": "code",
   "execution_count": 63,
   "metadata": {},
   "outputs": [
    {
     "name": "stdout",
     "output_type": "stream",
     "text": [
      "p-значение: 1.0517817316679538e-27\n",
      "Отвергаем нулевую гипотезу\n"
     ]
    }
   ],
   "source": [
    "alpha = .05\n",
    "\n",
    "results = st.ttest_ind(user_rating_action, user_rating_sports)\n",
    "\n",
    "print('p-значение:', results.pvalue)\n",
    "\n",
    "if (results.pvalue < alpha):\n",
    "    print(\"Отвергаем нулевую гипотезу\")\n",
    "else:\n",
    "    print(\"Не получилось отвергнуть нулевую гипотезу\")"
   ]
  },
  {
   "cell_type": "markdown",
   "metadata": {},
   "source": [
    "Нулевая гипотеза отвергнута, что означает: средний рейтинг среди пользователей жанра Action не равен аналогичному показателю жанра Sports"
   ]
  },
  {
   "cell_type": "markdown",
   "metadata": {},
   "source": [
    "## Общий вывод по работе"
   ]
  },
  {
   "cell_type": "markdown",
   "metadata": {},
   "source": [
    "«Стримчик»: анализ и проверка гипотез\n",
    "\n",
    "В ходе предобработки данных были удалены две строки, содержащие неполные сведения. \n",
    "\n",
    "Были изменены типы данных в столбцах Year_of_Release (с вещественного на целочисленный), Critic_Score ( с вещественного на целочисленный), User_Score (с общего на вещественно числовой).\n",
    "\n",
    "Оценка игр весьма субъективная, поэтому пропуски NaN в столбцах critic_score, user_score, не могут быть заменены на медианные или средние. Эти пропуски невозможно восстановить или удалить. \n",
    "\n",
    "Пропуски в rating заменены в зависимости от жанра игры. Восстановление отсутствующих значений в year_of_release выполнено благодаря сведениям из названия игр. \n",
    "\n",
    "Для анализа важны не все предоставленные данные: до 1995 года динамика объемов выпуска игр была относительно стабильной, поэтому сведения до данного периода могут быть исключены из анализа. \n",
    "\n",
    "Популярность игр возросла после 1995 года, небольшие спады количества выпускаемых игр в ~2000 и ~2005 годах может объясняться экономическими причинами: 10 марта 2000 года \"лопнул\" пузырь доткомов, образовавшийся ранее в результате взлёта акций интернет-компаний и достигший своего конца к указанному сроку; последствия пузыря растянулись до 2005 года. \n",
    "\n",
    "Спад в ~2010 году объясняется Мировым экономическим кризисом (2008-2013 года), сказавшемся на многих отраслях деятельности, в том числе на производстве компьютерных игр. \n",
    "\n",
    "Исходя из проведенного анализа ТОП-5 платформ с самыми большими объемами продаж видно, что в среднем срок использования составляет примерно 10 лет. \n",
    "\n",
    "Говоря об актуальном периоде для данных, которые в последствии могут быть использованы для построения прогноза для 2017 года, я бы его определила так: с 2013 по 2016 года. \n",
    "\n",
    "Поскольку именно в 2013 году Мировой экономический кризис сменился экономическим подъёмом. А исходя из среднего срока производства игра - от 2 до 4 лет - пик продаж игр, разработка которых началась после Мирового кризиса, придется на 2017 год.\n",
    "\n",
    "Лидируют по продажам в 2016 году: PS4, XOne, WiiU, 3DS. Исходя из общей динамики, данные платформы считаю потенциально прибыльными\n",
    "\n",
    "Падают по продажам: DS, PC, PS3, PSP, Wii, X360, поскольку это устаревающие модели приставок. Соответвенно, им на смену приходят новые модели, продажи у которых увеличиваются: PS4, XOne, 3DS, WiiU и PSV\n",
    "\n",
    "Для PS4 и 3DS видна положительная тенденция к росту продаж.\n",
    "\n",
    "Средняя больше 3го квартиля, то есть средняя объема продаж располагается после 75% продаж, что свидетельствует о хорошей динамике и устойчивой популярности у пользователей\n",
    "\n",
    "У XOne и WiiU средняя расположена между 2 и 3 квартилями, они уступают в популярности, но тем не менее демонстрируют хоршие показатели\n",
    "\n",
    "Платформы PS4, XOne и WiiU имеют похожие тенденции в корреляционной зависимости объемов продаж от оценок критиков и пользователей: зависимость объема продаж от отзывов критиков оценивается как умеренная положительна.  Иная ситуация у 3DS, где полоджительный характер связи замечем как при корреляции с рейтингом критиков, так и при корреляции с рейтингом игроков. Возможно, а данной платформе лучше поставлена работа именно по сбору обратной связи с игроками, а не только с критиками.\n",
    "\n",
    "Самыми прибыльными жанрами можно считать Action, Shooter, Sports, Role-Playing.\n",
    "На период 2013-2016 год не пользуются популярностью приключения (Adventure), симуляторы(Simulation) стратегии реального времени или пошаговые (Strategy) и головоломки (Puzzle).\n",
    "\n",
    "Рейтинг платформ:\n",
    "Топ 5 по Северной Америке: PS4, XOne, X360, PS3 и 3DS\n",
    "Топ 5 по Европейскому региону: PS4, PS3, XOne, X360 и 3DS\n",
    "Топ 5 по Японии: 3DS, PS3, PSV, PS4 и WiiU\n",
    "\n",
    "Рейтинг жанров:\n",
    "Топ 5 по Северной Америке: Action, Shooter, Sports, Role-Playing, Misc\n",
    "Топ 5 по Европейскому региону: Action, Shooter, Sports, Role-Playing и Racing\n",
    "Топ 5 по Японии: Role-Playing, Action, Misc, Fighting и Shooter\n",
    "\n",
    "Американские и Европейские пользователи распределяются схожим образом: наибольшой популярность сфера игр пользуется у лиц старше 17 лет. Тогда как в Японии целевая аудитория имеет возраст с 13 лет.\n",
    "\n",
    "По вопросу \"Средние пользовательские рейтинги платформ Xbox One и PC одинаковые?\" получено: средний рейтинг среди пользователей платформы XOne равен аналогичному показателю платформы PC\n",
    "\n",
    "По вопросу \"Средние пользовательские рейтинги жанров Action (англ. «действие», экшен-игры) и Sports (англ. «спортивные соревнования») разные?\" получено: средний рейтинг среди пользователей жанра Action не равен аналогичному показателю жанра Sports"
   ]
  }
 ],
 "metadata": {
  "ExecuteTimeLog": [
   {
    "duration": 379,
    "start_time": "2024-04-14T07:58:07.804Z"
   },
   {
    "duration": 187,
    "start_time": "2024-04-14T07:58:37.014Z"
   },
   {
    "duration": 25,
    "start_time": "2024-04-14T08:00:01.369Z"
   },
   {
    "duration": 13,
    "start_time": "2024-04-14T08:00:16.824Z"
   },
   {
    "duration": 3,
    "start_time": "2024-04-14T08:09:45.389Z"
   },
   {
    "duration": 6,
    "start_time": "2024-04-14T08:13:24.086Z"
   },
   {
    "duration": 12,
    "start_time": "2024-04-14T08:13:38.714Z"
   },
   {
    "duration": 65,
    "start_time": "2024-04-14T08:18:18.563Z"
   },
   {
    "duration": 17,
    "start_time": "2024-04-14T08:26:09.176Z"
   },
   {
    "duration": 344,
    "start_time": "2024-04-14T08:26:29.841Z"
   },
   {
    "duration": 52,
    "start_time": "2024-04-14T08:26:32.444Z"
   },
   {
    "duration": 23,
    "start_time": "2024-04-14T08:26:32.771Z"
   },
   {
    "duration": 13,
    "start_time": "2024-04-14T08:26:33.271Z"
   },
   {
    "duration": 2,
    "start_time": "2024-04-14T08:26:34.940Z"
   },
   {
    "duration": 5,
    "start_time": "2024-04-14T08:26:36.161Z"
   },
   {
    "duration": 77,
    "start_time": "2024-04-14T08:26:37.481Z"
   },
   {
    "duration": 16,
    "start_time": "2024-04-14T08:28:18.550Z"
   },
   {
    "duration": 5,
    "start_time": "2024-04-14T08:33:45.273Z"
   },
   {
    "duration": 13,
    "start_time": "2024-04-14T08:33:48.213Z"
   },
   {
    "duration": 3,
    "start_time": "2024-04-14T08:34:57.181Z"
   },
   {
    "duration": 13,
    "start_time": "2024-04-14T08:34:59.820Z"
   },
   {
    "duration": 4,
    "start_time": "2024-04-14T08:35:19.060Z"
   },
   {
    "duration": 12,
    "start_time": "2024-04-14T08:35:23.720Z"
   },
   {
    "duration": 400,
    "start_time": "2024-04-14T08:36:52.379Z"
   },
   {
    "duration": 51,
    "start_time": "2024-04-14T08:36:53.167Z"
   },
   {
    "duration": 24,
    "start_time": "2024-04-14T08:36:53.638Z"
   },
   {
    "duration": 13,
    "start_time": "2024-04-14T08:36:54.208Z"
   },
   {
    "duration": 3,
    "start_time": "2024-04-14T08:36:58.318Z"
   },
   {
    "duration": 4,
    "start_time": "2024-04-14T08:36:59.808Z"
   },
   {
    "duration": 3,
    "start_time": "2024-04-14T08:37:01.068Z"
   },
   {
    "duration": 12,
    "start_time": "2024-04-14T08:37:02.388Z"
   },
   {
    "duration": 13,
    "start_time": "2024-04-14T08:41:54.211Z"
   },
   {
    "duration": 6,
    "start_time": "2024-04-14T08:46:16.336Z"
   },
   {
    "duration": 19,
    "start_time": "2024-04-14T08:46:47.796Z"
   },
   {
    "duration": 20,
    "start_time": "2024-04-14T08:49:57.643Z"
   },
   {
    "duration": 29,
    "start_time": "2024-04-14T08:50:12.663Z"
   },
   {
    "duration": 21,
    "start_time": "2024-04-14T08:56:56.114Z"
   },
   {
    "duration": 4,
    "start_time": "2024-04-14T09:00:00.892Z"
   },
   {
    "duration": 19,
    "start_time": "2024-04-14T09:00:09.173Z"
   },
   {
    "duration": 79,
    "start_time": "2024-04-14T09:05:16.807Z"
   },
   {
    "duration": 2,
    "start_time": "2024-04-14T09:06:01.678Z"
   },
   {
    "duration": 913,
    "start_time": "2024-04-14T09:06:07.316Z"
   },
   {
    "duration": 9,
    "start_time": "2024-04-14T09:08:42.033Z"
   },
   {
    "duration": 4,
    "start_time": "2024-04-14T09:09:22.134Z"
   },
   {
    "duration": 14,
    "start_time": "2024-04-14T09:09:34.914Z"
   },
   {
    "duration": 879,
    "start_time": "2024-04-14T09:09:57.032Z"
   },
   {
    "duration": 7,
    "start_time": "2024-04-14T09:09:57.913Z"
   },
   {
    "duration": 25,
    "start_time": "2024-04-14T09:09:57.921Z"
   },
   {
    "duration": 12,
    "start_time": "2024-04-14T09:09:58.301Z"
   },
   {
    "duration": 47,
    "start_time": "2024-04-14T09:15:13.857Z"
   },
   {
    "duration": 797,
    "start_time": "2024-04-14T09:16:25.876Z"
   },
   {
    "duration": 28,
    "start_time": "2024-04-14T09:17:02.305Z"
   },
   {
    "duration": 3828,
    "start_time": "2024-04-14T09:26:08.306Z"
   },
   {
    "duration": 4,
    "start_time": "2024-04-14T09:28:14.602Z"
   },
   {
    "duration": 18,
    "start_time": "2024-04-14T09:28:27.674Z"
   },
   {
    "duration": 344,
    "start_time": "2024-04-14T09:29:39.442Z"
   },
   {
    "duration": 52,
    "start_time": "2024-04-14T09:29:40.103Z"
   },
   {
    "duration": 25,
    "start_time": "2024-04-14T09:29:40.513Z"
   },
   {
    "duration": 14,
    "start_time": "2024-04-14T09:29:40.692Z"
   },
   {
    "duration": 3,
    "start_time": "2024-04-14T09:29:41.592Z"
   },
   {
    "duration": 5,
    "start_time": "2024-04-14T09:29:42.292Z"
   },
   {
    "duration": 4,
    "start_time": "2024-04-14T09:29:42.792Z"
   },
   {
    "duration": 13,
    "start_time": "2024-04-14T09:29:43.582Z"
   },
   {
    "duration": 13,
    "start_time": "2024-04-14T09:29:44.342Z"
   },
   {
    "duration": 6,
    "start_time": "2024-04-14T09:29:44.882Z"
   },
   {
    "duration": 28,
    "start_time": "2024-04-14T09:29:45.413Z"
   },
   {
    "duration": 18,
    "start_time": "2024-04-14T09:29:45.653Z"
   },
   {
    "duration": 19,
    "start_time": "2024-04-14T09:29:45.953Z"
   },
   {
    "duration": 37,
    "start_time": "2024-04-14T09:29:46.502Z"
   },
   {
    "duration": 878,
    "start_time": "2024-04-14T09:29:46.842Z"
   },
   {
    "duration": 31,
    "start_time": "2024-04-14T09:29:47.823Z"
   },
   {
    "duration": 4,
    "start_time": "2024-04-14T09:29:48.832Z"
   },
   {
    "duration": 17,
    "start_time": "2024-04-14T09:29:49.223Z"
   },
   {
    "duration": 926,
    "start_time": "2024-04-14T09:29:49.853Z"
   },
   {
    "duration": 13,
    "start_time": "2024-04-14T09:29:50.781Z"
   },
   {
    "duration": 27,
    "start_time": "2024-04-14T09:29:50.795Z"
   },
   {
    "duration": 13,
    "start_time": "2024-04-14T09:29:51.142Z"
   },
   {
    "duration": 26,
    "start_time": "2024-04-14T09:29:51.982Z"
   },
   {
    "duration": 5,
    "start_time": "2024-04-14T09:29:53.123Z"
   },
   {
    "duration": 19,
    "start_time": "2024-04-14T09:29:53.702Z"
   },
   {
    "duration": 62,
    "start_time": "2024-04-14T09:32:31.632Z"
   },
   {
    "duration": 77,
    "start_time": "2024-04-14T09:32:36.820Z"
   },
   {
    "duration": 1416,
    "start_time": "2024-04-14T09:34:29.207Z"
   },
   {
    "duration": 14,
    "start_time": "2024-04-14T09:35:24.718Z"
   },
   {
    "duration": 11,
    "start_time": "2024-04-14T09:36:32.726Z"
   },
   {
    "duration": 529,
    "start_time": "2024-04-14T09:37:44.537Z"
   },
   {
    "duration": 151,
    "start_time": "2024-04-14T09:37:58.305Z"
   },
   {
    "duration": 3,
    "start_time": "2024-04-14T09:38:08.335Z"
   },
   {
    "duration": 127,
    "start_time": "2024-04-14T09:38:16.264Z"
   },
   {
    "duration": 149,
    "start_time": "2024-04-14T09:40:25.192Z"
   },
   {
    "duration": 14,
    "start_time": "2024-04-14T09:51:09.672Z"
   },
   {
    "duration": 16,
    "start_time": "2024-04-14T09:51:28.920Z"
   },
   {
    "duration": 14,
    "start_time": "2024-04-14T09:51:41.290Z"
   },
   {
    "duration": 15,
    "start_time": "2024-04-14T09:52:10.980Z"
   },
   {
    "duration": 20,
    "start_time": "2024-04-14T09:53:10.430Z"
   },
   {
    "duration": 145,
    "start_time": "2024-04-14T09:54:02.128Z"
   },
   {
    "duration": 16,
    "start_time": "2024-04-14T09:54:47.067Z"
   },
   {
    "duration": 15,
    "start_time": "2024-04-14T09:54:52.567Z"
   },
   {
    "duration": 14,
    "start_time": "2024-04-14T09:55:04.677Z"
   },
   {
    "duration": 15,
    "start_time": "2024-04-14T09:55:09.016Z"
   },
   {
    "duration": 16,
    "start_time": "2024-04-14T09:55:15.207Z"
   },
   {
    "duration": 14,
    "start_time": "2024-04-14T09:55:31.146Z"
   },
   {
    "duration": 17,
    "start_time": "2024-04-14T09:56:03.577Z"
   },
   {
    "duration": 17,
    "start_time": "2024-04-14T09:56:10.106Z"
   },
   {
    "duration": 16,
    "start_time": "2024-04-14T09:56:19.456Z"
   },
   {
    "duration": 13,
    "start_time": "2024-04-14T09:56:44.355Z"
   },
   {
    "duration": 13,
    "start_time": "2024-04-14T09:56:52.875Z"
   },
   {
    "duration": 25,
    "start_time": "2024-04-14T10:01:06.330Z"
   },
   {
    "duration": 6,
    "start_time": "2024-04-14T10:02:52.931Z"
   },
   {
    "duration": 5,
    "start_time": "2024-04-14T10:02:57.549Z"
   },
   {
    "duration": 7,
    "start_time": "2024-04-14T10:03:08.459Z"
   },
   {
    "duration": 14,
    "start_time": "2024-04-14T10:04:03.064Z"
   },
   {
    "duration": 37,
    "start_time": "2024-04-14T10:06:41.256Z"
   },
   {
    "duration": 23,
    "start_time": "2024-04-14T10:06:49.776Z"
   },
   {
    "duration": 13,
    "start_time": "2024-04-14T10:39:06.035Z"
   },
   {
    "duration": 15,
    "start_time": "2024-04-14T10:39:21.633Z"
   },
   {
    "duration": 127,
    "start_time": "2024-04-14T10:40:08.498Z"
   },
   {
    "duration": 187,
    "start_time": "2024-04-14T10:40:34.603Z"
   },
   {
    "duration": 139,
    "start_time": "2024-04-14T10:41:06.144Z"
   },
   {
    "duration": 142,
    "start_time": "2024-04-14T10:41:46.433Z"
   },
   {
    "duration": 143,
    "start_time": "2024-04-14T10:41:50.541Z"
   },
   {
    "duration": 127,
    "start_time": "2024-04-14T10:42:08.351Z"
   },
   {
    "duration": 135,
    "start_time": "2024-04-14T10:42:33.081Z"
   },
   {
    "duration": 12,
    "start_time": "2024-04-14T11:24:32.156Z"
   },
   {
    "duration": 14,
    "start_time": "2024-04-14T11:25:07.157Z"
   },
   {
    "duration": 21,
    "start_time": "2024-04-14T11:25:57.417Z"
   },
   {
    "duration": 17,
    "start_time": "2024-04-14T11:26:04.536Z"
   },
   {
    "duration": 16,
    "start_time": "2024-04-14T11:27:25.126Z"
   },
   {
    "duration": 16,
    "start_time": "2024-04-14T11:28:30.459Z"
   },
   {
    "duration": 15,
    "start_time": "2024-04-14T11:28:45.275Z"
   },
   {
    "duration": 15,
    "start_time": "2024-04-14T11:29:09.344Z"
   },
   {
    "duration": 151,
    "start_time": "2024-04-14T11:29:56.294Z"
   },
   {
    "duration": 15,
    "start_time": "2024-04-14T11:31:11.102Z"
   },
   {
    "duration": 16,
    "start_time": "2024-04-14T11:31:38.773Z"
   },
   {
    "duration": 15,
    "start_time": "2024-04-14T11:32:11.645Z"
   },
   {
    "duration": 11,
    "start_time": "2024-04-14T11:32:17.462Z"
   },
   {
    "duration": 19,
    "start_time": "2024-04-14T11:32:41.092Z"
   },
   {
    "duration": 479,
    "start_time": "2024-04-14T11:34:00.891Z"
   },
   {
    "duration": 444,
    "start_time": "2024-04-14T11:35:28.021Z"
   },
   {
    "duration": 522,
    "start_time": "2024-04-14T11:35:33.959Z"
   },
   {
    "duration": 465,
    "start_time": "2024-04-14T11:35:40.989Z"
   },
   {
    "duration": 458,
    "start_time": "2024-04-14T11:36:04.869Z"
   },
   {
    "duration": 462,
    "start_time": "2024-04-14T11:36:48.169Z"
   },
   {
    "duration": 18,
    "start_time": "2024-04-14T11:40:49.926Z"
   },
   {
    "duration": 397,
    "start_time": "2024-04-14T11:40:53.346Z"
   },
   {
    "duration": 10,
    "start_time": "2024-04-14T11:44:27.481Z"
   },
   {
    "duration": 435,
    "start_time": "2024-04-14T11:52:09.218Z"
   },
   {
    "duration": 18,
    "start_time": "2024-04-14T11:52:30.734Z"
   },
   {
    "duration": 98,
    "start_time": "2024-04-14T11:56:00.841Z"
   },
   {
    "duration": 150,
    "start_time": "2024-04-14T11:56:08.637Z"
   },
   {
    "duration": 96,
    "start_time": "2024-04-14T12:01:21.937Z"
   },
   {
    "duration": 86,
    "start_time": "2024-04-14T12:02:36.782Z"
   },
   {
    "duration": 101,
    "start_time": "2024-04-14T12:03:06.846Z"
   },
   {
    "duration": 105,
    "start_time": "2024-04-14T12:03:11.046Z"
   },
   {
    "duration": 98,
    "start_time": "2024-04-14T12:03:19.426Z"
   },
   {
    "duration": 94,
    "start_time": "2024-04-14T12:06:01.853Z"
   },
   {
    "duration": 101,
    "start_time": "2024-04-14T12:06:24.824Z"
   },
   {
    "duration": 118,
    "start_time": "2024-04-14T12:13:14.948Z"
   },
   {
    "duration": 101,
    "start_time": "2024-04-14T12:13:45.977Z"
   },
   {
    "duration": 93,
    "start_time": "2024-04-14T12:14:27.946Z"
   },
   {
    "duration": 155,
    "start_time": "2024-04-14T12:15:02.256Z"
   },
   {
    "duration": 93,
    "start_time": "2024-04-14T12:15:13.725Z"
   },
   {
    "duration": 100,
    "start_time": "2024-04-14T12:16:37.254Z"
   },
   {
    "duration": 105,
    "start_time": "2024-04-14T12:16:52.392Z"
   },
   {
    "duration": 102,
    "start_time": "2024-04-14T12:18:02.163Z"
   },
   {
    "duration": 615,
    "start_time": "2024-04-14T12:18:18.761Z"
   },
   {
    "duration": 64,
    "start_time": "2024-04-14T12:18:19.594Z"
   },
   {
    "duration": 23,
    "start_time": "2024-04-14T12:18:20.072Z"
   },
   {
    "duration": 14,
    "start_time": "2024-04-14T12:18:20.411Z"
   },
   {
    "duration": 3,
    "start_time": "2024-04-14T12:18:21.320Z"
   },
   {
    "duration": 4,
    "start_time": "2024-04-14T12:18:21.861Z"
   },
   {
    "duration": 4,
    "start_time": "2024-04-14T12:18:22.221Z"
   },
   {
    "duration": 13,
    "start_time": "2024-04-14T12:18:22.771Z"
   },
   {
    "duration": 13,
    "start_time": "2024-04-14T12:18:23.341Z"
   },
   {
    "duration": 5,
    "start_time": "2024-04-14T12:18:23.740Z"
   },
   {
    "duration": 19,
    "start_time": "2024-04-14T12:18:24.110Z"
   },
   {
    "duration": 19,
    "start_time": "2024-04-14T12:18:24.310Z"
   },
   {
    "duration": 22,
    "start_time": "2024-04-14T12:18:24.519Z"
   },
   {
    "duration": 51,
    "start_time": "2024-04-14T12:18:24.940Z"
   },
   {
    "duration": 902,
    "start_time": "2024-04-14T12:18:25.150Z"
   },
   {
    "duration": 20,
    "start_time": "2024-04-14T12:18:26.053Z"
   },
   {
    "duration": 19,
    "start_time": "2024-04-14T12:18:26.075Z"
   },
   {
    "duration": 18,
    "start_time": "2024-04-14T12:18:26.240Z"
   },
   {
    "duration": 913,
    "start_time": "2024-04-14T12:18:26.581Z"
   },
   {
    "duration": 8,
    "start_time": "2024-04-14T12:18:27.496Z"
   },
   {
    "duration": 5,
    "start_time": "2024-04-14T12:18:27.505Z"
   },
   {
    "duration": 21,
    "start_time": "2024-04-14T12:18:27.511Z"
   },
   {
    "duration": 25,
    "start_time": "2024-04-14T12:18:28.031Z"
   },
   {
    "duration": 6,
    "start_time": "2024-04-14T12:18:28.860Z"
   },
   {
    "duration": 27,
    "start_time": "2024-04-14T12:18:29.411Z"
   },
   {
    "duration": 13,
    "start_time": "2024-04-14T12:18:31.091Z"
   },
   {
    "duration": 190,
    "start_time": "2024-04-14T12:18:32.224Z"
   },
   {
    "duration": 13,
    "start_time": "2024-04-14T12:18:33.050Z"
   },
   {
    "duration": 126,
    "start_time": "2024-04-14T12:18:33.531Z"
   },
   {
    "duration": 145,
    "start_time": "2024-04-14T12:18:34.040Z"
   },
   {
    "duration": 137,
    "start_time": "2024-04-14T12:18:34.591Z"
   },
   {
    "duration": 160,
    "start_time": "2024-04-14T12:18:35.363Z"
   },
   {
    "duration": 134,
    "start_time": "2024-04-14T12:18:35.630Z"
   },
   {
    "duration": 18,
    "start_time": "2024-04-14T12:18:36.211Z"
   },
   {
    "duration": 380,
    "start_time": "2024-04-14T12:18:36.400Z"
   },
   {
    "duration": 110,
    "start_time": "2024-04-14T12:18:41.521Z"
   },
   {
    "duration": 84,
    "start_time": "2024-04-14T12:19:08.251Z"
   },
   {
    "duration": 16,
    "start_time": "2024-04-14T12:19:26.970Z"
   },
   {
    "duration": 16,
    "start_time": "2024-04-14T12:20:28.731Z"
   },
   {
    "duration": 95,
    "start_time": "2024-04-14T12:20:50.759Z"
   },
   {
    "duration": 103,
    "start_time": "2024-04-14T12:21:04.083Z"
   },
   {
    "duration": 158,
    "start_time": "2024-04-14T12:22:40.539Z"
   },
   {
    "duration": 105,
    "start_time": "2024-04-14T12:24:40.855Z"
   },
   {
    "duration": 112,
    "start_time": "2024-04-14T12:25:15.691Z"
   },
   {
    "duration": 103,
    "start_time": "2024-04-14T12:25:38.445Z"
   },
   {
    "duration": 107,
    "start_time": "2024-04-14T12:26:11.007Z"
   },
   {
    "duration": 108,
    "start_time": "2024-04-14T12:26:45.163Z"
   },
   {
    "duration": 107,
    "start_time": "2024-04-14T12:26:55.015Z"
   },
   {
    "duration": 114,
    "start_time": "2024-04-14T12:27:05.854Z"
   },
   {
    "duration": 84,
    "start_time": "2024-04-14T12:35:38.907Z"
   },
   {
    "duration": 23,
    "start_time": "2024-04-14T12:36:11.883Z"
   },
   {
    "duration": 18,
    "start_time": "2024-04-14T12:37:50.496Z"
   },
   {
    "duration": 20,
    "start_time": "2024-04-14T12:38:04.410Z"
   },
   {
    "duration": 9,
    "start_time": "2024-04-14T12:39:29.539Z"
   },
   {
    "duration": 13,
    "start_time": "2024-04-14T12:39:54.578Z"
   },
   {
    "duration": 7,
    "start_time": "2024-04-14T12:40:24.939Z"
   },
   {
    "duration": 12,
    "start_time": "2024-04-14T12:41:09.385Z"
   },
   {
    "duration": 8,
    "start_time": "2024-04-14T12:41:10.965Z"
   },
   {
    "duration": 8,
    "start_time": "2024-04-14T12:41:27.766Z"
   },
   {
    "duration": 663,
    "start_time": "2024-04-14T12:41:38.986Z"
   },
   {
    "duration": 57,
    "start_time": "2024-04-14T12:41:39.651Z"
   },
   {
    "duration": 22,
    "start_time": "2024-04-14T12:41:40.015Z"
   },
   {
    "duration": 13,
    "start_time": "2024-04-14T12:41:40.515Z"
   },
   {
    "duration": 3,
    "start_time": "2024-04-14T12:41:40.646Z"
   },
   {
    "duration": 4,
    "start_time": "2024-04-14T12:41:40.746Z"
   },
   {
    "duration": 4,
    "start_time": "2024-04-14T12:41:40.811Z"
   },
   {
    "duration": 19,
    "start_time": "2024-04-14T12:41:40.909Z"
   },
   {
    "duration": 12,
    "start_time": "2024-04-14T12:41:41.009Z"
   },
   {
    "duration": 4,
    "start_time": "2024-04-14T12:41:41.077Z"
   },
   {
    "duration": 27,
    "start_time": "2024-04-14T12:41:41.142Z"
   },
   {
    "duration": 20,
    "start_time": "2024-04-14T12:41:41.175Z"
   },
   {
    "duration": 19,
    "start_time": "2024-04-14T12:41:41.206Z"
   },
   {
    "duration": 38,
    "start_time": "2024-04-14T12:41:41.273Z"
   },
   {
    "duration": 943,
    "start_time": "2024-04-14T12:41:41.312Z"
   },
   {
    "duration": 21,
    "start_time": "2024-04-14T12:41:42.256Z"
   },
   {
    "duration": 16,
    "start_time": "2024-04-14T12:41:42.278Z"
   },
   {
    "duration": 34,
    "start_time": "2024-04-14T12:41:42.296Z"
   },
   {
    "duration": 892,
    "start_time": "2024-04-14T12:41:42.332Z"
   },
   {
    "duration": 9,
    "start_time": "2024-04-14T12:41:43.225Z"
   },
   {
    "duration": 9,
    "start_time": "2024-04-14T12:41:43.236Z"
   },
   {
    "duration": 17,
    "start_time": "2024-04-14T12:41:43.247Z"
   },
   {
    "duration": 41,
    "start_time": "2024-04-14T12:41:43.266Z"
   },
   {
    "duration": 5,
    "start_time": "2024-04-14T12:41:43.309Z"
   },
   {
    "duration": 51,
    "start_time": "2024-04-14T12:41:43.315Z"
   },
   {
    "duration": 25,
    "start_time": "2024-04-14T12:41:43.367Z"
   },
   {
    "duration": 231,
    "start_time": "2024-04-14T12:41:43.393Z"
   },
   {
    "duration": 13,
    "start_time": "2024-04-14T12:41:43.625Z"
   },
   {
    "duration": 174,
    "start_time": "2024-04-14T12:41:43.640Z"
   },
   {
    "duration": 150,
    "start_time": "2024-04-14T12:41:43.815Z"
   },
   {
    "duration": 148,
    "start_time": "2024-04-14T12:41:43.966Z"
   },
   {
    "duration": 132,
    "start_time": "2024-04-14T12:41:44.115Z"
   },
   {
    "duration": 146,
    "start_time": "2024-04-14T12:41:44.249Z"
   },
   {
    "duration": 19,
    "start_time": "2024-04-14T12:41:44.397Z"
   },
   {
    "duration": 378,
    "start_time": "2024-04-14T12:41:44.417Z"
   },
   {
    "duration": 122,
    "start_time": "2024-04-14T12:41:44.798Z"
   },
   {
    "duration": 128,
    "start_time": "2024-04-14T12:41:44.922Z"
   },
   {
    "duration": 131,
    "start_time": "2024-04-14T12:41:45.052Z"
   },
   {
    "duration": 161,
    "start_time": "2024-04-14T12:41:46.774Z"
   },
   {
    "duration": 11,
    "start_time": "2024-04-14T12:41:49.246Z"
   },
   {
    "duration": 7,
    "start_time": "2024-04-14T12:41:49.905Z"
   },
   {
    "duration": 831,
    "start_time": "2024-04-14T12:44:01.924Z"
   },
   {
    "duration": 7,
    "start_time": "2024-04-14T12:45:17.552Z"
   },
   {
    "duration": 13,
    "start_time": "2024-04-14T12:45:20.570Z"
   },
   {
    "duration": 12,
    "start_time": "2024-04-14T12:45:32.105Z"
   },
   {
    "duration": 7,
    "start_time": "2024-04-14T12:45:33.952Z"
   },
   {
    "duration": 629,
    "start_time": "2024-04-14T12:46:24.330Z"
   },
   {
    "duration": 695,
    "start_time": "2024-04-14T12:47:25.689Z"
   },
   {
    "duration": 694,
    "start_time": "2024-04-14T12:54:01.487Z"
   },
   {
    "duration": 604,
    "start_time": "2024-04-14T12:54:49.922Z"
   },
   {
    "duration": 635,
    "start_time": "2024-04-14T12:56:42.088Z"
   },
   {
    "duration": 765,
    "start_time": "2024-04-14T12:58:03.439Z"
   },
   {
    "duration": 15,
    "start_time": "2024-04-14T13:01:38.604Z"
   },
   {
    "duration": 14,
    "start_time": "2024-04-14T13:01:53.778Z"
   },
   {
    "duration": 16,
    "start_time": "2024-04-14T13:03:49.503Z"
   },
   {
    "duration": 19,
    "start_time": "2024-04-14T13:07:24.999Z"
   },
   {
    "duration": 16,
    "start_time": "2024-04-14T13:08:03.464Z"
   },
   {
    "duration": 17,
    "start_time": "2024-04-14T13:08:36.498Z"
   },
   {
    "duration": 14,
    "start_time": "2024-04-14T13:08:42.598Z"
   },
   {
    "duration": 14,
    "start_time": "2024-04-14T13:09:07.670Z"
   },
   {
    "duration": 14,
    "start_time": "2024-04-14T13:09:14.147Z"
   },
   {
    "duration": 13,
    "start_time": "2024-04-14T13:10:27.937Z"
   },
   {
    "duration": 14,
    "start_time": "2024-04-14T13:10:39.066Z"
   },
   {
    "duration": 13,
    "start_time": "2024-04-14T13:11:15.237Z"
   },
   {
    "duration": 23,
    "start_time": "2024-04-14T13:17:20.185Z"
   },
   {
    "duration": 15,
    "start_time": "2024-04-14T13:17:50.419Z"
   },
   {
    "duration": 15,
    "start_time": "2024-04-14T13:18:29.648Z"
   },
   {
    "duration": 15,
    "start_time": "2024-04-14T13:22:54.979Z"
   },
   {
    "duration": 19,
    "start_time": "2024-04-14T13:23:02.684Z"
   },
   {
    "duration": 14,
    "start_time": "2024-04-14T13:23:24.083Z"
   },
   {
    "duration": 16,
    "start_time": "2024-04-14T13:24:34.991Z"
   },
   {
    "duration": 9,
    "start_time": "2024-04-14T13:35:57.460Z"
   },
   {
    "duration": 8,
    "start_time": "2024-04-14T13:36:05.130Z"
   },
   {
    "duration": 6,
    "start_time": "2024-04-14T13:36:36.411Z"
   },
   {
    "duration": 10,
    "start_time": "2024-04-14T13:36:52.310Z"
   },
   {
    "duration": 7,
    "start_time": "2024-04-14T13:36:58.699Z"
   },
   {
    "duration": 5,
    "start_time": "2024-04-14T13:36:59.729Z"
   },
   {
    "duration": 384,
    "start_time": "2024-04-14T13:37:30.938Z"
   },
   {
    "duration": 5,
    "start_time": "2024-04-14T13:37:36.528Z"
   },
   {
    "duration": 6,
    "start_time": "2024-04-14T13:39:45.790Z"
   },
   {
    "duration": 6,
    "start_time": "2024-04-14T13:40:07.201Z"
   },
   {
    "duration": 5,
    "start_time": "2024-04-14T13:40:22.073Z"
   },
   {
    "duration": 5,
    "start_time": "2024-04-14T13:40:45.303Z"
   },
   {
    "duration": 987,
    "start_time": "2024-04-14T13:53:25.042Z"
   },
   {
    "duration": 52,
    "start_time": "2024-04-14T13:53:26.030Z"
   },
   {
    "duration": 21,
    "start_time": "2024-04-14T13:53:26.084Z"
   },
   {
    "duration": 12,
    "start_time": "2024-04-14T13:53:26.107Z"
   },
   {
    "duration": 12,
    "start_time": "2024-04-14T13:53:26.121Z"
   },
   {
    "duration": 26,
    "start_time": "2024-04-14T13:53:26.134Z"
   },
   {
    "duration": 19,
    "start_time": "2024-04-14T13:53:26.162Z"
   },
   {
    "duration": 18,
    "start_time": "2024-04-14T13:53:26.182Z"
   },
   {
    "duration": 24,
    "start_time": "2024-04-14T13:53:26.202Z"
   },
   {
    "duration": 18,
    "start_time": "2024-04-14T13:53:26.233Z"
   },
   {
    "duration": 4,
    "start_time": "2024-04-14T13:53:26.299Z"
   },
   {
    "duration": 18,
    "start_time": "2024-04-14T13:53:26.365Z"
   },
   {
    "duration": 19,
    "start_time": "2024-04-14T13:53:26.399Z"
   },
   {
    "duration": 21,
    "start_time": "2024-04-14T13:53:26.433Z"
   },
   {
    "duration": 38,
    "start_time": "2024-04-14T13:53:26.537Z"
   },
   {
    "duration": 868,
    "start_time": "2024-04-14T13:53:26.576Z"
   },
   {
    "duration": 28,
    "start_time": "2024-04-14T13:53:27.445Z"
   },
   {
    "duration": 18,
    "start_time": "2024-04-14T13:53:27.476Z"
   },
   {
    "duration": 62,
    "start_time": "2024-04-14T13:53:27.495Z"
   },
   {
    "duration": 990,
    "start_time": "2024-04-14T13:53:27.559Z"
   },
   {
    "duration": 8,
    "start_time": "2024-04-14T13:53:28.550Z"
   },
   {
    "duration": 19,
    "start_time": "2024-04-14T13:53:28.559Z"
   },
   {
    "duration": 22,
    "start_time": "2024-04-14T13:53:28.580Z"
   },
   {
    "duration": 47,
    "start_time": "2024-04-14T13:53:28.604Z"
   },
   {
    "duration": 6,
    "start_time": "2024-04-14T13:53:28.652Z"
   },
   {
    "duration": 40,
    "start_time": "2024-04-14T13:53:28.659Z"
   },
   {
    "duration": 28,
    "start_time": "2024-04-14T13:53:28.700Z"
   },
   {
    "duration": 181,
    "start_time": "2024-04-14T13:53:28.730Z"
   },
   {
    "duration": 13,
    "start_time": "2024-04-14T13:53:28.913Z"
   },
   {
    "duration": 176,
    "start_time": "2024-04-14T13:53:28.927Z"
   },
   {
    "duration": 153,
    "start_time": "2024-04-14T13:53:29.104Z"
   },
   {
    "duration": 148,
    "start_time": "2024-04-14T13:53:29.258Z"
   },
   {
    "duration": 150,
    "start_time": "2024-04-14T13:53:29.407Z"
   },
   {
    "duration": 160,
    "start_time": "2024-04-14T13:53:29.558Z"
   },
   {
    "duration": 18,
    "start_time": "2024-04-14T13:53:29.719Z"
   },
   {
    "duration": 384,
    "start_time": "2024-04-14T13:53:29.738Z"
   },
   {
    "duration": 112,
    "start_time": "2024-04-14T13:53:30.123Z"
   },
   {
    "duration": 116,
    "start_time": "2024-04-14T13:53:30.238Z"
   },
   {
    "duration": 278,
    "start_time": "2024-04-14T13:53:30.355Z"
   },
   {
    "duration": 108,
    "start_time": "2024-04-14T13:53:30.634Z"
   },
   {
    "duration": 83,
    "start_time": "2024-04-14T13:53:30.743Z"
   },
   {
    "duration": 187,
    "start_time": "2024-04-14T13:53:30.827Z"
   },
   {
    "duration": 901,
    "start_time": "2024-04-14T13:53:31.015Z"
   },
   {
    "duration": 644,
    "start_time": "2024-04-14T13:53:31.918Z"
   },
   {
    "duration": 749,
    "start_time": "2024-04-14T13:53:32.563Z"
   },
   {
    "duration": 702,
    "start_time": "2024-04-14T13:53:33.314Z"
   },
   {
    "duration": 14,
    "start_time": "2024-04-14T13:53:34.018Z"
   },
   {
    "duration": 99,
    "start_time": "2024-04-14T13:53:34.033Z"
   },
   {
    "duration": 59,
    "start_time": "2024-04-14T13:53:34.134Z"
   },
   {
    "duration": 24,
    "start_time": "2024-04-14T13:53:34.195Z"
   },
   {
    "duration": 83,
    "start_time": "2024-04-14T13:53:34.220Z"
   },
   {
    "duration": 71,
    "start_time": "2024-04-14T13:53:34.305Z"
   },
   {
    "duration": 34,
    "start_time": "2024-04-14T13:53:34.378Z"
   },
   {
    "duration": 79,
    "start_time": "2024-04-14T13:53:34.414Z"
   },
   {
    "duration": 102,
    "start_time": "2024-04-14T13:53:34.494Z"
   },
   {
    "duration": 81,
    "start_time": "2024-04-14T13:53:34.598Z"
   },
   {
    "duration": 51,
    "start_time": "2024-04-14T13:53:34.681Z"
   },
   {
    "duration": 25,
    "start_time": "2024-04-14T13:53:34.734Z"
   },
   {
    "duration": 43,
    "start_time": "2024-04-14T13:53:34.761Z"
   },
   {
    "duration": 62,
    "start_time": "2024-04-14T13:53:34.806Z"
   },
   {
    "duration": 27,
    "start_time": "2024-04-14T13:53:34.869Z"
   },
   {
    "duration": 75,
    "start_time": "2024-04-14T13:53:34.897Z"
   },
   {
    "duration": 1143,
    "start_time": "2024-04-14T21:52:51.771Z"
   },
   {
    "duration": 111,
    "start_time": "2024-04-14T21:52:52.916Z"
   },
   {
    "duration": 20,
    "start_time": "2024-04-14T21:52:53.028Z"
   },
   {
    "duration": 15,
    "start_time": "2024-04-14T21:52:53.049Z"
   },
   {
    "duration": 2,
    "start_time": "2024-04-14T21:52:53.066Z"
   },
   {
    "duration": 9,
    "start_time": "2024-04-14T21:52:53.069Z"
   },
   {
    "duration": 10,
    "start_time": "2024-04-14T21:52:53.080Z"
   },
   {
    "duration": 12,
    "start_time": "2024-04-14T21:52:53.092Z"
   },
   {
    "duration": 14,
    "start_time": "2024-04-14T21:52:53.105Z"
   },
   {
    "duration": 14,
    "start_time": "2024-04-14T21:52:53.122Z"
   },
   {
    "duration": 5,
    "start_time": "2024-04-14T21:52:53.137Z"
   },
   {
    "duration": 29,
    "start_time": "2024-04-14T21:52:53.143Z"
   },
   {
    "duration": 21,
    "start_time": "2024-04-14T21:52:53.174Z"
   },
   {
    "duration": 22,
    "start_time": "2024-04-14T21:52:53.203Z"
   },
   {
    "duration": 31,
    "start_time": "2024-04-14T21:52:53.227Z"
   },
   {
    "duration": 794,
    "start_time": "2024-04-14T21:52:53.259Z"
   },
   {
    "duration": 18,
    "start_time": "2024-04-14T21:52:54.055Z"
   },
   {
    "duration": 3,
    "start_time": "2024-04-14T21:52:54.074Z"
   },
   {
    "duration": 31,
    "start_time": "2024-04-14T21:52:54.079Z"
   },
   {
    "duration": 848,
    "start_time": "2024-04-14T21:52:54.112Z"
   },
   {
    "duration": 7,
    "start_time": "2024-04-14T21:52:54.961Z"
   },
   {
    "duration": 8,
    "start_time": "2024-04-14T21:52:54.969Z"
   },
   {
    "duration": 21,
    "start_time": "2024-04-14T21:52:54.978Z"
   },
   {
    "duration": 23,
    "start_time": "2024-04-14T21:52:55.001Z"
   },
   {
    "duration": 4,
    "start_time": "2024-04-14T21:52:55.025Z"
   },
   {
    "duration": 32,
    "start_time": "2024-04-14T21:52:55.031Z"
   },
   {
    "duration": 10,
    "start_time": "2024-04-14T21:52:55.064Z"
   },
   {
    "duration": 139,
    "start_time": "2024-04-14T21:52:55.077Z"
   },
   {
    "duration": 12,
    "start_time": "2024-04-14T21:52:55.217Z"
   },
   {
    "duration": 124,
    "start_time": "2024-04-14T21:52:55.230Z"
   },
   {
    "duration": 123,
    "start_time": "2024-04-14T21:52:55.356Z"
   },
   {
    "duration": 133,
    "start_time": "2024-04-14T21:52:55.480Z"
   },
   {
    "duration": 131,
    "start_time": "2024-04-14T21:52:55.614Z"
   },
   {
    "duration": 125,
    "start_time": "2024-04-14T21:52:55.746Z"
   },
   {
    "duration": 17,
    "start_time": "2024-04-14T21:52:55.872Z"
   },
   {
    "duration": 321,
    "start_time": "2024-04-14T21:52:55.901Z"
   },
   {
    "duration": 105,
    "start_time": "2024-04-14T21:52:56.223Z"
   },
   {
    "duration": 143,
    "start_time": "2024-04-14T21:52:56.329Z"
   },
   {
    "duration": 98,
    "start_time": "2024-04-14T21:52:56.474Z"
   },
   {
    "duration": 104,
    "start_time": "2024-04-14T21:52:56.573Z"
   },
   {
    "duration": 10,
    "start_time": "2024-04-14T21:52:56.678Z"
   },
   {
    "duration": 13,
    "start_time": "2024-04-14T21:52:56.690Z"
   },
   {
    "duration": 648,
    "start_time": "2024-04-14T21:52:56.704Z"
   },
   {
    "duration": 554,
    "start_time": "2024-04-14T21:52:57.353Z"
   },
   {
    "duration": 637,
    "start_time": "2024-04-14T21:52:57.908Z"
   },
   {
    "duration": 566,
    "start_time": "2024-04-14T21:52:58.546Z"
   },
   {
    "duration": 13,
    "start_time": "2024-04-14T21:52:59.113Z"
   },
   {
    "duration": 11,
    "start_time": "2024-04-14T21:52:59.128Z"
   },
   {
    "duration": 11,
    "start_time": "2024-04-14T21:52:59.140Z"
   },
   {
    "duration": 12,
    "start_time": "2024-04-14T21:52:59.152Z"
   },
   {
    "duration": 41,
    "start_time": "2024-04-14T21:52:59.165Z"
   },
   {
    "duration": 11,
    "start_time": "2024-04-14T21:52:59.207Z"
   },
   {
    "duration": 17,
    "start_time": "2024-04-14T21:52:59.219Z"
   },
   {
    "duration": 12,
    "start_time": "2024-04-14T21:52:59.237Z"
   },
   {
    "duration": 12,
    "start_time": "2024-04-14T21:52:59.251Z"
   },
   {
    "duration": 39,
    "start_time": "2024-04-14T21:52:59.264Z"
   },
   {
    "duration": 6,
    "start_time": "2024-04-14T21:52:59.304Z"
   },
   {
    "duration": 6,
    "start_time": "2024-04-14T21:52:59.311Z"
   },
   {
    "duration": 4,
    "start_time": "2024-04-14T21:52:59.318Z"
   },
   {
    "duration": 8,
    "start_time": "2024-04-14T21:52:59.324Z"
   },
   {
    "duration": 5,
    "start_time": "2024-04-14T21:52:59.334Z"
   },
   {
    "duration": 7,
    "start_time": "2024-04-14T21:52:59.340Z"
   },
   {
    "duration": 3,
    "start_time": "2024-04-15T13:01:43.889Z"
   },
   {
    "duration": 3,
    "start_time": "2024-04-15T13:01:53.368Z"
   },
   {
    "duration": 44,
    "start_time": "2024-04-15T13:01:58.283Z"
   },
   {
    "duration": 1199,
    "start_time": "2024-04-15T13:02:22.199Z"
   },
   {
    "duration": 116,
    "start_time": "2024-04-15T13:02:23.400Z"
   },
   {
    "duration": 25,
    "start_time": "2024-04-15T13:02:23.518Z"
   },
   {
    "duration": 14,
    "start_time": "2024-04-15T13:02:23.545Z"
   },
   {
    "duration": 8,
    "start_time": "2024-04-15T13:02:23.560Z"
   },
   {
    "duration": 13,
    "start_time": "2024-04-15T13:02:23.569Z"
   },
   {
    "duration": 34,
    "start_time": "2024-04-15T13:02:23.584Z"
   },
   {
    "duration": 7,
    "start_time": "2024-04-15T13:02:23.620Z"
   },
   {
    "duration": 16,
    "start_time": "2024-04-15T13:02:23.628Z"
   },
   {
    "duration": 13,
    "start_time": "2024-04-15T13:02:23.646Z"
   },
   {
    "duration": 16,
    "start_time": "2024-04-15T13:02:23.661Z"
   },
   {
    "duration": 21,
    "start_time": "2024-04-15T13:02:23.721Z"
   },
   {
    "duration": 19,
    "start_time": "2024-04-15T13:02:23.753Z"
   },
   {
    "duration": 21,
    "start_time": "2024-04-15T13:02:23.787Z"
   },
   {
    "duration": 3,
    "start_time": "2024-04-15T13:02:23.921Z"
   },
   {
    "duration": 2,
    "start_time": "2024-04-15T13:02:23.951Z"
   },
   {
    "duration": 19,
    "start_time": "2024-04-15T13:02:23.983Z"
   },
   {
    "duration": 4,
    "start_time": "2024-04-15T13:02:24.084Z"
   },
   {
    "duration": 21,
    "start_time": "2024-04-15T13:02:24.126Z"
   },
   {
    "duration": 966,
    "start_time": "2024-04-15T13:02:24.173Z"
   },
   {
    "duration": 11,
    "start_time": "2024-04-15T13:02:25.141Z"
   },
   {
    "duration": 5,
    "start_time": "2024-04-15T13:02:25.153Z"
   },
   {
    "duration": 23,
    "start_time": "2024-04-15T13:02:25.159Z"
   },
   {
    "duration": 27,
    "start_time": "2024-04-15T13:02:25.184Z"
   },
   {
    "duration": 5,
    "start_time": "2024-04-15T13:02:25.357Z"
   },
   {
    "duration": 20,
    "start_time": "2024-04-15T13:02:26.876Z"
   },
   {
    "duration": 13,
    "start_time": "2024-04-15T13:02:54.309Z"
   },
   {
    "duration": 13,
    "start_time": "2024-04-15T13:04:43.808Z"
   },
   {
    "duration": 168,
    "start_time": "2024-04-15T13:04:44.386Z"
   },
   {
    "duration": 14,
    "start_time": "2024-04-15T13:06:34.336Z"
   },
   {
    "duration": 14,
    "start_time": "2024-04-15T13:06:58.706Z"
   },
   {
    "duration": 139,
    "start_time": "2024-04-15T13:06:59.145Z"
   },
   {
    "duration": 144,
    "start_time": "2024-04-15T13:06:59.514Z"
   },
   {
    "duration": 217,
    "start_time": "2024-04-15T13:07:00.014Z"
   },
   {
    "duration": 149,
    "start_time": "2024-04-15T13:07:00.232Z"
   },
   {
    "duration": 166,
    "start_time": "2024-04-15T13:07:00.383Z"
   },
   {
    "duration": 24,
    "start_time": "2024-04-15T13:07:00.551Z"
   },
   {
    "duration": 521,
    "start_time": "2024-04-15T13:07:00.577Z"
   },
   {
    "duration": 120,
    "start_time": "2024-04-15T13:07:01.099Z"
   },
   {
    "duration": 119,
    "start_time": "2024-04-15T13:07:01.355Z"
   },
   {
    "duration": 121,
    "start_time": "2024-04-15T13:07:02.534Z"
   },
   {
    "duration": 113,
    "start_time": "2024-04-15T13:07:03.506Z"
   },
   {
    "duration": 16,
    "start_time": "2024-04-15T13:07:05.454Z"
   },
   {
    "duration": 8,
    "start_time": "2024-04-15T13:07:05.795Z"
   },
   {
    "duration": 855,
    "start_time": "2024-04-15T13:07:07.095Z"
   },
   {
    "duration": 661,
    "start_time": "2024-04-15T13:07:25.616Z"
   },
   {
    "duration": 710,
    "start_time": "2024-04-15T13:07:26.674Z"
   },
   {
    "duration": 777,
    "start_time": "2024-04-15T13:11:15.503Z"
   },
   {
    "duration": 16,
    "start_time": "2024-04-15T13:11:16.531Z"
   },
   {
    "duration": 107,
    "start_time": "2024-04-15T13:12:33.920Z"
   },
   {
    "duration": 17,
    "start_time": "2024-04-15T13:12:57.471Z"
   },
   {
    "duration": 16,
    "start_time": "2024-04-15T13:15:40.838Z"
   },
   {
    "duration": 17,
    "start_time": "2024-04-15T13:15:46.167Z"
   },
   {
    "duration": 15,
    "start_time": "2024-04-15T13:15:46.699Z"
   },
   {
    "duration": 15,
    "start_time": "2024-04-15T13:15:46.765Z"
   },
   {
    "duration": 14,
    "start_time": "2024-04-15T13:15:46.937Z"
   },
   {
    "duration": 14,
    "start_time": "2024-04-15T13:15:46.999Z"
   },
   {
    "duration": 16,
    "start_time": "2024-04-15T13:15:47.066Z"
   },
   {
    "duration": 16,
    "start_time": "2024-04-15T13:15:47.226Z"
   },
   {
    "duration": 15,
    "start_time": "2024-04-15T13:15:47.294Z"
   },
   {
    "duration": 15,
    "start_time": "2024-04-15T13:15:47.362Z"
   },
   {
    "duration": 6,
    "start_time": "2024-04-15T13:15:47.557Z"
   },
   {
    "duration": 7,
    "start_time": "2024-04-15T13:15:47.589Z"
   },
   {
    "duration": 5,
    "start_time": "2024-04-15T13:15:47.624Z"
   },
   {
    "duration": 6,
    "start_time": "2024-04-15T13:15:47.787Z"
   },
   {
    "duration": 6,
    "start_time": "2024-04-15T13:15:48.158Z"
   },
   {
    "duration": 5,
    "start_time": "2024-04-15T13:15:48.487Z"
   },
   {
    "duration": 1025,
    "start_time": "2024-04-15T13:42:06.099Z"
   },
   {
    "duration": 103,
    "start_time": "2024-04-15T13:42:07.125Z"
   },
   {
    "duration": 24,
    "start_time": "2024-04-15T13:42:07.230Z"
   },
   {
    "duration": 21,
    "start_time": "2024-04-15T13:42:07.255Z"
   },
   {
    "duration": 18,
    "start_time": "2024-04-15T13:42:07.279Z"
   },
   {
    "duration": 8,
    "start_time": "2024-04-15T13:42:07.299Z"
   },
   {
    "duration": 10,
    "start_time": "2024-04-15T13:42:07.308Z"
   },
   {
    "duration": 11,
    "start_time": "2024-04-15T13:42:07.320Z"
   },
   {
    "duration": 13,
    "start_time": "2024-04-15T13:42:07.332Z"
   },
   {
    "duration": 13,
    "start_time": "2024-04-15T13:42:07.346Z"
   },
   {
    "duration": 5,
    "start_time": "2024-04-15T13:42:07.361Z"
   },
   {
    "duration": 19,
    "start_time": "2024-04-15T13:42:07.368Z"
   },
   {
    "duration": 18,
    "start_time": "2024-04-15T13:42:07.388Z"
   },
   {
    "duration": 20,
    "start_time": "2024-04-15T13:42:07.409Z"
   },
   {
    "duration": 2,
    "start_time": "2024-04-15T13:42:07.430Z"
   },
   {
    "duration": 3,
    "start_time": "2024-04-15T13:42:07.434Z"
   },
   {
    "duration": 21,
    "start_time": "2024-04-15T13:42:07.465Z"
   },
   {
    "duration": 18,
    "start_time": "2024-04-15T13:42:07.488Z"
   },
   {
    "duration": 27,
    "start_time": "2024-04-15T13:42:07.508Z"
   },
   {
    "duration": 1017,
    "start_time": "2024-04-15T13:42:07.536Z"
   },
   {
    "duration": 12,
    "start_time": "2024-04-15T13:42:08.555Z"
   },
   {
    "duration": 44,
    "start_time": "2024-04-15T13:42:08.568Z"
   },
   {
    "duration": 23,
    "start_time": "2024-04-15T13:42:08.614Z"
   },
   {
    "duration": 29,
    "start_time": "2024-04-15T13:42:08.639Z"
   },
   {
    "duration": 5,
    "start_time": "2024-04-15T13:42:08.670Z"
   },
   {
    "duration": 27,
    "start_time": "2024-04-15T13:42:08.676Z"
   },
   {
    "duration": 34,
    "start_time": "2024-04-15T13:42:08.705Z"
   },
   {
    "duration": 183,
    "start_time": "2024-04-15T13:42:08.740Z"
   },
   {
    "duration": 31,
    "start_time": "2024-04-15T13:42:08.924Z"
   },
   {
    "duration": 172,
    "start_time": "2024-04-15T13:42:08.957Z"
   },
   {
    "duration": 189,
    "start_time": "2024-04-15T13:42:09.131Z"
   },
   {
    "duration": 235,
    "start_time": "2024-04-15T13:42:09.322Z"
   },
   {
    "duration": 157,
    "start_time": "2024-04-15T13:42:09.559Z"
   },
   {
    "duration": 174,
    "start_time": "2024-04-15T13:42:09.718Z"
   },
   {
    "duration": 21,
    "start_time": "2024-04-15T13:42:09.894Z"
   },
   {
    "duration": 430,
    "start_time": "2024-04-15T13:42:09.917Z"
   },
   {
    "duration": 121,
    "start_time": "2024-04-15T13:42:10.349Z"
   },
   {
    "duration": 124,
    "start_time": "2024-04-15T13:42:10.471Z"
   },
   {
    "duration": 120,
    "start_time": "2024-04-15T13:42:10.596Z"
   },
   {
    "duration": 130,
    "start_time": "2024-04-15T13:42:10.718Z"
   },
   {
    "duration": 20,
    "start_time": "2024-04-15T13:42:10.852Z"
   },
   {
    "duration": 8,
    "start_time": "2024-04-15T13:42:10.873Z"
   },
   {
    "duration": 903,
    "start_time": "2024-04-15T13:42:10.882Z"
   },
   {
    "duration": 683,
    "start_time": "2024-04-15T13:42:11.787Z"
   },
   {
    "duration": 709,
    "start_time": "2024-04-15T13:42:12.472Z"
   },
   {
    "duration": 797,
    "start_time": "2024-04-15T13:42:13.183Z"
   },
   {
    "duration": 21,
    "start_time": "2024-04-15T13:42:13.982Z"
   },
   {
    "duration": 18,
    "start_time": "2024-04-15T13:42:14.005Z"
   },
   {
    "duration": 46,
    "start_time": "2024-04-15T13:42:14.025Z"
   },
   {
    "duration": 20,
    "start_time": "2024-04-15T13:42:14.073Z"
   },
   {
    "duration": 19,
    "start_time": "2024-04-15T13:42:14.095Z"
   },
   {
    "duration": 50,
    "start_time": "2024-04-15T13:42:14.116Z"
   },
   {
    "duration": 15,
    "start_time": "2024-04-15T13:42:14.168Z"
   },
   {
    "duration": 14,
    "start_time": "2024-04-15T13:42:14.185Z"
   },
   {
    "duration": 65,
    "start_time": "2024-04-15T13:42:14.201Z"
   },
   {
    "duration": 19,
    "start_time": "2024-04-15T13:42:14.268Z"
   },
   {
    "duration": 84,
    "start_time": "2024-04-15T13:42:14.290Z"
   },
   {
    "duration": 6,
    "start_time": "2024-04-15T13:42:14.376Z"
   },
   {
    "duration": 11,
    "start_time": "2024-04-15T13:42:14.384Z"
   },
   {
    "duration": 6,
    "start_time": "2024-04-15T13:42:14.396Z"
   },
   {
    "duration": 9,
    "start_time": "2024-04-15T13:42:14.404Z"
   },
   {
    "duration": 57,
    "start_time": "2024-04-15T13:42:14.415Z"
   },
   {
    "duration": 8,
    "start_time": "2024-04-15T13:42:14.474Z"
   }
  ],
  "kernelspec": {
   "display_name": "Python 3 (ipykernel)",
   "language": "python",
   "name": "python3"
  },
  "language_info": {
   "codemirror_mode": {
    "name": "ipython",
    "version": 3
   },
   "file_extension": ".py",
   "mimetype": "text/x-python",
   "name": "python",
   "nbconvert_exporter": "python",
   "pygments_lexer": "ipython3",
   "version": "3.9.5"
  },
  "toc": {
   "base_numbering": 1,
   "nav_menu": {
    "height": "609.983px",
    "width": "599.983px"
   },
   "number_sections": true,
   "sideBar": true,
   "skip_h1_title": true,
   "title_cell": "Table of Contents",
   "title_sidebar": "Contents",
   "toc_cell": false,
   "toc_position": {
    "height": "calc(100% - 180px)",
    "left": "10px",
    "top": "150px",
    "width": "324.188px"
   },
   "toc_section_display": true,
   "toc_window_display": true
  }
 },
 "nbformat": 4,
 "nbformat_minor": 2
}
